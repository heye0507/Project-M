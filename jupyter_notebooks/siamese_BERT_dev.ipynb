{
 "cells": [
  {
   "cell_type": "code",
   "execution_count": 1,
   "metadata": {},
   "outputs": [],
   "source": [
    "%reload_ext autoreload\n",
    "%autoreload 2\n",
    "%matplotlib inline"
   ]
  },
  {
   "cell_type": "code",
   "execution_count": 10,
   "metadata": {},
   "outputs": [],
   "source": [
    "import numpy as np\n",
    "import pandas as pd\n",
    "import os\n",
    "import re\n",
    "\n",
    "from fastai.vision import *\n",
    "from fastai import *"
   ]
  },
  {
   "cell_type": "code",
   "execution_count": 3,
   "metadata": {},
   "outputs": [
    {
     "data": {
      "text/plain": [
       "71"
      ]
     },
     "execution_count": 3,
     "metadata": {},
     "output_type": "execute_result"
    }
   ],
   "source": [
    "path = Path('/home/jupyter/insight_project/Project-M/data/raw')\n",
    "filenames = path.ls()\n",
    "filenames.remove(Path('/home/jupyter/insight_project/Project-M/data/raw/raw_data.txt'))\n",
    "len(filenames)"
   ]
  },
  {
   "cell_type": "code",
   "execution_count": 4,
   "metadata": {},
   "outputs": [],
   "source": [
    "with open(filenames[0]) as file:\n",
    "    data = json.load(file)"
   ]
  },
  {
   "cell_type": "code",
   "execution_count": 5,
   "metadata": {},
   "outputs": [
    {
     "data": {
      "text/plain": [
       "768"
      ]
     },
     "execution_count": 5,
     "metadata": {},
     "output_type": "execute_result"
    }
   ],
   "source": [
    "len(data['data_points'][1]['embedding'])"
   ]
  },
  {
   "cell_type": "code",
   "execution_count": 6,
   "metadata": {},
   "outputs": [],
   "source": [
    "body, label, source, emb = [], [], [], []\n",
    "with open(filenames[0]) as file:\n",
    "    data = json.load(file)\n",
    "for item in data['data_points']:\n",
    "    body.append(item['body'])\n",
    "    label.append(item['label'])\n",
    "    source.append(item['source'])\n",
    "    emb.append(item['embedding'])\n",
    "df = pd.DataFrame(list(zip(body, label, source, emb)),\n",
    "                     columns = ['Body', 'Label', 'Source', 'Emb'])"
   ]
  },
  {
   "cell_type": "code",
   "execution_count": 7,
   "metadata": {},
   "outputs": [
    {
     "data": {
      "text/plain": [
       "0    149\n",
       "1     73\n",
       "Name: Label, dtype: int64"
      ]
     },
     "execution_count": 7,
     "metadata": {},
     "output_type": "execute_result"
    }
   ],
   "source": [
    "df['Label'].value_counts()"
   ]
  },
  {
   "cell_type": "code",
   "execution_count": 8,
   "metadata": {},
   "outputs": [
    {
     "data": {
      "text/html": [
       "<div>\n",
       "<style scoped>\n",
       "    .dataframe tbody tr th:only-of-type {\n",
       "        vertical-align: middle;\n",
       "    }\n",
       "\n",
       "    .dataframe tbody tr th {\n",
       "        vertical-align: top;\n",
       "    }\n",
       "\n",
       "    .dataframe thead th {\n",
       "        text-align: right;\n",
       "    }\n",
       "</style>\n",
       "<table border=\"1\" class=\"dataframe\">\n",
       "  <thead>\n",
       "    <tr style=\"text-align: right;\">\n",
       "      <th></th>\n",
       "      <th>Body</th>\n",
       "      <th>Label</th>\n",
       "      <th>Source</th>\n",
       "      <th>Emb</th>\n",
       "    </tr>\n",
       "  </thead>\n",
       "  <tbody>\n",
       "    <tr>\n",
       "      <td>0</td>\n",
       "      <td>@desperosolace @yu_malaya I agree! It's ridicu...</td>\n",
       "      <td>1</td>\n",
       "      <td>twitter</td>\n",
       "      <td>[0.22415, -0.0983968, 0.380258, -0.170204, 0.1...</td>\n",
       "    </tr>\n",
       "    <tr>\n",
       "      <td>1</td>\n",
       "      <td>@yu_malaya it's total BS!!! i hate this so muc...</td>\n",
       "      <td>1</td>\n",
       "      <td>twitter</td>\n",
       "      <td>[0.298532, -0.673054, 0.206383, 0.0876255, 0.2...</td>\n",
       "    </tr>\n",
       "    <tr>\n",
       "      <td>2</td>\n",
       "      <td>@owedbetter_ I wanted to withdraw my applicati...</td>\n",
       "      <td>1</td>\n",
       "      <td>twitter</td>\n",
       "      <td>[-0.215192, -0.722328, 0.343752, -0.305405, 0....</td>\n",
       "    </tr>\n",
       "    <tr>\n",
       "      <td>3</td>\n",
       "      <td>Good question. My situation was a bit differen...</td>\n",
       "      <td>0</td>\n",
       "      <td>reddit</td>\n",
       "      <td>[0.0647961, -0.201043, 0.235075, -0.241841, 0....</td>\n",
       "    </tr>\n",
       "    <tr>\n",
       "      <td>4</td>\n",
       "      <td>\"Like me, you can also achieve your IELTS band...</td>\n",
       "      <td>0</td>\n",
       "      <td>twitter</td>\n",
       "      <td>[0.0020502, -0.629544, 0.299081, -0.0883578, 0...</td>\n",
       "    </tr>\n",
       "  </tbody>\n",
       "</table>\n",
       "</div>"
      ],
      "text/plain": [
       "                                                Body  Label   Source  \\\n",
       "0  @desperosolace @yu_malaya I agree! It's ridicu...      1  twitter   \n",
       "1  @yu_malaya it's total BS!!! i hate this so muc...      1  twitter   \n",
       "2  @owedbetter_ I wanted to withdraw my applicati...      1  twitter   \n",
       "3  Good question. My situation was a bit differen...      0   reddit   \n",
       "4  \"Like me, you can also achieve your IELTS band...      0  twitter   \n",
       "\n",
       "                                                 Emb  \n",
       "0  [0.22415, -0.0983968, 0.380258, -0.170204, 0.1...  \n",
       "1  [0.298532, -0.673054, 0.206383, 0.0876255, 0.2...  \n",
       "2  [-0.215192, -0.722328, 0.343752, -0.305405, 0....  \n",
       "3  [0.0647961, -0.201043, 0.235075, -0.241841, 0....  \n",
       "4  [0.0020502, -0.629544, 0.299081, -0.0883578, 0...  "
      ]
     },
     "execution_count": 8,
     "metadata": {},
     "output_type": "execute_result"
    }
   ],
   "source": [
    "df.head()"
   ]
  },
  {
   "cell_type": "code",
   "execution_count": 9,
   "metadata": {},
   "outputs": [
    {
     "data": {
      "text/html": [
       "<div>\n",
       "<style scoped>\n",
       "    .dataframe tbody tr th:only-of-type {\n",
       "        vertical-align: middle;\n",
       "    }\n",
       "\n",
       "    .dataframe tbody tr th {\n",
       "        vertical-align: top;\n",
       "    }\n",
       "\n",
       "    .dataframe thead th {\n",
       "        text-align: right;\n",
       "    }\n",
       "</style>\n",
       "<table border=\"1\" class=\"dataframe\">\n",
       "  <thead>\n",
       "    <tr style=\"text-align: right;\">\n",
       "      <th></th>\n",
       "      <th>Body</th>\n",
       "      <th>Label</th>\n",
       "      <th>Source</th>\n",
       "      <th>Emb</th>\n",
       "    </tr>\n",
       "  </thead>\n",
       "  <tbody>\n",
       "    <tr>\n",
       "      <td>0</td>\n",
       "      <td>@onlyjungmo wtf, its twitter not ielts or anyt...</td>\n",
       "      <td>0</td>\n",
       "      <td>twitter</td>\n",
       "      <td>[0.284056, -0.801095, 0.13843, 0.0463759, -0.2...</td>\n",
       "    </tr>\n",
       "    <tr>\n",
       "      <td>1</td>\n",
       "      <td>So my parents just told me to look for postgra...</td>\n",
       "      <td>1</td>\n",
       "      <td>twitter</td>\n",
       "      <td>[-0.176495, -0.851798, 0.0101, -0.166101, 0.47...</td>\n",
       "    </tr>\n",
       "    <tr>\n",
       "      <td>2</td>\n",
       "      <td>\\&amp;gt; I was wondering what advice you might ha...</td>\n",
       "      <td>0</td>\n",
       "      <td>reddit</td>\n",
       "      <td>[-0.199485, -0.207016, -0.124386, -0.191996, -...</td>\n",
       "    </tr>\n",
       "    <tr>\n",
       "      <td>3</td>\n",
       "      <td>udh semingguan diajakin main mata sama mba2 ef...</td>\n",
       "      <td>0</td>\n",
       "      <td>twitter</td>\n",
       "      <td>[-0.209483, -0.617773, 0.0310961, -0.104769, 0...</td>\n",
       "    </tr>\n",
       "    <tr>\n",
       "      <td>4</td>\n",
       "      <td>I can only use words to convey this and that's...</td>\n",
       "      <td>0</td>\n",
       "      <td>reddit</td>\n",
       "      <td>[0.210019, 0.0631881, 0.271043, 0.0633598, -0....</td>\n",
       "    </tr>\n",
       "  </tbody>\n",
       "</table>\n",
       "</div>"
      ],
      "text/plain": [
       "                                                Body  Label   Source  \\\n",
       "0  @onlyjungmo wtf, its twitter not ielts or anyt...      0  twitter   \n",
       "1  So my parents just told me to look for postgra...      1  twitter   \n",
       "2  \\&gt; I was wondering what advice you might ha...      0   reddit   \n",
       "3  udh semingguan diajakin main mata sama mba2 ef...      0  twitter   \n",
       "4  I can only use words to convey this and that's...      0   reddit   \n",
       "\n",
       "                                                 Emb  \n",
       "0  [0.284056, -0.801095, 0.13843, 0.0463759, -0.2...  \n",
       "1  [-0.176495, -0.851798, 0.0101, -0.166101, 0.47...  \n",
       "2  [-0.199485, -0.207016, -0.124386, -0.191996, -...  \n",
       "3  [-0.209483, -0.617773, 0.0310961, -0.104769, 0...  \n",
       "4  [0.210019, 0.0631881, 0.271043, 0.0633598, -0....  "
      ]
     },
     "execution_count": 9,
     "metadata": {},
     "output_type": "execute_result"
    }
   ],
   "source": [
    "df = df.sample(frac=1, random_state=42).reset_index(drop=True)\n",
    "df.head()"
   ]
  },
  {
   "cell_type": "code",
   "execution_count": 10,
   "metadata": {},
   "outputs": [],
   "source": [
    "i = round(df.shape[0] * 0.7)\n",
    "df_train = df[:i]\n",
    "df_valid = df[i:]"
   ]
  },
  {
   "cell_type": "code",
   "execution_count": 11,
   "metadata": {},
   "outputs": [
    {
     "data": {
      "text/plain": [
       "0    110\n",
       "1     45\n",
       "Name: Label, dtype: int64"
      ]
     },
     "execution_count": 11,
     "metadata": {},
     "output_type": "execute_result"
    }
   ],
   "source": [
    "df_train['Label'].value_counts()"
   ]
  },
  {
   "cell_type": "code",
   "execution_count": 12,
   "metadata": {},
   "outputs": [
    {
     "data": {
      "text/plain": [
       "0    39\n",
       "1    28\n",
       "Name: Label, dtype: int64"
      ]
     },
     "execution_count": 12,
     "metadata": {},
     "output_type": "execute_result"
    }
   ],
   "source": [
    "df_valid['Label'].value_counts()"
   ]
  },
  {
   "cell_type": "code",
   "execution_count": 14,
   "metadata": {},
   "outputs": [],
   "source": [
    "#Test cell\n",
    "test_item = (df.iloc[3]['Body'],\n",
    "             df.iloc[3]['Label'],\n",
    "             df.iloc[3]['Emb'])"
   ]
  },
  {
   "cell_type": "code",
   "execution_count": 17,
   "metadata": {},
   "outputs": [
    {
     "data": {
      "text/plain": [
       "tensor(0)"
      ]
     },
     "execution_count": 17,
     "metadata": {},
     "output_type": "execute_result"
    }
   ],
   "source": [
    "torch.tensor(test_item[1])"
   ]
  },
  {
   "cell_type": "code",
   "execution_count": 8,
   "metadata": {},
   "outputs": [],
   "source": [
    "class SiameseDataset(Dataset):\n",
    "    def __init__(self,df):\n",
    "        self.df = df\n",
    "        \n",
    "    def __len__(self):\n",
    "        return len(self.df)\n",
    "    \n",
    "    def __getitem__(self,i):\n",
    "        same = lambda : random.randint(0,1) #construct same pair or different pair\n",
    "        return self.siameseItem(i,same())\n",
    "    \n",
    "    def siameseItem(self,i,same):\n",
    "        _label = self.df.iloc[i]['Label']\n",
    "        if same:\n",
    "            same_label_list = np.where(self.df['Label'] == _label)[0]\n",
    "            if len(same_label_list) > 1: #have more than 1 items, then don't pick itself\n",
    "                same_label_list = np.delete(same_label_list,np.argwhere(same_label_list==i))\n",
    "            msg_index = same_label_list[np.random.randint(0,len(same_label_list))] #pick another msg\n",
    "        else:\n",
    "            diff_label_list = np.where(self.df['Label'] != _label)[0]\n",
    "            msg_index = diff_label_list[np.random.randint(0,len(diff_label_list))]\n",
    "        return self.constructSiamese(i,msg_index,same)\n",
    "    \n",
    "    def constructSiamese(self,item_1_idx,item_2_idx,same):\n",
    "        item_1 = (torch.tensor(self.df.iloc[item_1_idx]['Emb']),\n",
    "                  torch.tensor(self.df.iloc[item_1_idx]['Label'])\n",
    "                 )\n",
    "        item_2 = (torch.tensor(self.df.iloc[item_2_idx]['Emb']),\n",
    "                  torch.tensor(self.df.iloc[item_2_idx]['Label'])\n",
    "                  )\n",
    "        return ([item_1,item_2],same)"
   ]
  },
  {
   "cell_type": "code",
   "execution_count": 9,
   "metadata": {},
   "outputs": [
    {
     "data": {
      "text/html": [
       "<div>\n",
       "<style scoped>\n",
       "    .dataframe tbody tr th:only-of-type {\n",
       "        vertical-align: middle;\n",
       "    }\n",
       "\n",
       "    .dataframe tbody tr th {\n",
       "        vertical-align: top;\n",
       "    }\n",
       "\n",
       "    .dataframe thead th {\n",
       "        text-align: right;\n",
       "    }\n",
       "</style>\n",
       "<table border=\"1\" class=\"dataframe\">\n",
       "  <thead>\n",
       "    <tr style=\"text-align: right;\">\n",
       "      <th></th>\n",
       "      <th>Body</th>\n",
       "      <th>Label</th>\n",
       "      <th>Source</th>\n",
       "      <th>Emb</th>\n",
       "      <th>fn</th>\n",
       "    </tr>\n",
       "  </thead>\n",
       "  <tbody>\n",
       "    <tr>\n",
       "      <td>0</td>\n",
       "      <td>@desperosolace @yu_malaya I agree! It's ridicu...</td>\n",
       "      <td>1</td>\n",
       "      <td>twitter</td>\n",
       "      <td>[0.22415, -0.0983968, 0.380258, -0.170204, 0.1...</td>\n",
       "      <td>0</td>\n",
       "    </tr>\n",
       "    <tr>\n",
       "      <td>1</td>\n",
       "      <td>@yu_malaya it's total BS!!! i hate this so muc...</td>\n",
       "      <td>1</td>\n",
       "      <td>twitter</td>\n",
       "      <td>[0.298532, -0.673054, 0.206383, 0.0876255, 0.2...</td>\n",
       "      <td>1</td>\n",
       "    </tr>\n",
       "    <tr>\n",
       "      <td>2</td>\n",
       "      <td>@owedbetter_ I wanted to withdraw my applicati...</td>\n",
       "      <td>1</td>\n",
       "      <td>twitter</td>\n",
       "      <td>[-0.215192, -0.722328, 0.343752, -0.305405, 0....</td>\n",
       "      <td>2</td>\n",
       "    </tr>\n",
       "    <tr>\n",
       "      <td>3</td>\n",
       "      <td>Good question. My situation was a bit differen...</td>\n",
       "      <td>0</td>\n",
       "      <td>reddit</td>\n",
       "      <td>[0.0647961, -0.201043, 0.235075, -0.241841, 0....</td>\n",
       "      <td>3</td>\n",
       "    </tr>\n",
       "    <tr>\n",
       "      <td>4</td>\n",
       "      <td>\"Like me, you can also achieve your IELTS band...</td>\n",
       "      <td>0</td>\n",
       "      <td>twitter</td>\n",
       "      <td>[0.0020502, -0.629544, 0.299081, -0.0883578, 0...</td>\n",
       "      <td>4</td>\n",
       "    </tr>\n",
       "  </tbody>\n",
       "</table>\n",
       "</div>"
      ],
      "text/plain": [
       "                                                Body  Label   Source  \\\n",
       "0  @desperosolace @yu_malaya I agree! It's ridicu...      1  twitter   \n",
       "1  @yu_malaya it's total BS!!! i hate this so muc...      1  twitter   \n",
       "2  @owedbetter_ I wanted to withdraw my applicati...      1  twitter   \n",
       "3  Good question. My situation was a bit differen...      0   reddit   \n",
       "4  \"Like me, you can also achieve your IELTS band...      0  twitter   \n",
       "\n",
       "                                                 Emb  fn  \n",
       "0  [0.22415, -0.0983968, 0.380258, -0.170204, 0.1...   0  \n",
       "1  [0.298532, -0.673054, 0.206383, 0.0876255, 0.2...   1  \n",
       "2  [-0.215192, -0.722328, 0.343752, -0.305405, 0....   2  \n",
       "3  [0.0647961, -0.201043, 0.235075, -0.241841, 0....   3  \n",
       "4  [0.0020502, -0.629544, 0.299081, -0.0883578, 0...   4  "
      ]
     },
     "execution_count": 9,
     "metadata": {},
     "output_type": "execute_result"
    }
   ],
   "source": [
    "df['fn'] = df.index\n",
    "df.head()"
   ]
  },
  {
   "cell_type": "code",
   "execution_count": 28,
   "metadata": {},
   "outputs": [
    {
     "data": {
      "text/plain": [
       "torch.Size([768])"
      ]
     },
     "execution_count": 28,
     "metadata": {},
     "output_type": "execute_result"
    }
   ],
   "source": [
    "torch.tensor(df[df['fn'].values == 0]['Emb'].values[0]).shape"
   ]
  },
  {
   "cell_type": "code",
   "execution_count": 29,
   "metadata": {},
   "outputs": [],
   "source": [
    "class EmbeddingItemList(ImageList):\n",
    "    def open(self,fn):\n",
    "        regex = re.compile(r'\\d+')\n",
    "        fn = re.findall(regex,fn)\n",
    "        df = self.inner_df[self.inner_df['fn'].values == int(fn[0])] #single row\n",
    "        return torch.tensor(df['Emb'].values[0])"
   ]
  },
  {
   "cell_type": "code",
   "execution_count": 13,
   "metadata": {},
   "outputs": [
    {
     "data": {
      "text/html": [
       "<div>\n",
       "<style scoped>\n",
       "    .dataframe tbody tr th:only-of-type {\n",
       "        vertical-align: middle;\n",
       "    }\n",
       "\n",
       "    .dataframe tbody tr th {\n",
       "        vertical-align: top;\n",
       "    }\n",
       "\n",
       "    .dataframe thead th {\n",
       "        text-align: right;\n",
       "    }\n",
       "</style>\n",
       "<table border=\"1\" class=\"dataframe\">\n",
       "  <thead>\n",
       "    <tr style=\"text-align: right;\">\n",
       "      <th></th>\n",
       "      <th>Body</th>\n",
       "      <th>Label</th>\n",
       "      <th>Source</th>\n",
       "      <th>Emb</th>\n",
       "    </tr>\n",
       "  </thead>\n",
       "  <tbody>\n",
       "    <tr>\n",
       "      <td>0</td>\n",
       "      <td>@desperosolace @yu_malaya I agree! It's ridicu...</td>\n",
       "      <td>1</td>\n",
       "      <td>twitter</td>\n",
       "      <td>[0.22415, -0.0983968, 0.380258, -0.170204, 0.1...</td>\n",
       "    </tr>\n",
       "    <tr>\n",
       "      <td>1</td>\n",
       "      <td>@yu_malaya it's total BS!!! i hate this so muc...</td>\n",
       "      <td>1</td>\n",
       "      <td>twitter</td>\n",
       "      <td>[0.298532, -0.673054, 0.206383, 0.0876255, 0.2...</td>\n",
       "    </tr>\n",
       "    <tr>\n",
       "      <td>2</td>\n",
       "      <td>@owedbetter_ I wanted to withdraw my applicati...</td>\n",
       "      <td>1</td>\n",
       "      <td>twitter</td>\n",
       "      <td>[-0.215192, -0.722328, 0.343752, -0.305405, 0....</td>\n",
       "    </tr>\n",
       "    <tr>\n",
       "      <td>3</td>\n",
       "      <td>Good question. My situation was a bit differen...</td>\n",
       "      <td>0</td>\n",
       "      <td>reddit</td>\n",
       "      <td>[0.0647961, -0.201043, 0.235075, -0.241841, 0....</td>\n",
       "    </tr>\n",
       "    <tr>\n",
       "      <td>4</td>\n",
       "      <td>\"Like me, you can also achieve your IELTS band...</td>\n",
       "      <td>0</td>\n",
       "      <td>twitter</td>\n",
       "      <td>[0.0020502, -0.629544, 0.299081, -0.0883578, 0...</td>\n",
       "    </tr>\n",
       "  </tbody>\n",
       "</table>\n",
       "</div>"
      ],
      "text/plain": [
       "                                                Body  Label   Source  \\\n",
       "0  @desperosolace @yu_malaya I agree! It's ridicu...      1  twitter   \n",
       "1  @yu_malaya it's total BS!!! i hate this so muc...      1  twitter   \n",
       "2  @owedbetter_ I wanted to withdraw my applicati...      1  twitter   \n",
       "3  Good question. My situation was a bit differen...      0   reddit   \n",
       "4  \"Like me, you can also achieve your IELTS band...      0  twitter   \n",
       "\n",
       "                                                 Emb  \n",
       "0  [0.22415, -0.0983968, 0.380258, -0.170204, 0.1...  \n",
       "1  [0.298532, -0.673054, 0.206383, 0.0876255, 0.2...  \n",
       "2  [-0.215192, -0.722328, 0.343752, -0.305405, 0....  \n",
       "3  [0.0647961, -0.201043, 0.235075, -0.241841, 0....  \n",
       "4  [0.0020502, -0.629544, 0.299081, -0.0883578, 0...  "
      ]
     },
     "execution_count": 13,
     "metadata": {},
     "output_type": "execute_result"
    }
   ],
   "source": [
    "df.head()"
   ]
  },
  {
   "cell_type": "code",
   "execution_count": 30,
   "metadata": {},
   "outputs": [],
   "source": [
    "data = (EmbeddingItemList\n",
    "        .from_df(df,path=path,cols='fn')\n",
    "        .split_by_rand_pct(0.3,seed=42)\n",
    "        .label_from_df(cols='Label')\n",
    "       )"
   ]
  },
  {
   "cell_type": "code",
   "execution_count": 35,
   "metadata": {},
   "outputs": [
    {
     "data": {
      "text/plain": [
       "0    103\n",
       "1     53\n",
       "Name: Label, dtype: int64"
      ]
     },
     "execution_count": 35,
     "metadata": {},
     "output_type": "execute_result"
    }
   ],
   "source": [
    "data.train.inner_df['Label'].value_counts()"
   ]
  },
  {
   "cell_type": "code",
   "execution_count": 37,
   "metadata": {},
   "outputs": [
    {
     "data": {
      "text/plain": [
       "0    46\n",
       "1    20\n",
       "Name: Label, dtype: int64"
      ]
     },
     "execution_count": 37,
     "metadata": {},
     "output_type": "execute_result"
    }
   ],
   "source": [
    "data.valid.inner_df['Label'].value_counts()"
   ]
  },
  {
   "cell_type": "code",
   "execution_count": 38,
   "metadata": {},
   "outputs": [],
   "source": [
    "train_dl = DataLoader(\n",
    "    dataset = SiameseDataset(data.train.inner_df),\n",
    "    batch_size = 16,\n",
    "    shuffle = True,\n",
    "    num_workers = 0\n",
    ")\n",
    "\n",
    "valid_dl = DataLoader(\n",
    "    dataset = SiameseDataset(data.valid.inner_df),\n",
    "    batch_size = 16,\n",
    "    num_workers = 0\n",
    ")"
   ]
  },
  {
   "cell_type": "code",
   "execution_count": 39,
   "metadata": {},
   "outputs": [],
   "source": [
    "data = ImageDataBunch(train_dl,valid_dl)"
   ]
  },
  {
   "cell_type": "code",
   "execution_count": 40,
   "metadata": {},
   "outputs": [],
   "source": [
    "x, y = next(iter(data.train_dl))"
   ]
  },
  {
   "cell_type": "markdown",
   "metadata": {},
   "source": [
    "# Understand the data"
   ]
  },
  {
   "cell_type": "markdown",
   "metadata": {},
   "source": [
    "input x: \n",
    "1. a tuple of 2 items, \n",
    "2. x[0] x[1] a tuple of 3 items\n",
    "3. x[0][0], x[1][0], body of message\n",
    "4. x[0][1], x[1][1], label of the item for each in df\n",
    "5. x[0][2], x[1][2], emb of the item for each in df\n",
    "\n",
    "y, siamese indicator, 0 means diff, 1 means same\n",
    "\n",
    "Note: x[0][0],and x[0][1], body and label list are used for debugging. \n",
    "\n",
    "Model should only train on embedding "
   ]
  },
  {
   "cell_type": "code",
   "execution_count": 41,
   "metadata": {},
   "outputs": [
    {
     "data": {
      "text/plain": [
       "(2, 16)"
      ]
     },
     "execution_count": 41,
     "metadata": {},
     "output_type": "execute_result"
    }
   ],
   "source": [
    "len(x),len(y)"
   ]
  },
  {
   "cell_type": "code",
   "execution_count": 42,
   "metadata": {},
   "outputs": [
    {
     "data": {
      "text/plain": [
       "(2, 2)"
      ]
     },
     "execution_count": 42,
     "metadata": {},
     "output_type": "execute_result"
    }
   ],
   "source": [
    "len(x[0]),len(x[1])"
   ]
  },
  {
   "cell_type": "code",
   "execution_count": 43,
   "metadata": {},
   "outputs": [
    {
     "data": {
      "text/plain": [
       "16"
      ]
     },
     "execution_count": 43,
     "metadata": {},
     "output_type": "execute_result"
    }
   ],
   "source": [
    "len(x[0][0])"
   ]
  },
  {
   "cell_type": "code",
   "execution_count": 44,
   "metadata": {},
   "outputs": [
    {
     "data": {
      "text/plain": [
       "(tensor(0), tensor(0), tensor(1))"
      ]
     },
     "execution_count": 44,
     "metadata": {},
     "output_type": "execute_result"
    }
   ],
   "source": [
    "x[0][1][0],x[1][1][0],y[0] \n",
    "#check labels,\n",
    "#item_1 has label 1, item_2 has label 0, siamese ground truth has label 0"
   ]
  },
  {
   "cell_type": "code",
   "execution_count": 45,
   "metadata": {},
   "outputs": [
    {
     "data": {
      "text/plain": [
       "(torch.Size([768]), torch.Size([768]))"
      ]
     },
     "execution_count": 45,
     "metadata": {},
     "output_type": "execute_result"
    }
   ],
   "source": [
    "x[0][0][0].shape,x[1][0][0].shape"
   ]
  },
  {
   "cell_type": "code",
   "execution_count": 46,
   "metadata": {},
   "outputs": [
    {
     "data": {
      "text/plain": [
       "(torch.Size([16, 768]), torch.Size([16, 768]))"
      ]
     },
     "execution_count": 46,
     "metadata": {},
     "output_type": "execute_result"
    }
   ],
   "source": [
    "x[0][0].shape,x[1][0].shape"
   ]
  },
  {
   "cell_type": "code",
   "execution_count": 121,
   "metadata": {},
   "outputs": [],
   "source": [
    "class SiameseNet(nn.Module):\n",
    "    def __init__(self,f_size):\n",
    "        super().__init__()\n",
    "        self.size = f_size\n",
    "        self.linear = nn.Linear(self.size,1,bias=True)\n",
    "        \n",
    "    def forward(self,*xb):\n",
    "        #print(xb)\n",
    "        emb_1,emb_2 = self.get_Image_Batch(xb)\n",
    "        distance = (emb_1 - emb_2).abs_()\n",
    "        #distance = F.pairwise_distance(emb_1,emb_2)\n",
    "        return self.linear(distance.float())\n",
    "    \n",
    "    def get_Image_Batch(self,xb): return xb[0][0],xb[1][0]"
   ]
  },
  {
   "cell_type": "code",
   "execution_count": 122,
   "metadata": {},
   "outputs": [],
   "source": [
    "model = SiameseNet(768)"
   ]
  },
  {
   "cell_type": "code",
   "execution_count": 123,
   "metadata": {},
   "outputs": [],
   "source": [
    "learn = Learner(data,model,loss_func=BCEWithLogitsFlat())"
   ]
  },
  {
   "cell_type": "code",
   "execution_count": 124,
   "metadata": {},
   "outputs": [
    {
     "data": {
      "text/html": [],
      "text/plain": [
       "<IPython.core.display.HTML object>"
      ]
     },
     "metadata": {},
     "output_type": "display_data"
    },
    {
     "name": "stdout",
     "output_type": "stream",
     "text": [
      "LR Finder is complete, type {learner_name}.recorder.plot() to see the graph.\n"
     ]
    }
   ],
   "source": [
    "learn.lr_find()"
   ]
  },
  {
   "cell_type": "code",
   "execution_count": 125,
   "metadata": {},
   "outputs": [
    {
     "name": "stdout",
     "output_type": "stream",
     "text": [
      "Min numerical gradient: 1.10E-06\n",
      "Min loss divided by 10: 4.37E-04\n"
     ]
    },
    {
     "data": {
      "image/png": "[encoded data removed]",
      "text/plain": [
       "<Figure size 432x288 with 1 Axes>"
      ]
     },
     "metadata": {
      "needs_background": "light"
     },
     "output_type": "display_data"
    }
   ],
   "source": [
    "learn.recorder.plot(suggestion=True,skip_end=15)"
   ]
  },
  {
   "cell_type": "code",
   "execution_count": 126,
   "metadata": {},
   "outputs": [
    {
     "data": {
      "text/html": [
       "<table border=\"1\" class=\"dataframe\">\n",
       "  <thead>\n",
       "    <tr style=\"text-align: left;\">\n",
       "      <th>epoch</th>\n",
       "      <th>train_loss</th>\n",
       "      <th>valid_loss</th>\n",
       "      <th>time</th>\n",
       "    </tr>\n",
       "  </thead>\n",
       "  <tbody>\n",
       "    <tr>\n",
       "      <td>0</td>\n",
       "      <td>0.723609</td>\n",
       "      <td>0.716584</td>\n",
       "      <td>00:00</td>\n",
       "    </tr>\n",
       "    <tr>\n",
       "      <td>1</td>\n",
       "      <td>0.715276</td>\n",
       "      <td>0.696089</td>\n",
       "      <td>00:00</td>\n",
       "    </tr>\n",
       "    <tr>\n",
       "      <td>2</td>\n",
       "      <td>0.711462</td>\n",
       "      <td>0.715083</td>\n",
       "      <td>00:00</td>\n",
       "    </tr>\n",
       "    <tr>\n",
       "      <td>3</td>\n",
       "      <td>0.705284</td>\n",
       "      <td>0.696167</td>\n",
       "      <td>00:00</td>\n",
       "    </tr>\n",
       "    <tr>\n",
       "      <td>4</td>\n",
       "      <td>0.700662</td>\n",
       "      <td>0.696940</td>\n",
       "      <td>00:00</td>\n",
       "    </tr>\n",
       "    <tr>\n",
       "      <td>5</td>\n",
       "      <td>0.697797</td>\n",
       "      <td>0.676557</td>\n",
       "      <td>00:00</td>\n",
       "    </tr>\n",
       "    <tr>\n",
       "      <td>6</td>\n",
       "      <td>0.694314</td>\n",
       "      <td>0.695321</td>\n",
       "      <td>00:00</td>\n",
       "    </tr>\n",
       "    <tr>\n",
       "      <td>7</td>\n",
       "      <td>0.694880</td>\n",
       "      <td>0.705621</td>\n",
       "      <td>00:00</td>\n",
       "    </tr>\n",
       "    <tr>\n",
       "      <td>8</td>\n",
       "      <td>0.694248</td>\n",
       "      <td>0.692006</td>\n",
       "      <td>00:00</td>\n",
       "    </tr>\n",
       "    <tr>\n",
       "      <td>9</td>\n",
       "      <td>0.693390</td>\n",
       "      <td>0.695971</td>\n",
       "      <td>00:00</td>\n",
       "    </tr>\n",
       "  </tbody>\n",
       "</table>"
      ],
      "text/plain": [
       "<IPython.core.display.HTML object>"
      ]
     },
     "metadata": {},
     "output_type": "display_data"
    }
   ],
   "source": [
    "learn.fit_one_cycle(10,1e-4)"
   ]
  },
  {
   "cell_type": "code",
   "execution_count": null,
   "metadata": {},
   "outputs": [],
   "source": []
  },
  {
   "cell_type": "code",
   "execution_count": null,
   "metadata": {},
   "outputs": [],
   "source": []
  },
  {
   "cell_type": "code",
   "execution_count": 34,
   "metadata": {},
   "outputs": [],
   "source": [
    "preds = model(x)"
   ]
  },
  {
   "cell_type": "code",
   "execution_count": 35,
   "metadata": {},
   "outputs": [
    {
     "data": {
      "text/plain": [
       "torch.Size([16, 1])"
      ]
     },
     "execution_count": 35,
     "metadata": {},
     "output_type": "execute_result"
    }
   ],
   "source": [
    "preds.shape"
   ]
  },
  {
   "cell_type": "code",
   "execution_count": 40,
   "metadata": {},
   "outputs": [
    {
     "data": {
      "text/plain": [
       "tensor([[-0.3481],\n",
       "        [-0.4289],\n",
       "        [-0.5623],\n",
       "        [-0.4056],\n",
       "        [-0.1649],\n",
       "        [-0.2686],\n",
       "        [-0.3722],\n",
       "        [-0.3888],\n",
       "        [-0.1886],\n",
       "        [-0.2015],\n",
       "        [-0.0709],\n",
       "        [-0.2238],\n",
       "        [-0.5076],\n",
       "        [-0.3619],\n",
       "        [-0.2527],\n",
       "        [-0.8882]], grad_fn=<AddmmBackward>)"
      ]
     },
     "execution_count": 40,
     "metadata": {},
     "output_type": "execute_result"
    }
   ],
   "source": [
    "preds"
   ]
  },
  {
   "cell_type": "code",
   "execution_count": 41,
   "metadata": {},
   "outputs": [
    {
     "data": {
      "text/plain": [
       "tensor(0.7120, grad_fn=<BinaryCrossEntropyWithLogitsBackward>)"
      ]
     },
     "execution_count": 41,
     "metadata": {},
     "output_type": "execute_result"
    }
   ],
   "source": [
    "BCEWithLogitsFlat()(preds,y)"
   ]
  },
  {
   "cell_type": "code",
   "execution_count": 52,
   "metadata": {},
   "outputs": [],
   "source": []
  },
  {
   "cell_type": "code",
   "execution_count": null,
   "metadata": {},
   "outputs": [],
   "source": []
  }
 ],
 "metadata": {
  "kernelspec": {
   "display_name": "Python 3",
   "language": "python",
   "name": "python3"
  },
  "language_info": {
   "codemirror_mode": {
    "name": "ipython",
    "version": 3
   },
   "file_extension": ".py",
   "mimetype": "text/x-python",
   "name": "python",
   "nbconvert_exporter": "python",
   "pygments_lexer": "ipython3",
   "version": "3.7.4"
  }
 },
 "nbformat": 4,
 "nbformat_minor": 2
}
