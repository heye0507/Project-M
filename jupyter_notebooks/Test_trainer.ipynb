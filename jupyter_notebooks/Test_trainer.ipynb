{
 "cells": [
  {
   "cell_type": "code",
   "execution_count": 1,
   "metadata": {},
   "outputs": [],
   "source": [
    "%load_ext autoreload\n",
    "%autoreload 2\n",
    "%matplotlib inline"
   ]
  },
  {
   "cell_type": "code",
   "execution_count": 2,
   "metadata": {},
   "outputs": [],
   "source": [
    "#Export\n",
    "from uti.interface import *"
   ]
  },
  {
   "cell_type": "code",
   "execution_count": 3,
   "metadata": {},
   "outputs": [
    {
     "data": {
      "text/plain": [
       "[PosixPath('/home/jupyter/insight_project/Project-M/data/preprocessed/ed91c398-31c6-437f-a9d1-462e3ccfb6fa.json'),\n",
       " PosixPath('/home/jupyter/insight_project/Project-M/data/preprocessed/example.txt'),\n",
       " PosixPath('/home/jupyter/insight_project/Project-M/data/preprocessed/ff063ea9-62b8-4f29-9faa-04a09cb5fba2.json'),\n",
       " PosixPath('/home/jupyter/insight_project/Project-M/data/preprocessed/.ipynb_checkpoints'),\n",
       " PosixPath('/home/jupyter/insight_project/Project-M/data/preprocessed/delete_test'),\n",
       " PosixPath('/home/jupyter/insight_project/Project-M/data/preprocessed/fabab216-0767-4aa5-85fa-bb8852eb30d3.json'),\n",
       " PosixPath('/home/jupyter/insight_project/Project-M/data/preprocessed/csv'),\n",
       " PosixPath('/home/jupyter/insight_project/Project-M/data/preprocessed/f6d2081a-0f79-4abf-9021-c4d254859890.json')]"
      ]
     },
     "execution_count": 3,
     "metadata": {},
     "output_type": "execute_result"
    }
   ],
   "source": [
    "path = Path('/home/jupyter/insight_project/Project-M/data/preprocessed/')\n",
    "path.ls()"
   ]
  },
  {
   "cell_type": "code",
   "execution_count": 4,
   "metadata": {},
   "outputs": [
    {
     "data": {
      "text/plain": [
       "[PosixPath('/home/jupyter/insight_project/Project-M/data/preprocessed/ed91c398-31c6-437f-a9d1-462e3ccfb6fa.json'),\n",
       " PosixPath('/home/jupyter/insight_project/Project-M/data/preprocessed/ff063ea9-62b8-4f29-9faa-04a09cb5fba2.json'),\n",
       " PosixPath('/home/jupyter/insight_project/Project-M/data/preprocessed/fabab216-0767-4aa5-85fa-bb8852eb30d3.json'),\n",
       " PosixPath('/home/jupyter/insight_project/Project-M/data/preprocessed/f6d2081a-0f79-4abf-9021-c4d254859890.json')]"
      ]
     },
     "execution_count": 4,
     "metadata": {},
     "output_type": "execute_result"
    }
   ],
   "source": [
    "test = Interface(path.ls(),eval_mode=True)\n",
    "test.path"
   ]
  },
  {
   "cell_type": "code",
   "execution_count": 5,
   "metadata": {},
   "outputs": [],
   "source": [
    "test.pre_processing(test=True,lm_path='/home/jupyter/insight_project/Project-M/data/preprocessed/csv/models')"
   ]
  },
  {
   "cell_type": "code",
   "execution_count": 6,
   "metadata": {},
   "outputs": [
    {
     "data": {
      "text/plain": [
       "(4, True)"
      ]
     },
     "execution_count": 6,
     "metadata": {},
     "output_type": "execute_result"
    }
   ],
   "source": [
    "len(test.data_list),test.eval_mode"
   ]
  },
  {
   "cell_type": "code",
   "execution_count": 7,
   "metadata": {},
   "outputs": [],
   "source": [
    "#Export\n",
    "class Trainer():\n",
    "    '''Take interface, which is preprocessed data\n",
    "        create learner base on the data\n",
    "        save the model in the dest\n",
    "    '''\n",
    "    def __init__(self,data,pre_trained=True,model_dir=None):\n",
    "        self.interface = data\n",
    "        self.pre_trained = pre_trained\n",
    "        if not os.path.exists(self.interface.csv_path/'models'):\n",
    "            os.makedirs(self.interface.csv_path/'models')\n",
    "        self.dest = self.interface.csv_path/'models'\n",
    "        #hard code path, get url when host\n",
    "        #fix\n",
    "        #################\n",
    "        self.url = '/home/jupyter/insight_project/Project-M/data/preprocessed/csv/models/general-clasifier-0.84'\n",
    "        #################\n",
    "        \n",
    "    def _create_leaner(self,one_data):\n",
    "        learn = text_classifier_learner(one_data,AWD_LSTM,drop_mult=0.5,\n",
    "                                loss_func=FlattenedLoss(LabelSmoothingCrossEntropy),\n",
    "                                metrics=[accuracy], #FBeta(beta=1)\n",
    "                                model_dir = self.dest\n",
    "                               )\n",
    "        if torch.cuda.is_available():\n",
    "            learn.to_fp16()\n",
    "        learn.load(self.url)\n",
    "        learn.freeze_to(-1)\n",
    "        return learn\n",
    "    \n",
    "    def train_individual_clasifier(self):\n",
    "        num_models = len(self.interface.data_list)\n",
    "        counter_to_print = 0\n",
    "        print('Creating models... total job =',num_models)\n",
    "        for data in self.interface.data_list:\n",
    "            print(f'Creating model #{counter_to_print+1}...')\n",
    "            learn = self._create_leaner(data)\n",
    "            learn.fit_one_cycle(1,1e-1,moms=(0.8,0.7))\n",
    "            current_valid_score = learn.recorder.metrics[0][0].item()\n",
    "            model_path = learn.save(f'{self.interface.dataset_name[counter_to_print]}_{current_valid_score:.2f}',\n",
    "                                    return_path=True, with_opt=False)\n",
    "            print(f'Model saved at {model_path}')\n",
    "            counter_to_print += 1\n",
    "#             print(f'Saving model to {self.dest}')\n",
    "#             print(f'model name: {self.interface.dataset_name[counter_to_print]}_{current_valid_score}')\n",
    "        "
   ]
  },
  {
   "cell_type": "code",
   "execution_count": 8,
   "metadata": {},
   "outputs": [],
   "source": [
    "test_train = Trainer(test)"
   ]
  },
  {
   "cell_type": "code",
   "execution_count": 9,
   "metadata": {},
   "outputs": [
    {
     "data": {
      "text/plain": [
       "['ed91c398-31c6-437f-a9d1-462e3ccfb6fa',\n",
       " 'fabab216-0767-4aa5-85fa-bb8852eb30d3',\n",
       " 'ff063ea9-62b8-4f29-9faa-04a09cb5fba2',\n",
       " 'f6d2081a-0f79-4abf-9021-c4d254859890']"
      ]
     },
     "execution_count": 9,
     "metadata": {},
     "output_type": "execute_result"
    }
   ],
   "source": [
    "test_train.interface.dataset_name"
   ]
  },
  {
   "cell_type": "code",
   "execution_count": 10,
   "metadata": {},
   "outputs": [
    {
     "name": "stdout",
     "output_type": "stream",
     "text": [
      "Creating models... total job = 4\n",
      "Creating model #1...\n"
     ]
    },
    {
     "data": {
      "text/html": [
       "<table border=\"1\" class=\"dataframe\">\n",
       "  <thead>\n",
       "    <tr style=\"text-align: left;\">\n",
       "      <th>epoch</th>\n",
       "      <th>train_loss</th>\n",
       "      <th>valid_loss</th>\n",
       "      <th>accuracy</th>\n",
       "      <th>time</th>\n",
       "    </tr>\n",
       "  </thead>\n",
       "  <tbody>\n",
       "    <tr>\n",
       "      <td>0</td>\n",
       "      <td>0.492518</td>\n",
       "      <td>0.502265</td>\n",
       "      <td>0.823529</td>\n",
       "      <td>00:07</td>\n",
       "    </tr>\n",
       "  </tbody>\n",
       "</table>"
      ],
      "text/plain": [
       "<IPython.core.display.HTML object>"
      ]
     },
     "metadata": {},
     "output_type": "display_data"
    },
    {
     "name": "stdout",
     "output_type": "stream",
     "text": [
      "Model saved at /home/jupyter/insight_project/Project-M/data/preprocessed/delete_test/models/ed91c398-31c6-437f-a9d1-462e3ccfb6fa_0.82.pth\n",
      "Creating model #2...\n"
     ]
    },
    {
     "data": {
      "text/html": [
       "<table border=\"1\" class=\"dataframe\">\n",
       "  <thead>\n",
       "    <tr style=\"text-align: left;\">\n",
       "      <th>epoch</th>\n",
       "      <th>train_loss</th>\n",
       "      <th>valid_loss</th>\n",
       "      <th>accuracy</th>\n",
       "      <th>time</th>\n",
       "    </tr>\n",
       "  </thead>\n",
       "  <tbody>\n",
       "    <tr>\n",
       "      <td>0</td>\n",
       "      <td>0.519696</td>\n",
       "      <td>0.504885</td>\n",
       "      <td>0.793814</td>\n",
       "      <td>00:01</td>\n",
       "    </tr>\n",
       "  </tbody>\n",
       "</table>"
      ],
      "text/plain": [
       "<IPython.core.display.HTML object>"
      ]
     },
     "metadata": {},
     "output_type": "display_data"
    },
    {
     "name": "stdout",
     "output_type": "stream",
     "text": [
      "Model saved at /home/jupyter/insight_project/Project-M/data/preprocessed/delete_test/models/fabab216-0767-4aa5-85fa-bb8852eb30d3_0.79.pth\n",
      "Creating model #3...\n"
     ]
    },
    {
     "data": {
      "text/html": [
       "<table border=\"1\" class=\"dataframe\">\n",
       "  <thead>\n",
       "    <tr style=\"text-align: left;\">\n",
       "      <th>epoch</th>\n",
       "      <th>train_loss</th>\n",
       "      <th>valid_loss</th>\n",
       "      <th>accuracy</th>\n",
       "      <th>time</th>\n",
       "    </tr>\n",
       "  </thead>\n",
       "  <tbody>\n",
       "    <tr>\n",
       "      <td>0</td>\n",
       "      <td>0.729507</td>\n",
       "      <td>0.509135</td>\n",
       "      <td>0.821918</td>\n",
       "      <td>00:01</td>\n",
       "    </tr>\n",
       "  </tbody>\n",
       "</table>"
      ],
      "text/plain": [
       "<IPython.core.display.HTML object>"
      ]
     },
     "metadata": {},
     "output_type": "display_data"
    },
    {
     "name": "stdout",
     "output_type": "stream",
     "text": [
      "Model saved at /home/jupyter/insight_project/Project-M/data/preprocessed/delete_test/models/ff063ea9-62b8-4f29-9faa-04a09cb5fba2_0.82.pth\n",
      "Creating model #4...\n"
     ]
    },
    {
     "data": {
      "text/html": [
       "<table border=\"1\" class=\"dataframe\">\n",
       "  <thead>\n",
       "    <tr style=\"text-align: left;\">\n",
       "      <th>epoch</th>\n",
       "      <th>train_loss</th>\n",
       "      <th>valid_loss</th>\n",
       "      <th>accuracy</th>\n",
       "      <th>time</th>\n",
       "    </tr>\n",
       "  </thead>\n",
       "  <tbody>\n",
       "    <tr>\n",
       "      <td>0</td>\n",
       "      <td>0.425655</td>\n",
       "      <td>0.439271</td>\n",
       "      <td>0.851695</td>\n",
       "      <td>00:02</td>\n",
       "    </tr>\n",
       "  </tbody>\n",
       "</table>"
      ],
      "text/plain": [
       "<IPython.core.display.HTML object>"
      ]
     },
     "metadata": {},
     "output_type": "display_data"
    },
    {
     "name": "stdout",
     "output_type": "stream",
     "text": [
      "Model saved at /home/jupyter/insight_project/Project-M/data/preprocessed/delete_test/models/f6d2081a-0f79-4abf-9021-c4d254859890_0.85.pth\n"
     ]
    }
   ],
   "source": [
    "test_train.train_individual_clasifier()"
   ]
  },
  {
   "cell_type": "code",
   "execution_count": 28,
   "metadata": {},
   "outputs": [
    {
     "name": "stdout",
     "output_type": "stream",
     "text": [
      "a is 0.87\n"
     ]
    }
   ],
   "source": [
    "a = 0.873123\n",
    "print(f'a is {a:.2f}')"
   ]
  },
  {
   "cell_type": "code",
   "execution_count": 23,
   "metadata": {},
   "outputs": [
    {
     "data": {
      "text/plain": [
       "PosixPath('/home/jupyter/insight_project/Project-M/data/preprocessed/delete_test/models')"
      ]
     },
     "execution_count": 23,
     "metadata": {},
     "output_type": "execute_result"
    }
   ],
   "source": [
    "test.dest"
   ]
  },
  {
   "cell_type": "code",
   "execution_count": 16,
   "metadata": {},
   "outputs": [
    {
     "name": "stdout",
     "output_type": "stream",
     "text": [
      "1a.pth\t\t\t    fine-tuned-enc-fwd.pth\r\n",
      "awd_lstm_baseline-0917.pth  fine-tuned-fwd.pth\r\n",
      "data_lm_large_bwd.pkl\t    general-clasifier-0.84.pth\r\n",
      "data_lm_large.pkl\t    general-clasifier-bwd-0.83.pth\r\n",
      "data_lm.pkl\t\t    models\r\n",
      "fine-tuned-bwd.pth\t    textlist_class_seed42\r\n",
      "fine-tuned-enc-bwd.pth\t    tmp.pth\r\n"
     ]
    }
   ],
   "source": [
    "!ls /home/jupyter/insight_project/Project-M/data/preprocessed/csv/models"
   ]
  },
  {
   "cell_type": "code",
   "execution_count": 1,
   "metadata": {},
   "outputs": [],
   "source": [
    "from notebook2script import *"
   ]
  },
  {
   "cell_type": "code",
   "execution_count": 2,
   "metadata": {},
   "outputs": [
    {
     "name": "stdout",
     "output_type": "stream",
     "text": [
      "Converted Test_trainer.ipynb to uti/trainer.py\n"
     ]
    }
   ],
   "source": [
    "notebook2script('Test_trainer.ipynb','trainer')"
   ]
  },
  {
   "cell_type": "code",
   "execution_count": null,
   "metadata": {},
   "outputs": [],
   "source": []
  }
 ],
 "metadata": {
  "kernelspec": {
   "display_name": "Python 3",
   "language": "python",
   "name": "python3"
  },
  "language_info": {
   "codemirror_mode": {
    "name": "ipython",
    "version": 3
   },
   "file_extension": ".py",
   "mimetype": "text/x-python",
   "name": "python",
   "nbconvert_exporter": "python",
   "pygments_lexer": "ipython3",
   "version": "3.7.4"
  }
 },
 "nbformat": 4,
 "nbformat_minor": 2
}
