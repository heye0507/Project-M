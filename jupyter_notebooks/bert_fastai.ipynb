{
 "cells": [
  {
   "cell_type": "code",
   "execution_count": 1,
   "metadata": {},
   "outputs": [],
   "source": [
    "from fastai.text import *\n",
    "from fastai import *\n",
    "\n",
    "import pandas as pd\n",
    "import numpy as np"
   ]
  },
  {
   "cell_type": "code",
   "execution_count": 2,
   "metadata": {},
   "outputs": [
    {
     "data": {
      "text/plain": [
       "71"
      ]
     },
     "execution_count": 2,
     "metadata": {},
     "output_type": "execute_result"
    }
   ],
   "source": [
    "path = Path('/home/jupyter/insight_project/Project-M/data/preprocessed/csv')\n",
    "filenames = path.ls()\n",
    "filenames.remove(Path('/home/jupyter/insight_project/Project-M/data/preprocessed/csv/models'))\n",
    "len(filenames)"
   ]
  },
  {
   "cell_type": "code",
   "execution_count": 3,
   "metadata": {},
   "outputs": [],
   "source": [
    "import random\n",
    "\n",
    "random.seed(42)\n",
    "random.shuffle(filenames)\n",
    " \n",
    "def _train_valid_split(total_filenames,train_pct=0.7):\n",
    "    '''split the train and test base on total datasets\n",
    "        return train_list and valid_list with their associated path'''\n",
    "\n",
    "    split_point = round(len(total_filenames)*train_pct)\n",
    "    assert (type(split_point) == int)\n",
    "    return total_filenames[:split_point],total_filenames[split_point:]\n",
    "\n",
    "def _get_df_from_filenames(filenames):\n",
    "    '''pass a list of filenames, return df of total'''\n",
    "    \n",
    "    dfs = []\n",
    "    for file in filenames:\n",
    "        df = pd.read_csv(file)\n",
    "        dfs.append(df)\n",
    "\n",
    "    df_total = pd.concat(dfs)\n",
    "    return df_total"
   ]
  },
  {
   "cell_type": "code",
   "execution_count": 4,
   "metadata": {},
   "outputs": [
    {
     "data": {
      "text/plain": [
       "0    11599\n",
       "1     3472\n",
       "Name: Label, dtype: int64"
      ]
     },
     "execution_count": 4,
     "metadata": {},
     "output_type": "execute_result"
    }
   ],
   "source": [
    "train_list, valid_list = _train_valid_split(filenames)\n",
    "df_train = _get_df_from_filenames(train_list)\n",
    "df_train['Label'].value_counts()"
   ]
  },
  {
   "cell_type": "code",
   "execution_count": 5,
   "metadata": {},
   "outputs": [],
   "source": [
    "from pytorch_pretrained_bert import BertTokenizer\n",
    "\n",
    "bert_tok = BertTokenizer.from_pretrained(\n",
    "    \"bert-base-uncased\",\n",
    ")"
   ]
  },
  {
   "cell_type": "code",
   "execution_count": 6,
   "metadata": {},
   "outputs": [],
   "source": [
    "class FastaiBertTokenizer(BaseTokenizer):\n",
    "    '''wrapper for fastai tokenizer'''\n",
    "    def __init__(self, tokenizer, max_seq=128, **kwargs):\n",
    "        self._pretrained_tokenizer = tokenizer\n",
    "        self.max_seq_length = max_seq\n",
    "        \n",
    "    def __call__(self,*args,**kwargs):\n",
    "        return self\n",
    "    \n",
    "    def tokenizer(self,t):\n",
    "        return [\"[CLS]\"] + self._pretrained_tokenizer.tokenize(t)[:self.max_seq_length - 2] + ['[SEP]']"
   ]
  },
  {
   "cell_type": "code",
   "execution_count": 7,
   "metadata": {},
   "outputs": [],
   "source": [
    "fastai_bert_vocab = Vocab(list(bert_tok.vocab.keys()))"
   ]
  },
  {
   "cell_type": "code",
   "execution_count": 8,
   "metadata": {},
   "outputs": [
    {
     "data": {
      "text/plain": [
       "['to', 'was', 'he', 'is', 'as', 'for', 'on', 'with', 'that', 'it']"
      ]
     },
     "execution_count": 8,
     "metadata": {},
     "output_type": "execute_result"
    }
   ],
   "source": [
    "fastai_bert_vocab.itos[2000:2010]"
   ]
  },
  {
   "cell_type": "code",
   "execution_count": 9,
   "metadata": {},
   "outputs": [],
   "source": [
    "fastai_tokenizer = Tokenizer(tok_func=FastaiBertTokenizer(bert_tok,max_seq=128),pre_rules=[fix_html],post_rules=[])"
   ]
  },
  {
   "cell_type": "code",
   "execution_count": 10,
   "metadata": {},
   "outputs": [],
   "source": [
    "processor = [OpenFileProcessor(),\n",
    "             TokenizeProcessor(tokenizer=fastai_tokenizer,include_bos=False,include_eos=False),\n",
    "             NumericalizeProcessor(vocab=fastai_bert_vocab)\n",
    "            ]"
   ]
  },
  {
   "cell_type": "code",
   "execution_count": 11,
   "metadata": {},
   "outputs": [],
   "source": [
    "from pytorch_pretrained_bert.modeling import BertConfig, BertForSequenceClassification, BertForNextSentencePrediction, BertForMaskedLM\n",
    "bert_model_class = BertForSequenceClassification.from_pretrained('bert-base-uncased', num_labels=2)\n",
    "model = bert_model_class"
   ]
  },
  {
   "cell_type": "code",
   "execution_count": 24,
   "metadata": {},
   "outputs": [],
   "source": [
    "def _get_individual_data(filepath):\n",
    "    df = pd.read_csv(filepath)\n",
    "    if df.shape[0]*0.7 < 64: \n",
    "        bs= int(df.shape[0]*0.7)\n",
    "    else: bs=64\n",
    "    data = (TextList\n",
    "            .from_df(df=df,path=path,cols='Body',vocab=fastai_bert_vocab,processor=processor)\n",
    "            .split_by_rand_pct(0.3,seed=42)\n",
    "            .label_from_df(cols='Label')\n",
    "            .databunch(bs=bs,num_workers=os.cpu_count()*4)\n",
    "           )\n",
    "    return data\n",
    "\n",
    "def _get_individual_learner(data):\n",
    "    learn = Learner(data, model,\n",
    "                      model_dir=path/'models', metrics=accuracy\n",
    "                     )\n",
    "    if torch.cuda.is_available():\n",
    "        learn.to_fp16()\n",
    "    #learn.load('general-clasifier-0.84')\n",
    "    #learn.freeze_to(-1)\n",
    "    return learn\n",
    "\n",
    "def run_valid(data_path):\n",
    "    _data_valid = _get_individual_data(data_path)\n",
    "    _learn_valid = _get_individual_learner(_data_valid)\n",
    "    _learn_valid.fit(2,1e-2)\n",
    "    return _learn_valid.recorder.metrics[0][0].item()"
   ]
  },
  {
   "cell_type": "code",
   "execution_count": null,
   "metadata": {},
   "outputs": [],
   "source": []
  },
  {
   "cell_type": "code",
   "execution_count": null,
   "metadata": {},
   "outputs": [],
   "source": []
  },
  {
   "cell_type": "code",
   "execution_count": 25,
   "metadata": {},
   "outputs": [
    {
     "data": {
      "text/html": [
       "<table border=\"1\" class=\"dataframe\">\n",
       "  <thead>\n",
       "    <tr style=\"text-align: left;\">\n",
       "      <th>epoch</th>\n",
       "      <th>train_loss</th>\n",
       "      <th>valid_loss</th>\n",
       "      <th>accuracy</th>\n",
       "      <th>time</th>\n",
       "    </tr>\n",
       "  </thead>\n",
       "  <tbody>\n",
       "    <tr>\n",
       "      <td>0</td>\n",
       "      <td>5.999864</td>\n",
       "      <td>1.092111</td>\n",
       "      <td>0.333333</td>\n",
       "      <td>00:01</td>\n",
       "    </tr>\n",
       "    <tr>\n",
       "      <td>1</td>\n",
       "      <td>3.597703</td>\n",
       "      <td>5.151484</td>\n",
       "      <td>0.333333</td>\n",
       "      <td>00:01</td>\n",
       "    </tr>\n",
       "  </tbody>\n",
       "</table>"
      ],
      "text/plain": [
       "<IPython.core.display.HTML object>"
      ]
     },
     "metadata": {},
     "output_type": "display_data"
    },
    {
     "name": "stdout",
     "output_type": "stream",
     "text": [
      "CPU times: user 1min, sys: 37.6 s, total: 1min 37s\n",
      "Wall time: 2min 3s\n"
     ]
    }
   ],
   "source": [
    "%%time\n",
    "valid_acc = []\n",
    "for file in valid_list:\n",
    "    valid_acc.append(run_valid(file))"
   ]
  },
  {
   "cell_type": "markdown",
   "metadata": {},
   "source": [
    "# Bert-base: 1 epoch with cos-scheduler "
   ]
  },
  {
   "cell_type": "code",
   "execution_count": 14,
   "metadata": {},
   "outputs": [
    {
     "data": {
      "text/plain": [
       "[0.9729729890823364,\n",
       " 0.8235294222831726,\n",
       " 0.3979591727256775,\n",
       " 0.25,\n",
       " 0.8513800501823425,\n",
       " 0.9864864945411682,\n",
       " 0.057553958147764206,\n",
       " 0.18518517911434174,\n",
       " 0.032258063554763794,\n",
       " 0.3529411852359772,\n",
       " 0.4166666865348816,\n",
       " 0.8571428656578064,\n",
       " 0.9277777671813965,\n",
       " 0.8205128312110901,\n",
       " 0.9365079998970032,\n",
       " 0.6190476417541504,\n",
       " 0.9999999403953552,\n",
       " 0.5625,\n",
       " 0.5248618721961975,\n",
       " 0.8285714387893677,\n",
       " 0.6666666865348816]"
      ]
     },
     "execution_count": 14,
     "metadata": {},
     "output_type": "execute_result"
    }
   ],
   "source": [
    "valid_acc"
   ]
  },
  {
   "cell_type": "code",
   "execution_count": 15,
   "metadata": {},
   "outputs": [
    {
     "data": {
      "text/plain": [
       "0.6224058211914131"
      ]
     },
     "execution_count": 15,
     "metadata": {},
     "output_type": "execute_result"
    }
   ],
   "source": [
    "np.mean(valid_acc)"
   ]
  },
  {
   "cell_type": "markdown",
   "metadata": {},
   "source": [
    "# Bertbase: 2 epochs with cos-scheduler"
   ]
  },
  {
   "cell_type": "code",
   "execution_count": 18,
   "metadata": {},
   "outputs": [
    {
     "data": {
      "text/plain": [
       "[0.9729729890823364,\n",
       " 0.8235294222831726,\n",
       " 0.6020408272743225,\n",
       " 0.7500000596046448,\n",
       " 0.8513800501823425,\n",
       " 0.9864864945411682,\n",
       " 0.9424460530281067,\n",
       " 0.8148148059844971,\n",
       " 0.9677419066429138,\n",
       " 0.6470588445663452,\n",
       " 0.5833333730697632,\n",
       " 0.8571428656578064,\n",
       " 0.9277777671813965,\n",
       " 0.8205128312110901,\n",
       " 0.9365079998970032,\n",
       " 0.6190476417541504,\n",
       " 0.9999999403953552,\n",
       " 0.5625,\n",
       " 0.5248618721961975,\n",
       " 0.8285714387893677,\n",
       " 0.6666666865348816]"
      ]
     },
     "execution_count": 18,
     "metadata": {},
     "output_type": "execute_result"
    }
   ],
   "source": [
    "valid_acc"
   ]
  },
  {
   "cell_type": "code",
   "execution_count": 19,
   "metadata": {},
   "outputs": [
    {
     "data": {
      "text/plain": [
       "0.7945425652322315"
      ]
     },
     "execution_count": 19,
     "metadata": {},
     "output_type": "execute_result"
    }
   ],
   "source": [
    "np.mean(valid_acc)"
   ]
  },
  {
   "cell_type": "markdown",
   "metadata": {},
   "source": [
    "# Bertbase 3: 3 epochs with consitant lr"
   ]
  },
  {
   "cell_type": "code",
   "execution_count": 22,
   "metadata": {},
   "outputs": [
    {
     "data": {
      "text/plain": [
       "[0.9729729890823364,\n",
       " 0.8235294222831726,\n",
       " 0.6020408272743225,\n",
       " 0.7500000596046448,\n",
       " 0.8513800501823425,\n",
       " 0.9864864945411682,\n",
       " 0.9424460530281067,\n",
       " 0.8148148059844971,\n",
       " 0.032258063554763794,\n",
       " 0.6470588445663452,\n",
       " 0.4166666865348816,\n",
       " 0.8571428656578064,\n",
       " 0.9277777671813965,\n",
       " 0.8205128312110901,\n",
       " 0.0634920671582222,\n",
       " 0.6190476417541504,\n",
       " 0.9999999403953552,\n",
       " 0.5625,\n",
       " 0.4751381278038025,\n",
       " 0.8285714387893677,\n",
       " 0.6666666865348816]"
      ]
     },
     "execution_count": 22,
     "metadata": {},
     "output_type": "execute_result"
    }
   ],
   "source": [
    "valid_acc"
   ]
  },
  {
   "cell_type": "code",
   "execution_count": 23,
   "metadata": {},
   "outputs": [
    {
     "data": {
      "text/plain": [
       "0.6981192220534597"
      ]
     },
     "execution_count": 23,
     "metadata": {},
     "output_type": "execute_result"
    }
   ],
   "source": [
    "np.mean(valid_acc)"
   ]
  },
  {
   "cell_type": "markdown",
   "metadata": {},
   "source": [
    "# Bertbase 4: 2 epochs with consistant lr"
   ]
  },
  {
   "cell_type": "code",
   "execution_count": 26,
   "metadata": {},
   "outputs": [
    {
     "data": {
      "text/plain": [
       "[0.027027027681469917,\n",
       " 0.1764705926179886,\n",
       " 0.6020408272743225,\n",
       " 0.7500000596046448,\n",
       " 0.8513800501823425,\n",
       " 0.9864864945411682,\n",
       " 0.9424460530281067,\n",
       " 0.8148148059844971,\n",
       " 0.9677419066429138,\n",
       " 0.3529411852359772,\n",
       " 0.4166666865348816,\n",
       " 0.1428571492433548,\n",
       " 0.9277777671813965,\n",
       " 0.8205128312110901,\n",
       " 0.0634920671582222,\n",
       " 0.380952388048172,\n",
       " 0.9999999403953552,\n",
       " 0.5625,\n",
       " 0.5248618721961975,\n",
       " 0.8285714387893677,\n",
       " 0.3333333432674408]"
      ]
     },
     "execution_count": 26,
     "metadata": {},
     "output_type": "execute_result"
    }
   ],
   "source": [
    "valid_acc"
   ]
  },
  {
   "cell_type": "code",
   "execution_count": 27,
   "metadata": {},
   "outputs": [
    {
     "data": {
      "text/plain": [
       "0.5939464041342338"
      ]
     },
     "execution_count": 27,
     "metadata": {},
     "output_type": "execute_result"
    }
   ],
   "source": [
    "np.mean(valid_acc)"
   ]
  },
  {
   "cell_type": "code",
   "execution_count": 28,
   "metadata": {},
   "outputs": [],
   "source": [
    "result = [0.5939464041342338,0.6981192220534597, 0.6224058211914131,0.7945425652322315]"
   ]
  },
  {
   "cell_type": "code",
   "execution_count": 59,
   "metadata": {},
   "outputs": [
    {
     "data": {
      "text/plain": [
       "Text(0, 0.5, 'Accuracy')"
      ]
     },
     "execution_count": 59,
     "metadata": {},
     "output_type": "execute_result"
    },
    {
     "data": {
      "image/png": "[encoded data removed]",
      "text/plain": [
       "<Figure size 432x288 with 1 Axes>"
      ]
     },
     "metadata": {
      "needs_background": "light"
     },
     "output_type": "display_data"
    }
   ],
   "source": [
    "fig = plt.figure()\n",
    "plt.bar(['1 epoch','3 epochs','1 epoch \\nwith cos-lr','2 epochs \\nwith cos-lr'],result,color=['blue','blue','yellow','yellow'])\n",
    "fig.suptitle('Const-lr                 Cos-lr', fontsize=20)\n",
    "plt.xlabel('Epoch numbers', fontsize=18)\n",
    "plt.ylabel('Accuracy', fontsize=18)\n",
    "# ax.set(xlabel='Experiment', ylabel='Accuracy')\n",
    "# ax.show()"
   ]
  },
  {
   "cell_type": "code",
   "execution_count": null,
   "metadata": {},
   "outputs": [],
   "source": []
  }
 ],
 "metadata": {
  "kernelspec": {
   "display_name": "Python 3",
   "language": "python",
   "name": "python3"
  },
  "language_info": {
   "codemirror_mode": {
    "name": "ipython",
    "version": 3
   },
   "file_extension": ".py",
   "mimetype": "text/x-python",
   "name": "python",
   "nbconvert_exporter": "python",
   "pygments_lexer": "ipython3",
   "version": "3.7.4"
  }
 },
 "nbformat": 4,
 "nbformat_minor": 2
}
