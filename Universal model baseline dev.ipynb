{
 "cells": [
  {
   "cell_type": "code",
   "execution_count": 1,
   "metadata": {},
   "outputs": [],
   "source": [
    "import numpy as np\n",
    "import pandas as pd\n",
    "import os\n",
    "\n",
    "from fastai.text import *\n",
    "from fastai import *"
   ]
  },
  {
   "cell_type": "code",
   "execution_count": 2,
   "metadata": {},
   "outputs": [],
   "source": [
    "path = Path('/home/jupyter/insight_project/basilica-insight-project/data/csv')"
   ]
  },
  {
   "cell_type": "code",
   "execution_count": 3,
   "metadata": {},
   "outputs": [
    {
     "data": {
      "text/plain": [
       "72"
      ]
     },
     "execution_count": 3,
     "metadata": {},
     "output_type": "execute_result"
    }
   ],
   "source": [
    "filenames = path.ls()\n",
    "len(filenames)"
   ]
  },
  {
   "cell_type": "code",
   "execution_count": 4,
   "metadata": {},
   "outputs": [],
   "source": [
    "#Uncomment if first time run this notebook\n",
    "\n",
    "# dfs = []\n",
    "# for file in filenames:\n",
    "#     if file.name == 'models': pass\n",
    "#     df = pd.read_csv(file)\n",
    "#     dfs.append(df)\n",
    "\n",
    "# df_total = pd.concat(dfs)"
   ]
  },
  {
   "cell_type": "code",
   "execution_count": 5,
   "metadata": {},
   "outputs": [
    {
     "data": {
      "text/plain": [
       "<matplotlib.axes._subplots.AxesSubplot at 0x7f419cc48e80>"
      ]
     },
     "execution_count": 5,
     "metadata": {},
     "output_type": "execute_result"
    },
    {
     "data": {
      "image/png": "[encoded data removed]",
      "text/plain": [
       "<Figure size 432x288 with 1 Axes>"
      ]
     },
     "metadata": {
      "needs_background": "light"
     },
     "output_type": "display_data"
    }
   ],
   "source": [
    "df_total['Label'].value_counts().plot(kind='bar')"
   ]
  },
  {
   "cell_type": "code",
   "execution_count": 6,
   "metadata": {},
   "outputs": [],
   "source": [
    "data_lm = (TextList\n",
    "           .from_df(df_total,path=path)\n",
    "           .split_by_rand_pct(0.1)\n",
    "           .label_for_lm()\n",
    "           .databunch(bs=64,num_workers=16)\n",
    "          )"
   ]
  },
  {
   "cell_type": "code",
   "execution_count": 13,
   "metadata": {},
   "outputs": [],
   "source": [
    "!rm -rf {path}/data_lm.pkl"
   ]
  },
  {
   "cell_type": "code",
   "execution_count": 11,
   "metadata": {},
   "outputs": [],
   "source": [
    "data_lm.save(path/'models/data_lm.pkl')"
   ]
  },
  {
   "cell_type": "code",
   "execution_count": null,
   "metadata": {},
   "outputs": [],
   "source": [
    "data_lm = load_data(path,'data_lm.pkl',bs=64)"
   ]
  },
  {
   "cell_type": "code",
   "execution_count": 7,
   "metadata": {},
   "outputs": [
    {
     "data": {
      "text/html": [
       "<table border=\"1\" class=\"dataframe\">\n",
       "  <thead>\n",
       "    <tr style=\"text-align: right;\">\n",
       "      <th>idx</th>\n",
       "      <th>text</th>\n",
       "    </tr>\n",
       "  </thead>\n",
       "  <tbody>\n",
       "    <tr>\n",
       "      <td>0</td>\n",
       "      <td>xxmaj fun and xxmaj memorable first xxmaj date xxmaj idea xxunk ? \\n \\n  xxmaj the 😋 mcdonald xxunk xxunk xxmaj date 🍦 \\n  xxmaj the xxunk xxmaj drive - in 🙈 xxmaj movie 📽 xxmaj date xxunk 🏽 \\n  xxmaj the 🥵 xxmaj xxunk xxunk 💋 xxmaj date 😳 \\n  xxmaj the purchasing me xxunk a firearm under your name xxmaj date \\n  xxmaj</td>\n",
       "    </tr>\n",
       "    <tr>\n",
       "      <td>1</td>\n",
       "      <td>no incentive to take large or long orders . \\n  * xxmaj you can not unassign orders on your own after accepting but before picking up food . xxmaj you have to contact support and if you try to unassign over 5 minutes after accepting you are \" in violation of your contract . \" \\n  * xxmaj the timer for unavailable customers is 10 minutes which seems</td>\n",
       "    </tr>\n",
       "    <tr>\n",
       "      <td>2</td>\n",
       "      <td>question went unanswered ? \\n \\n  # # # xxmaj write your question in the comments \\n \\n \\n  xxrep 19 - \\n \\n  * * xxmaj useful xxmaj links * * \\n \\n  * [ xxmaj official xxup hp : xxup wu xxmaj blog](https : / / xxunk / posts / ) \\n \\n  * [ xxmaj niantic xxmaj support](https : / / twitter.com</td>\n",
       "    </tr>\n",
       "    <tr>\n",
       "      <td>3</td>\n",
       "      <td>/ / t.co / xxunk xxbos xxunk i get that feeling often , yeah , that people are n't interested in me for other reasons . i do n't think it 's that people find you xxunk , though . xxmaj it 's just that we all in this community run the risk of xxunk on kink . xxbos xxup osha 's xxmaj website - https : / / t.co</td>\n",
       "    </tr>\n",
       "    <tr>\n",
       "      <td>4</td>\n",
       "      <td>def not genius ) . xxmaj markets have a way to humble you . xxbos i just found another job . xxmaj it took about 6 weeks . xxmaj the startup paid exceptionally well . i think i came thru the whole thing quite well . xxmaj stock options were worth less than toilet paper however . xxbos “ xxmaj these reductions are largely unrelated to the overhaul that xxmaj</td>\n",
       "    </tr>\n",
       "  </tbody>\n",
       "</table>"
      ],
      "text/plain": [
       "<IPython.core.display.HTML object>"
      ]
     },
     "metadata": {},
     "output_type": "display_data"
    }
   ],
   "source": [
    "data_lm.show_batch()"
   ]
  },
  {
   "cell_type": "code",
   "execution_count": 46,
   "metadata": {},
   "outputs": [],
   "source": [
    "learn = language_model_learner(data_lm,AWD_LSTM,drop_mult=0.3)"
   ]
  },
  {
   "cell_type": "code",
   "execution_count": 17,
   "metadata": {},
   "outputs": [
    {
     "data": {
      "text/html": [],
      "text/plain": [
       "<IPython.core.display.HTML object>"
      ]
     },
     "metadata": {},
     "output_type": "display_data"
    },
    {
     "name": "stdout",
     "output_type": "stream",
     "text": [
      "LR Finder is complete, type {learner_name}.recorder.plot() to see the graph.\n"
     ]
    }
   ],
   "source": [
    "learn.to_fp16()\n",
    "learn.lr_find()"
   ]
  },
  {
   "cell_type": "code",
   "execution_count": 18,
   "metadata": {},
   "outputs": [
    {
     "name": "stdout",
     "output_type": "stream",
     "text": [
      "Min numerical gradient: 4.79E-02\n",
      "Min loss divided by 10: 1.74E-02\n"
     ]
    },
    {
     "data": {
      "image/png": "[encoded data removed]",
      "text/plain": [
       "<Figure size 432x288 with 1 Axes>"
      ]
     },
     "metadata": {
      "needs_background": "light"
     },
     "output_type": "display_data"
    }
   ],
   "source": [
    "learn.recorder.plot(suggestion=True)"
   ]
  },
  {
   "cell_type": "code",
   "execution_count": 19,
   "metadata": {},
   "outputs": [
    {
     "data": {
      "text/html": [
       "<table border=\"1\" class=\"dataframe\">\n",
       "  <thead>\n",
       "    <tr style=\"text-align: left;\">\n",
       "      <th>epoch</th>\n",
       "      <th>train_loss</th>\n",
       "      <th>valid_loss</th>\n",
       "      <th>accuracy</th>\n",
       "      <th>time</th>\n",
       "    </tr>\n",
       "  </thead>\n",
       "  <tbody>\n",
       "    <tr>\n",
       "      <td>0</td>\n",
       "      <td>4.079919</td>\n",
       "      <td>3.735755</td>\n",
       "      <td>0.342323</td>\n",
       "      <td>01:53</td>\n",
       "    </tr>\n",
       "  </tbody>\n",
       "</table>"
      ],
      "text/plain": [
       "<IPython.core.display.HTML object>"
      ]
     },
     "metadata": {},
     "output_type": "display_data"
    }
   ],
   "source": [
    "learn.fit_one_cycle(1,1e-2,moms=(0.8,0.7))"
   ]
  },
  {
   "cell_type": "code",
   "execution_count": 20,
   "metadata": {},
   "outputs": [
    {
     "data": {
      "text/html": [],
      "text/plain": [
       "<IPython.core.display.HTML object>"
      ]
     },
     "metadata": {},
     "output_type": "display_data"
    },
    {
     "name": "stdout",
     "output_type": "stream",
     "text": [
      "LR Finder is complete, type {learner_name}.recorder.plot() to see the graph.\n"
     ]
    },
    {
     "data": {
      "image/png": "[encoded data removed]",
      "text/plain": [
       "<Figure size 432x288 with 1 Axes>"
      ]
     },
     "metadata": {
      "needs_background": "light"
     },
     "output_type": "display_data"
    }
   ],
   "source": [
    "learn.save('1a')\n",
    "learn.unfreeze()\n",
    "learn.lr_find()\n",
    "learn.recorder.plot()"
   ]
  },
  {
   "cell_type": "code",
   "execution_count": 22,
   "metadata": {},
   "outputs": [
    {
     "name": "stdout",
     "output_type": "stream",
     "text": [
      "Min numerical gradient: 1.45E-05\n",
      "Min loss divided by 10: 5.25E-04\n"
     ]
    },
    {
     "data": {
      "image/png": "[encoded data removed]",
      "text/plain": [
       "<Figure size 432x288 with 1 Axes>"
      ]
     },
     "metadata": {
      "needs_background": "light"
     },
     "output_type": "display_data"
    }
   ],
   "source": [
    "learn.recorder.plot(suggestion=True, skip_end=25)"
   ]
  },
  {
   "cell_type": "code",
   "execution_count": 23,
   "metadata": {},
   "outputs": [
    {
     "data": {
      "text/html": [
       "<table border=\"1\" class=\"dataframe\">\n",
       "  <thead>\n",
       "    <tr style=\"text-align: left;\">\n",
       "      <th>epoch</th>\n",
       "      <th>train_loss</th>\n",
       "      <th>valid_loss</th>\n",
       "      <th>accuracy</th>\n",
       "      <th>time</th>\n",
       "    </tr>\n",
       "  </thead>\n",
       "  <tbody>\n",
       "    <tr>\n",
       "      <td>0</td>\n",
       "      <td>3.581583</td>\n",
       "      <td>3.624193</td>\n",
       "      <td>0.357513</td>\n",
       "      <td>02:16</td>\n",
       "    </tr>\n",
       "    <tr>\n",
       "      <td>1</td>\n",
       "      <td>3.428341</td>\n",
       "      <td>3.503608</td>\n",
       "      <td>0.376769</td>\n",
       "      <td>02:19</td>\n",
       "    </tr>\n",
       "    <tr>\n",
       "      <td>2</td>\n",
       "      <td>3.227065</td>\n",
       "      <td>3.410430</td>\n",
       "      <td>0.394265</td>\n",
       "      <td>02:18</td>\n",
       "    </tr>\n",
       "    <tr>\n",
       "      <td>3</td>\n",
       "      <td>3.022787</td>\n",
       "      <td>3.341191</td>\n",
       "      <td>0.405663</td>\n",
       "      <td>02:19</td>\n",
       "    </tr>\n",
       "    <tr>\n",
       "      <td>4</td>\n",
       "      <td>2.962931</td>\n",
       "      <td>3.304924</td>\n",
       "      <td>0.413136</td>\n",
       "      <td>02:19</td>\n",
       "    </tr>\n",
       "    <tr>\n",
       "      <td>5</td>\n",
       "      <td>2.774968</td>\n",
       "      <td>3.283106</td>\n",
       "      <td>0.419156</td>\n",
       "      <td>02:20</td>\n",
       "    </tr>\n",
       "    <tr>\n",
       "      <td>6</td>\n",
       "      <td>2.782223</td>\n",
       "      <td>3.271187</td>\n",
       "      <td>0.422557</td>\n",
       "      <td>02:19</td>\n",
       "    </tr>\n",
       "    <tr>\n",
       "      <td>7</td>\n",
       "      <td>2.547405</td>\n",
       "      <td>3.265389</td>\n",
       "      <td>0.424603</td>\n",
       "      <td>02:19</td>\n",
       "    </tr>\n",
       "    <tr>\n",
       "      <td>8</td>\n",
       "      <td>2.495533</td>\n",
       "      <td>3.270466</td>\n",
       "      <td>0.425140</td>\n",
       "      <td>02:19</td>\n",
       "    </tr>\n",
       "    <tr>\n",
       "      <td>9</td>\n",
       "      <td>2.449748</td>\n",
       "      <td>3.270294</td>\n",
       "      <td>0.425608</td>\n",
       "      <td>02:19</td>\n",
       "    </tr>\n",
       "  </tbody>\n",
       "</table>"
      ],
      "text/plain": [
       "<IPython.core.display.HTML object>"
      ]
     },
     "metadata": {},
     "output_type": "display_data"
    }
   ],
   "source": [
    "learn.fit_one_cycle(10,5e-4,moms=(0.8,0.7))"
   ]
  },
  {
   "cell_type": "code",
   "execution_count": 24,
   "metadata": {},
   "outputs": [],
   "source": [
    "learn.save('fine-tuned-fwd')"
   ]
  },
  {
   "cell_type": "code",
   "execution_count": 50,
   "metadata": {},
   "outputs": [
    {
     "data": {
      "text/plain": [
       "PosixPath('/home/jupyter/insight_project/basilica-insight-project/data/csv')"
      ]
     },
     "execution_count": 50,
     "metadata": {},
     "output_type": "execute_result"
    }
   ],
   "source": [
    "path"
   ]
  },
  {
   "cell_type": "code",
   "execution_count": 51,
   "metadata": {},
   "outputs": [],
   "source": [
    "learn.save(path/'models/fine-tuned-fwd',with_opt=False)"
   ]
  },
  {
   "cell_type": "code",
   "execution_count": 25,
   "metadata": {},
   "outputs": [
    {
     "name": "stdout",
     "output_type": "stream",
     "text": [
      "The AWS Cloud Security Guide For Security - https : / / t.co / @capterra https : / / t.co / AWS xxbos Elastic is now hiring ! Looking for a Open\n",
      "The AWS Cloud Security Checklist ( MPLS ) Network Research for 2019 - 11 - 19   / 2019 - 07 - 27 Amazon Web Services 2019 Best Practices for\n"
     ]
    }
   ],
   "source": [
    "TEXT = \"The AWS\"\n",
    "N_WORDS = 40\n",
    "N_SENTENCES = 2\n",
    "\n",
    "print(\"\\n\".join(learn.predict(TEXT, N_WORDS, temperature=0.75) for _ in range(N_SENTENCES)))"
   ]
  },
  {
   "cell_type": "markdown",
   "metadata": {},
   "source": [
    "# Build a classifier on 70% of the datasets"
   ]
  },
  {
   "cell_type": "code",
   "execution_count": 4,
   "metadata": {},
   "outputs": [],
   "source": [
    "filenames.remove(Path('/home/jupyter/insight_project/basilica-insight-project/data/csv/models'))"
   ]
  },
  {
   "cell_type": "code",
   "execution_count": 5,
   "metadata": {},
   "outputs": [
    {
     "data": {
      "text/plain": [
       "71"
      ]
     },
     "execution_count": 5,
     "metadata": {},
     "output_type": "execute_result"
    }
   ],
   "source": [
    "len(filenames)"
   ]
  },
  {
   "cell_type": "code",
   "execution_count": 6,
   "metadata": {},
   "outputs": [],
   "source": [
    "import random\n",
    "\n",
    "random.seed(42)\n",
    "random.shuffle(filenames)"
   ]
  },
  {
   "cell_type": "code",
   "execution_count": 7,
   "metadata": {},
   "outputs": [],
   "source": [
    "#export \n",
    "def _train_valid_split(total_filenames,train_pct=0.7):\n",
    "    '''split the train and test base on total datasets\n",
    "        return train_list and valid_list with their associated path'''\n",
    "\n",
    "    split_point = round(len(total_filenames)*train_pct)\n",
    "    assert (type(split_point) == int)\n",
    "    return total_filenames[:split_point],total_filenames[split_point:]"
   ]
  },
  {
   "cell_type": "code",
   "execution_count": 8,
   "metadata": {},
   "outputs": [],
   "source": [
    "train_list, valid_list = _train_valid_split(filenames)"
   ]
  },
  {
   "cell_type": "code",
   "execution_count": 9,
   "metadata": {},
   "outputs": [
    {
     "data": {
      "text/plain": [
       "(50, 21)"
      ]
     },
     "execution_count": 9,
     "metadata": {},
     "output_type": "execute_result"
    }
   ],
   "source": [
    "len(train_list), len(valid_list)"
   ]
  },
  {
   "cell_type": "code",
   "execution_count": 10,
   "metadata": {},
   "outputs": [],
   "source": [
    "#export \n",
    "def _get_df_from_filenames(filenames):\n",
    "    '''pass a list of filenames, return df of total'''\n",
    "    \n",
    "    dfs = []\n",
    "    for file in filenames:\n",
    "        df = pd.read_csv(file)\n",
    "        dfs.append(df)\n",
    "\n",
    "    df_total = pd.concat(dfs)\n",
    "    return df_total"
   ]
  },
  {
   "cell_type": "code",
   "execution_count": 11,
   "metadata": {},
   "outputs": [],
   "source": [
    "df_train = _get_df_from_filenames(train_list)"
   ]
  },
  {
   "cell_type": "code",
   "execution_count": 12,
   "metadata": {},
   "outputs": [
    {
     "data": {
      "text/plain": [
       "<matplotlib.axes._subplots.AxesSubplot at 0x7fd85f4a7358>"
      ]
     },
     "execution_count": 12,
     "metadata": {},
     "output_type": "execute_result"
    },
    {
     "data": {
      "image/png": "[encoded data removed]",
      "text/plain": [
       "<Figure size 432x288 with 1 Axes>"
      ]
     },
     "metadata": {
      "needs_background": "light"
     },
     "output_type": "display_data"
    }
   ],
   "source": [
    "df_train['Label'].value_counts().plot(kind='bar')"
   ]
  },
  {
   "cell_type": "code",
   "execution_count": 13,
   "metadata": {},
   "outputs": [
    {
     "data": {
      "text/plain": [
       "0    11599\n",
       "1     3472\n",
       "Name: Label, dtype: int64"
      ]
     },
     "execution_count": 13,
     "metadata": {},
     "output_type": "execute_result"
    }
   ],
   "source": [
    "df_train['Label'].value_counts()"
   ]
  },
  {
   "cell_type": "code",
   "execution_count": 14,
   "metadata": {},
   "outputs": [
    {
     "data": {
      "text/plain": [
       "0.7696237807710172"
      ]
     },
     "execution_count": 14,
     "metadata": {},
     "output_type": "execute_result"
    }
   ],
   "source": [
    "11599 / (11599+3472) #accuracy not higher than this is random guessing..."
   ]
  },
  {
   "cell_type": "code",
   "execution_count": 13,
   "metadata": {},
   "outputs": [
    {
     "data": {
      "text/html": [
       "<div>\n",
       "<style scoped>\n",
       "    .dataframe tbody tr th:only-of-type {\n",
       "        vertical-align: middle;\n",
       "    }\n",
       "\n",
       "    .dataframe tbody tr th {\n",
       "        vertical-align: top;\n",
       "    }\n",
       "\n",
       "    .dataframe thead th {\n",
       "        text-align: right;\n",
       "    }\n",
       "</style>\n",
       "<table border=\"1\" class=\"dataframe\">\n",
       "  <thead>\n",
       "    <tr style=\"text-align: right;\">\n",
       "      <th></th>\n",
       "      <th>Body</th>\n",
       "      <th>Label</th>\n",
       "      <th>Source</th>\n",
       "    </tr>\n",
       "  </thead>\n",
       "  <tbody>\n",
       "    <tr>\n",
       "      <th>0</th>\n",
       "      <td>Democratizing data analysis with #Google #BigQ...</td>\n",
       "      <td>0</td>\n",
       "      <td>twitter</td>\n",
       "    </tr>\n",
       "    <tr>\n",
       "      <th>1</th>\n",
       "      <td>Snowflake: the details of our first Data Wareh...</td>\n",
       "      <td>0</td>\n",
       "      <td>reddit</td>\n",
       "    </tr>\n",
       "    <tr>\n",
       "      <th>2</th>\n",
       "      <td>Things I should be doing: scheduling time with...</td>\n",
       "      <td>1</td>\n",
       "      <td>twitter</td>\n",
       "    </tr>\n",
       "    <tr>\n",
       "      <th>3</th>\n",
       "      <td>Another hot day, what to do? Oh yes, I know. E...</td>\n",
       "      <td>1</td>\n",
       "      <td>twitter</td>\n",
       "    </tr>\n",
       "    <tr>\n",
       "      <th>4</th>\n",
       "      <td>BigQuery and Data Studio for Model Monitoring ...</td>\n",
       "      <td>0</td>\n",
       "      <td>twitter</td>\n",
       "    </tr>\n",
       "  </tbody>\n",
       "</table>\n",
       "</div>"
      ],
      "text/plain": [
       "                                                Body  Label   Source\n",
       "0  Democratizing data analysis with #Google #BigQ...      0  twitter\n",
       "1  Snowflake: the details of our first Data Wareh...      0   reddit\n",
       "2  Things I should be doing: scheduling time with...      1  twitter\n",
       "3  Another hot day, what to do? Oh yes, I know. E...      1  twitter\n",
       "4  BigQuery and Data Studio for Model Monitoring ...      0  twitter"
      ]
     },
     "execution_count": 13,
     "metadata": {},
     "output_type": "execute_result"
    }
   ],
   "source": [
    "df_train.head()"
   ]
  },
  {
   "cell_type": "code",
   "execution_count": 14,
   "metadata": {},
   "outputs": [
    {
     "data": {
      "text/plain": [
       "14207"
      ]
     },
     "execution_count": 14,
     "metadata": {},
     "output_type": "execute_result"
    }
   ],
   "source": [
    "len(df_train['Body'].unique())"
   ]
  },
  {
   "cell_type": "code",
   "execution_count": 15,
   "metadata": {},
   "outputs": [
    {
     "data": {
      "text/plain": [
       "(15071, 3)"
      ]
     },
     "execution_count": 15,
     "metadata": {},
     "output_type": "execute_result"
    }
   ],
   "source": [
    "df_train.shape"
   ]
  },
  {
   "cell_type": "markdown",
   "metadata": {},
   "source": [
    "# check for duplicates\n",
    "\n",
    "The duplicates with all same labels are fine, the one that with same body but different labels are the problematic ones"
   ]
  },
  {
   "cell_type": "code",
   "execution_count": 53,
   "metadata": {},
   "outputs": [],
   "source": [
    "df_train_duplicates = df_train[df_train.duplicated(['Body'])].copy()"
   ]
  },
  {
   "cell_type": "code",
   "execution_count": 55,
   "metadata": {},
   "outputs": [],
   "source": [
    "df_train_duplicates['count'] = df_train_duplicates.groupby('Body')['Body'].transform('count')"
   ]
  },
  {
   "cell_type": "code",
   "execution_count": 60,
   "metadata": {},
   "outputs": [
    {
     "data": {
      "text/plain": [
       "array([ 1,  2,  3,  4,  5,  6,  8, 10, 11, 12, 15, 16, 23, 25, 26, 27])"
      ]
     },
     "execution_count": 60,
     "metadata": {},
     "output_type": "execute_result"
    }
   ],
   "source": [
    "np.sort(df_train_duplicates['count'].unique())"
   ]
  },
  {
   "cell_type": "markdown",
   "metadata": {},
   "source": [
    "# Find duplicates with different labels"
   ]
  },
  {
   "cell_type": "code",
   "execution_count": 66,
   "metadata": {},
   "outputs": [],
   "source": [
    "df_train_duplicates['nunique'] = df_train_duplicates.groupby('Body')['Label'].transform('nunique').astype(int)"
   ]
  },
  {
   "cell_type": "code",
   "execution_count": 67,
   "metadata": {},
   "outputs": [
    {
     "data": {
      "text/html": [
       "<div>\n",
       "<style scoped>\n",
       "    .dataframe tbody tr th:only-of-type {\n",
       "        vertical-align: middle;\n",
       "    }\n",
       "\n",
       "    .dataframe tbody tr th {\n",
       "        vertical-align: top;\n",
       "    }\n",
       "\n",
       "    .dataframe thead th {\n",
       "        text-align: right;\n",
       "    }\n",
       "</style>\n",
       "<table border=\"1\" class=\"dataframe\">\n",
       "  <thead>\n",
       "    <tr style=\"text-align: right;\">\n",
       "      <th></th>\n",
       "      <th>Body</th>\n",
       "      <th>Label</th>\n",
       "      <th>Source</th>\n",
       "      <th>count</th>\n",
       "      <th>nunique</th>\n",
       "    </tr>\n",
       "  </thead>\n",
       "  <tbody>\n",
       "    <tr>\n",
       "      <th>11</th>\n",
       "      <td>Snowflake: the details of our first Data Wareh...</td>\n",
       "      <td>1</td>\n",
       "      <td>reddit</td>\n",
       "      <td>1</td>\n",
       "      <td>1</td>\n",
       "    </tr>\n",
       "    <tr>\n",
       "      <th>158</th>\n",
       "      <td>The Data Warehouse in 2018 https://t.co/HjP3MH...</td>\n",
       "      <td>0</td>\n",
       "      <td>twitter</td>\n",
       "      <td>2</td>\n",
       "      <td>2</td>\n",
       "    </tr>\n",
       "    <tr>\n",
       "      <th>211</th>\n",
       "      <td>The Data Warehouse in 2018 https://t.co/HjP3MH...</td>\n",
       "      <td>1</td>\n",
       "      <td>twitter</td>\n",
       "      <td>2</td>\n",
       "      <td>2</td>\n",
       "    </tr>\n",
       "    <tr>\n",
       "      <th>238</th>\n",
       "      <td>How a large adult beverage company is handling...</td>\n",
       "      <td>0</td>\n",
       "      <td>twitter</td>\n",
       "      <td>1</td>\n",
       "      <td>1</td>\n",
       "    </tr>\n",
       "    <tr>\n",
       "      <th>96</th>\n",
       "      <td>#Joomla #Hosting Fast Unlimited Space &amp;amp; Ba...</td>\n",
       "      <td>0</td>\n",
       "      <td>twitter</td>\n",
       "      <td>5</td>\n",
       "      <td>1</td>\n",
       "    </tr>\n",
       "  </tbody>\n",
       "</table>\n",
       "</div>"
      ],
      "text/plain": [
       "                                                  Body  Label   Source  count  \\\n",
       "11   Snowflake: the details of our first Data Wareh...      1   reddit      1   \n",
       "158  The Data Warehouse in 2018 https://t.co/HjP3MH...      0  twitter      2   \n",
       "211  The Data Warehouse in 2018 https://t.co/HjP3MH...      1  twitter      2   \n",
       "238  How a large adult beverage company is handling...      0  twitter      1   \n",
       "96   #Joomla #Hosting Fast Unlimited Space &amp; Ba...      0  twitter      5   \n",
       "\n",
       "     nunique  \n",
       "11         1  \n",
       "158        2  \n",
       "211        2  \n",
       "238        1  \n",
       "96         1  "
      ]
     },
     "execution_count": 67,
     "metadata": {},
     "output_type": "execute_result"
    }
   ],
   "source": [
    "df_train_duplicates.head()"
   ]
  },
  {
   "cell_type": "code",
   "execution_count": 76,
   "metadata": {},
   "outputs": [
    {
     "data": {
      "text/plain": [
       "array([ 2,  6,  4,  3, 10, 23])"
      ]
     },
     "execution_count": 76,
     "metadata": {},
     "output_type": "execute_result"
    }
   ],
   "source": [
    "df_train_duplicates[(df_train_duplicates['count']>1) & (df_train_duplicates['nunique']>1)]['count'].unique()"
   ]
  },
  {
   "cell_type": "code",
   "execution_count": 82,
   "metadata": {},
   "outputs": [
    {
     "data": {
      "text/html": [
       "<div>\n",
       "<style scoped>\n",
       "    .dataframe tbody tr th:only-of-type {\n",
       "        vertical-align: middle;\n",
       "    }\n",
       "\n",
       "    .dataframe tbody tr th {\n",
       "        vertical-align: top;\n",
       "    }\n",
       "\n",
       "    .dataframe thead th {\n",
       "        text-align: right;\n",
       "    }\n",
       "</style>\n",
       "<table border=\"1\" class=\"dataframe\">\n",
       "  <thead>\n",
       "    <tr style=\"text-align: right;\">\n",
       "      <th></th>\n",
       "      <th>Body</th>\n",
       "      <th>Label</th>\n",
       "      <th>Source</th>\n",
       "      <th>count</th>\n",
       "      <th>nunique</th>\n",
       "    </tr>\n",
       "  </thead>\n",
       "  <tbody>\n",
       "    <tr>\n",
       "      <th>200</th>\n",
       "      <td>#Organizefiles, #notes and #bookmarks for #pro...</td>\n",
       "      <td>1</td>\n",
       "      <td>twitter</td>\n",
       "      <td>2</td>\n",
       "      <td>2</td>\n",
       "    </tr>\n",
       "    <tr>\n",
       "      <th>827</th>\n",
       "      <td>#Organizefiles, #notes and #bookmarks for #pro...</td>\n",
       "      <td>0</td>\n",
       "      <td>twitter</td>\n",
       "      <td>2</td>\n",
       "      <td>2</td>\n",
       "    </tr>\n",
       "    <tr>\n",
       "      <th>299</th>\n",
       "      <td>How to Organize Files and Other Information wi...</td>\n",
       "      <td>1</td>\n",
       "      <td>twitter</td>\n",
       "      <td>2</td>\n",
       "      <td>2</td>\n",
       "    </tr>\n",
       "    <tr>\n",
       "      <th>36</th>\n",
       "      <td>How to Organize Files and Other Information wi...</td>\n",
       "      <td>0</td>\n",
       "      <td>twitter</td>\n",
       "      <td>2</td>\n",
       "      <td>2</td>\n",
       "    </tr>\n",
       "    <tr>\n",
       "      <th>1074</th>\n",
       "      <td>Posted this in last week's thread a few hours ...</td>\n",
       "      <td>1</td>\n",
       "      <td>reddit</td>\n",
       "      <td>2</td>\n",
       "      <td>2</td>\n",
       "    </tr>\n",
       "    <tr>\n",
       "      <th>1138</th>\n",
       "      <td>Posted this in last week's thread a few hours ...</td>\n",
       "      <td>0</td>\n",
       "      <td>reddit</td>\n",
       "      <td>2</td>\n",
       "      <td>2</td>\n",
       "    </tr>\n",
       "    <tr>\n",
       "      <th>113</th>\n",
       "      <td>Tax implications of Incentive Stock Options (I...</td>\n",
       "      <td>0</td>\n",
       "      <td>reddit</td>\n",
       "      <td>2</td>\n",
       "      <td>2</td>\n",
       "    </tr>\n",
       "    <tr>\n",
       "      <th>321</th>\n",
       "      <td>Tax implications of Incentive Stock Options (I...</td>\n",
       "      <td>1</td>\n",
       "      <td>reddit</td>\n",
       "      <td>2</td>\n",
       "      <td>2</td>\n",
       "    </tr>\n",
       "    <tr>\n",
       "      <th>158</th>\n",
       "      <td>The Data Warehouse in 2018 https://t.co/HjP3MH...</td>\n",
       "      <td>0</td>\n",
       "      <td>twitter</td>\n",
       "      <td>2</td>\n",
       "      <td>2</td>\n",
       "    </tr>\n",
       "    <tr>\n",
       "      <th>211</th>\n",
       "      <td>The Data Warehouse in 2018 https://t.co/HjP3MH...</td>\n",
       "      <td>1</td>\n",
       "      <td>twitter</td>\n",
       "      <td>2</td>\n",
       "      <td>2</td>\n",
       "    </tr>\n",
       "  </tbody>\n",
       "</table>\n",
       "</div>"
      ],
      "text/plain": [
       "                                                   Body  Label   Source  \\\n",
       "200   #Organizefiles, #notes and #bookmarks for #pro...      1  twitter   \n",
       "827   #Organizefiles, #notes and #bookmarks for #pro...      0  twitter   \n",
       "299   How to Organize Files and Other Information wi...      1  twitter   \n",
       "36    How to Organize Files and Other Information wi...      0  twitter   \n",
       "1074  Posted this in last week's thread a few hours ...      1   reddit   \n",
       "1138  Posted this in last week's thread a few hours ...      0   reddit   \n",
       "113   Tax implications of Incentive Stock Options (I...      0   reddit   \n",
       "321   Tax implications of Incentive Stock Options (I...      1   reddit   \n",
       "158   The Data Warehouse in 2018 https://t.co/HjP3MH...      0  twitter   \n",
       "211   The Data Warehouse in 2018 https://t.co/HjP3MH...      1  twitter   \n",
       "\n",
       "      count  nunique  \n",
       "200       2        2  \n",
       "827       2        2  \n",
       "299       2        2  \n",
       "36        2        2  \n",
       "1074      2        2  \n",
       "1138      2        2  \n",
       "113       2        2  \n",
       "321       2        2  \n",
       "158       2        2  \n",
       "211       2        2  "
      ]
     },
     "execution_count": 82,
     "metadata": {},
     "output_type": "execute_result"
    }
   ],
   "source": [
    "df_train_duplicates[(df_train_duplicates['count'] == 2) & (df_train_duplicates['nunique']>1)].sort_values(by=['Body'])"
   ]
  },
  {
   "cell_type": "code",
   "execution_count": 79,
   "metadata": {},
   "outputs": [
    {
     "data": {
      "text/html": [
       "<div>\n",
       "<style scoped>\n",
       "    .dataframe tbody tr th:only-of-type {\n",
       "        vertical-align: middle;\n",
       "    }\n",
       "\n",
       "    .dataframe tbody tr th {\n",
       "        vertical-align: top;\n",
       "    }\n",
       "\n",
       "    .dataframe thead th {\n",
       "        text-align: right;\n",
       "    }\n",
       "</style>\n",
       "<table border=\"1\" class=\"dataframe\">\n",
       "  <thead>\n",
       "    <tr style=\"text-align: right;\">\n",
       "      <th></th>\n",
       "      <th>Body</th>\n",
       "      <th>Label</th>\n",
       "      <th>Source</th>\n",
       "      <th>count</th>\n",
       "      <th>nunique</th>\n",
       "    </tr>\n",
       "  </thead>\n",
       "  <tbody>\n",
       "    <tr>\n",
       "      <th>541</th>\n",
       "      <td>Syncing files one way, with filenames changing...</td>\n",
       "      <td>0</td>\n",
       "      <td>reddit</td>\n",
       "      <td>3</td>\n",
       "      <td>2</td>\n",
       "    </tr>\n",
       "    <tr>\n",
       "      <th>119</th>\n",
       "      <td>Syncing files one way, with filenames changing...</td>\n",
       "      <td>1</td>\n",
       "      <td>reddit</td>\n",
       "      <td>3</td>\n",
       "      <td>2</td>\n",
       "    </tr>\n",
       "    <tr>\n",
       "      <th>278</th>\n",
       "      <td>Syncing files one way, with filenames changing...</td>\n",
       "      <td>1</td>\n",
       "      <td>reddit</td>\n",
       "      <td>3</td>\n",
       "      <td>2</td>\n",
       "    </tr>\n",
       "  </tbody>\n",
       "</table>\n",
       "</div>"
      ],
      "text/plain": [
       "                                                  Body  Label  Source  count  \\\n",
       "541  Syncing files one way, with filenames changing...      0  reddit      3   \n",
       "119  Syncing files one way, with filenames changing...      1  reddit      3   \n",
       "278  Syncing files one way, with filenames changing...      1  reddit      3   \n",
       "\n",
       "     nunique  \n",
       "541        2  \n",
       "119        2  \n",
       "278        2  "
      ]
     },
     "execution_count": 79,
     "metadata": {},
     "output_type": "execute_result"
    }
   ],
   "source": [
    "df_train_duplicates[(df_train_duplicates['count'] == 3) & (df_train_duplicates['nunique']>1)]"
   ]
  },
  {
   "cell_type": "code",
   "execution_count": 80,
   "metadata": {},
   "outputs": [
    {
     "data": {
      "text/html": [
       "<div>\n",
       "<style scoped>\n",
       "    .dataframe tbody tr th:only-of-type {\n",
       "        vertical-align: middle;\n",
       "    }\n",
       "\n",
       "    .dataframe tbody tr th {\n",
       "        vertical-align: top;\n",
       "    }\n",
       "\n",
       "    .dataframe thead th {\n",
       "        text-align: right;\n",
       "    }\n",
       "</style>\n",
       "<table border=\"1\" class=\"dataframe\">\n",
       "  <thead>\n",
       "    <tr style=\"text-align: right;\">\n",
       "      <th></th>\n",
       "      <th>Body</th>\n",
       "      <th>Label</th>\n",
       "      <th>Source</th>\n",
       "      <th>count</th>\n",
       "      <th>nunique</th>\n",
       "    </tr>\n",
       "  </thead>\n",
       "  <tbody>\n",
       "    <tr>\n",
       "      <th>81</th>\n",
       "      <td>English test, hate</td>\n",
       "      <td>1</td>\n",
       "      <td>twitter</td>\n",
       "      <td>4</td>\n",
       "      <td>2</td>\n",
       "    </tr>\n",
       "    <tr>\n",
       "      <th>93</th>\n",
       "      <td>English test, hate</td>\n",
       "      <td>1</td>\n",
       "      <td>twitter</td>\n",
       "      <td>4</td>\n",
       "      <td>2</td>\n",
       "    </tr>\n",
       "    <tr>\n",
       "      <th>94</th>\n",
       "      <td>English test, hate</td>\n",
       "      <td>0</td>\n",
       "      <td>twitter</td>\n",
       "      <td>4</td>\n",
       "      <td>2</td>\n",
       "    </tr>\n",
       "    <tr>\n",
       "      <th>165</th>\n",
       "      <td>English test, hate</td>\n",
       "      <td>1</td>\n",
       "      <td>twitter</td>\n",
       "      <td>4</td>\n",
       "      <td>2</td>\n",
       "    </tr>\n",
       "  </tbody>\n",
       "</table>\n",
       "</div>"
      ],
      "text/plain": [
       "                   Body  Label   Source  count  nunique\n",
       "81   English test, hate      1  twitter      4        2\n",
       "93   English test, hate      1  twitter      4        2\n",
       "94   English test, hate      0  twitter      4        2\n",
       "165  English test, hate      1  twitter      4        2"
      ]
     },
     "execution_count": 80,
     "metadata": {},
     "output_type": "execute_result"
    }
   ],
   "source": [
    "df_train_duplicates[(df_train_duplicates['count'] == 4) & (df_train_duplicates['nunique']>1)]"
   ]
  },
  {
   "cell_type": "code",
   "execution_count": 89,
   "metadata": {},
   "outputs": [
    {
     "data": {
      "text/html": [
       "<div>\n",
       "<style scoped>\n",
       "    .dataframe tbody tr th:only-of-type {\n",
       "        vertical-align: middle;\n",
       "    }\n",
       "\n",
       "    .dataframe tbody tr th {\n",
       "        vertical-align: top;\n",
       "    }\n",
       "\n",
       "    .dataframe thead th {\n",
       "        text-align: right;\n",
       "    }\n",
       "</style>\n",
       "<table border=\"1\" class=\"dataframe\">\n",
       "  <thead>\n",
       "    <tr style=\"text-align: right;\">\n",
       "      <th></th>\n",
       "      <th>Body</th>\n",
       "      <th>Label</th>\n",
       "      <th>Source</th>\n",
       "      <th>count</th>\n",
       "      <th>nunique</th>\n",
       "    </tr>\n",
       "  </thead>\n",
       "  <tbody>\n",
       "    <tr>\n",
       "      <th>69</th>\n",
       "      <td>Critical Flaws Found in VxWorks RTOS That Powe...</td>\n",
       "      <td>0</td>\n",
       "      <td>reddit</td>\n",
       "      <td>6</td>\n",
       "      <td>2</td>\n",
       "    </tr>\n",
       "    <tr>\n",
       "      <th>70</th>\n",
       "      <td>Critical Flaws Found in VxWorks RTOS That Powe...</td>\n",
       "      <td>0</td>\n",
       "      <td>reddit</td>\n",
       "      <td>6</td>\n",
       "      <td>2</td>\n",
       "    </tr>\n",
       "    <tr>\n",
       "      <th>16</th>\n",
       "      <td>Critical Flaws Found in VxWorks RTOS That Powe...</td>\n",
       "      <td>1</td>\n",
       "      <td>reddit</td>\n",
       "      <td>6</td>\n",
       "      <td>2</td>\n",
       "    </tr>\n",
       "    <tr>\n",
       "      <th>38</th>\n",
       "      <td>Critical Flaws Found in VxWorks RTOS That Powe...</td>\n",
       "      <td>1</td>\n",
       "      <td>reddit</td>\n",
       "      <td>6</td>\n",
       "      <td>2</td>\n",
       "    </tr>\n",
       "    <tr>\n",
       "      <th>67</th>\n",
       "      <td>Critical Flaws Found in VxWorks RTOS That Powe...</td>\n",
       "      <td>1</td>\n",
       "      <td>reddit</td>\n",
       "      <td>6</td>\n",
       "      <td>2</td>\n",
       "    </tr>\n",
       "    <tr>\n",
       "      <th>86</th>\n",
       "      <td>Critical Flaws Found in VxWorks RTOS That Powe...</td>\n",
       "      <td>1</td>\n",
       "      <td>reddit</td>\n",
       "      <td>6</td>\n",
       "      <td>2</td>\n",
       "    </tr>\n",
       "    <tr>\n",
       "      <th>88</th>\n",
       "      <td>Security researchers have discovered almost a ...</td>\n",
       "      <td>0</td>\n",
       "      <td>reddit</td>\n",
       "      <td>6</td>\n",
       "      <td>2</td>\n",
       "    </tr>\n",
       "    <tr>\n",
       "      <th>109</th>\n",
       "      <td>Security researchers have discovered almost a ...</td>\n",
       "      <td>0</td>\n",
       "      <td>reddit</td>\n",
       "      <td>6</td>\n",
       "      <td>2</td>\n",
       "    </tr>\n",
       "    <tr>\n",
       "      <th>44</th>\n",
       "      <td>Security researchers have discovered almost a ...</td>\n",
       "      <td>1</td>\n",
       "      <td>reddit</td>\n",
       "      <td>6</td>\n",
       "      <td>2</td>\n",
       "    </tr>\n",
       "    <tr>\n",
       "      <th>84</th>\n",
       "      <td>Security researchers have discovered almost a ...</td>\n",
       "      <td>1</td>\n",
       "      <td>reddit</td>\n",
       "      <td>6</td>\n",
       "      <td>2</td>\n",
       "    </tr>\n",
       "    <tr>\n",
       "      <th>115</th>\n",
       "      <td>Security researchers have discovered almost a ...</td>\n",
       "      <td>1</td>\n",
       "      <td>reddit</td>\n",
       "      <td>6</td>\n",
       "      <td>2</td>\n",
       "    </tr>\n",
       "    <tr>\n",
       "      <th>122</th>\n",
       "      <td>Security researchers have discovered almost a ...</td>\n",
       "      <td>1</td>\n",
       "      <td>reddit</td>\n",
       "      <td>6</td>\n",
       "      <td>2</td>\n",
       "    </tr>\n",
       "  </tbody>\n",
       "</table>\n",
       "</div>"
      ],
      "text/plain": [
       "                                                  Body  Label  Source  count  \\\n",
       "69   Critical Flaws Found in VxWorks RTOS That Powe...      0  reddit      6   \n",
       "70   Critical Flaws Found in VxWorks RTOS That Powe...      0  reddit      6   \n",
       "16   Critical Flaws Found in VxWorks RTOS That Powe...      1  reddit      6   \n",
       "38   Critical Flaws Found in VxWorks RTOS That Powe...      1  reddit      6   \n",
       "67   Critical Flaws Found in VxWorks RTOS That Powe...      1  reddit      6   \n",
       "86   Critical Flaws Found in VxWorks RTOS That Powe...      1  reddit      6   \n",
       "88   Security researchers have discovered almost a ...      0  reddit      6   \n",
       "109  Security researchers have discovered almost a ...      0  reddit      6   \n",
       "44   Security researchers have discovered almost a ...      1  reddit      6   \n",
       "84   Security researchers have discovered almost a ...      1  reddit      6   \n",
       "115  Security researchers have discovered almost a ...      1  reddit      6   \n",
       "122  Security researchers have discovered almost a ...      1  reddit      6   \n",
       "\n",
       "     nunique  \n",
       "69         2  \n",
       "70         2  \n",
       "16         2  \n",
       "38         2  \n",
       "67         2  \n",
       "86         2  \n",
       "88         2  \n",
       "109        2  \n",
       "44         2  \n",
       "84         2  \n",
       "115        2  \n",
       "122        2  "
      ]
     },
     "execution_count": 89,
     "metadata": {},
     "output_type": "execute_result"
    }
   ],
   "source": [
    "df_train_duplicates[(df_train_duplicates['count'] == 6) & (df_train_duplicates['nunique']>1)].sort_values(by=['Body','Label'])"
   ]
  },
  {
   "cell_type": "code",
   "execution_count": 88,
   "metadata": {},
   "outputs": [
    {
     "data": {
      "text/html": [
       "<div>\n",
       "<style scoped>\n",
       "    .dataframe tbody tr th:only-of-type {\n",
       "        vertical-align: middle;\n",
       "    }\n",
       "\n",
       "    .dataframe tbody tr th {\n",
       "        vertical-align: top;\n",
       "    }\n",
       "\n",
       "    .dataframe thead th {\n",
       "        text-align: right;\n",
       "    }\n",
       "</style>\n",
       "<table border=\"1\" class=\"dataframe\">\n",
       "  <thead>\n",
       "    <tr style=\"text-align: right;\">\n",
       "      <th></th>\n",
       "      <th>Body</th>\n",
       "      <th>Label</th>\n",
       "      <th>Source</th>\n",
       "      <th>count</th>\n",
       "      <th>nunique</th>\n",
       "    </tr>\n",
       "  </thead>\n",
       "  <tbody>\n",
       "    <tr>\n",
       "      <th>29</th>\n",
       "      <td>**Attention! [Serious] Tag Notice**\\n\\n* Jokes...</td>\n",
       "      <td>0</td>\n",
       "      <td>reddit</td>\n",
       "      <td>10</td>\n",
       "      <td>2</td>\n",
       "    </tr>\n",
       "    <tr>\n",
       "      <th>38</th>\n",
       "      <td>**Attention! [Serious] Tag Notice**\\n\\n* Jokes...</td>\n",
       "      <td>0</td>\n",
       "      <td>reddit</td>\n",
       "      <td>10</td>\n",
       "      <td>2</td>\n",
       "    </tr>\n",
       "    <tr>\n",
       "      <th>68</th>\n",
       "      <td>**Attention! [Serious] Tag Notice**\\n\\n* Jokes...</td>\n",
       "      <td>0</td>\n",
       "      <td>reddit</td>\n",
       "      <td>10</td>\n",
       "      <td>2</td>\n",
       "    </tr>\n",
       "    <tr>\n",
       "      <th>71</th>\n",
       "      <td>**Attention! [Serious] Tag Notice**\\n\\n* Jokes...</td>\n",
       "      <td>0</td>\n",
       "      <td>reddit</td>\n",
       "      <td>10</td>\n",
       "      <td>2</td>\n",
       "    </tr>\n",
       "    <tr>\n",
       "      <th>112</th>\n",
       "      <td>**Attention! [Serious] Tag Notice**\\n\\n* Jokes...</td>\n",
       "      <td>0</td>\n",
       "      <td>reddit</td>\n",
       "      <td>10</td>\n",
       "      <td>2</td>\n",
       "    </tr>\n",
       "    <tr>\n",
       "      <th>153</th>\n",
       "      <td>**Attention! [Serious] Tag Notice**\\n\\n* Jokes...</td>\n",
       "      <td>0</td>\n",
       "      <td>reddit</td>\n",
       "      <td>10</td>\n",
       "      <td>2</td>\n",
       "    </tr>\n",
       "    <tr>\n",
       "      <th>189</th>\n",
       "      <td>**Attention! [Serious] Tag Notice**\\n\\n* Jokes...</td>\n",
       "      <td>0</td>\n",
       "      <td>reddit</td>\n",
       "      <td>10</td>\n",
       "      <td>2</td>\n",
       "    </tr>\n",
       "    <tr>\n",
       "      <th>321</th>\n",
       "      <td>**Attention! [Serious] Tag Notice**\\n\\n* Jokes...</td>\n",
       "      <td>0</td>\n",
       "      <td>reddit</td>\n",
       "      <td>10</td>\n",
       "      <td>2</td>\n",
       "    </tr>\n",
       "    <tr>\n",
       "      <th>397</th>\n",
       "      <td>**Attention! [Serious] Tag Notice**\\n\\n* Jokes...</td>\n",
       "      <td>0</td>\n",
       "      <td>reddit</td>\n",
       "      <td>10</td>\n",
       "      <td>2</td>\n",
       "    </tr>\n",
       "    <tr>\n",
       "      <th>375</th>\n",
       "      <td>**Attention! [Serious] Tag Notice**\\n\\n* Jokes...</td>\n",
       "      <td>1</td>\n",
       "      <td>reddit</td>\n",
       "      <td>10</td>\n",
       "      <td>2</td>\n",
       "    </tr>\n",
       "  </tbody>\n",
       "</table>\n",
       "</div>"
      ],
      "text/plain": [
       "                                                  Body  Label  Source  count  \\\n",
       "29   **Attention! [Serious] Tag Notice**\\n\\n* Jokes...      0  reddit     10   \n",
       "38   **Attention! [Serious] Tag Notice**\\n\\n* Jokes...      0  reddit     10   \n",
       "68   **Attention! [Serious] Tag Notice**\\n\\n* Jokes...      0  reddit     10   \n",
       "71   **Attention! [Serious] Tag Notice**\\n\\n* Jokes...      0  reddit     10   \n",
       "112  **Attention! [Serious] Tag Notice**\\n\\n* Jokes...      0  reddit     10   \n",
       "153  **Attention! [Serious] Tag Notice**\\n\\n* Jokes...      0  reddit     10   \n",
       "189  **Attention! [Serious] Tag Notice**\\n\\n* Jokes...      0  reddit     10   \n",
       "321  **Attention! [Serious] Tag Notice**\\n\\n* Jokes...      0  reddit     10   \n",
       "397  **Attention! [Serious] Tag Notice**\\n\\n* Jokes...      0  reddit     10   \n",
       "375  **Attention! [Serious] Tag Notice**\\n\\n* Jokes...      1  reddit     10   \n",
       "\n",
       "     nunique  \n",
       "29         2  \n",
       "38         2  \n",
       "68         2  \n",
       "71         2  \n",
       "112        2  \n",
       "153        2  \n",
       "189        2  \n",
       "321        2  \n",
       "397        2  \n",
       "375        2  "
      ]
     },
     "execution_count": 88,
     "metadata": {},
     "output_type": "execute_result"
    }
   ],
   "source": [
    "df_train_duplicates[(df_train_duplicates['count'] == 10) & (df_train_duplicates['nunique']>1)].sort_values(by=['Label'])"
   ]
  },
  {
   "cell_type": "code",
   "execution_count": 87,
   "metadata": {},
   "outputs": [
    {
     "data": {
      "text/html": [
       "<div>\n",
       "<style scoped>\n",
       "    .dataframe tbody tr th:only-of-type {\n",
       "        vertical-align: middle;\n",
       "    }\n",
       "\n",
       "    .dataframe tbody tr th {\n",
       "        vertical-align: top;\n",
       "    }\n",
       "\n",
       "    .dataframe thead th {\n",
       "        text-align: right;\n",
       "    }\n",
       "</style>\n",
       "<table border=\"1\" class=\"dataframe\">\n",
       "  <thead>\n",
       "    <tr style=\"text-align: right;\">\n",
       "      <th></th>\n",
       "      <th>Body</th>\n",
       "      <th>Label</th>\n",
       "      <th>Source</th>\n",
       "      <th>count</th>\n",
       "      <th>nunique</th>\n",
       "    </tr>\n",
       "  </thead>\n",
       "  <tbody>\n",
       "    <tr>\n",
       "      <th>156</th>\n",
       "      <td>Aht Aht Put That IPhone 11 Down And Find An Ap...</td>\n",
       "      <td>0</td>\n",
       "      <td>twitter</td>\n",
       "      <td>23</td>\n",
       "      <td>2</td>\n",
       "    </tr>\n",
       "    <tr>\n",
       "      <th>541</th>\n",
       "      <td>Aht Aht Put That IPhone 11 Down And Find An Ap...</td>\n",
       "      <td>0</td>\n",
       "      <td>twitter</td>\n",
       "      <td>23</td>\n",
       "      <td>2</td>\n",
       "    </tr>\n",
       "    <tr>\n",
       "      <th>43</th>\n",
       "      <td>Aht Aht Put That IPhone 11 Down And Find An Ap...</td>\n",
       "      <td>0</td>\n",
       "      <td>twitter</td>\n",
       "      <td>23</td>\n",
       "      <td>2</td>\n",
       "    </tr>\n",
       "    <tr>\n",
       "      <th>53</th>\n",
       "      <td>Aht Aht Put That IPhone 11 Down And Find An Ap...</td>\n",
       "      <td>0</td>\n",
       "      <td>twitter</td>\n",
       "      <td>23</td>\n",
       "      <td>2</td>\n",
       "    </tr>\n",
       "    <tr>\n",
       "      <th>101</th>\n",
       "      <td>Aht Aht Put That IPhone 11 Down And Find An Ap...</td>\n",
       "      <td>0</td>\n",
       "      <td>twitter</td>\n",
       "      <td>23</td>\n",
       "      <td>2</td>\n",
       "    </tr>\n",
       "    <tr>\n",
       "      <th>574</th>\n",
       "      <td>Aht Aht Put That IPhone 11 Down And Find An Ap...</td>\n",
       "      <td>0</td>\n",
       "      <td>twitter</td>\n",
       "      <td>23</td>\n",
       "      <td>2</td>\n",
       "    </tr>\n",
       "    <tr>\n",
       "      <th>188</th>\n",
       "      <td>Aht Aht Put That IPhone 11 Down And Find An Ap...</td>\n",
       "      <td>0</td>\n",
       "      <td>twitter</td>\n",
       "      <td>23</td>\n",
       "      <td>2</td>\n",
       "    </tr>\n",
       "    <tr>\n",
       "      <th>567</th>\n",
       "      <td>Aht Aht Put That IPhone 11 Down And Find An Ap...</td>\n",
       "      <td>1</td>\n",
       "      <td>twitter</td>\n",
       "      <td>23</td>\n",
       "      <td>2</td>\n",
       "    </tr>\n",
       "    <tr>\n",
       "      <th>539</th>\n",
       "      <td>Aht Aht Put That IPhone 11 Down And Find An Ap...</td>\n",
       "      <td>1</td>\n",
       "      <td>twitter</td>\n",
       "      <td>23</td>\n",
       "      <td>2</td>\n",
       "    </tr>\n",
       "    <tr>\n",
       "      <th>524</th>\n",
       "      <td>Aht Aht Put That IPhone 11 Down And Find An Ap...</td>\n",
       "      <td>1</td>\n",
       "      <td>twitter</td>\n",
       "      <td>23</td>\n",
       "      <td>2</td>\n",
       "    </tr>\n",
       "    <tr>\n",
       "      <th>432</th>\n",
       "      <td>Aht Aht Put That IPhone 11 Down And Find An Ap...</td>\n",
       "      <td>1</td>\n",
       "      <td>twitter</td>\n",
       "      <td>23</td>\n",
       "      <td>2</td>\n",
       "    </tr>\n",
       "    <tr>\n",
       "      <th>390</th>\n",
       "      <td>Aht Aht Put That IPhone 11 Down And Find An Ap...</td>\n",
       "      <td>1</td>\n",
       "      <td>twitter</td>\n",
       "      <td>23</td>\n",
       "      <td>2</td>\n",
       "    </tr>\n",
       "    <tr>\n",
       "      <th>386</th>\n",
       "      <td>Aht Aht Put That IPhone 11 Down And Find An Ap...</td>\n",
       "      <td>1</td>\n",
       "      <td>twitter</td>\n",
       "      <td>23</td>\n",
       "      <td>2</td>\n",
       "    </tr>\n",
       "    <tr>\n",
       "      <th>7</th>\n",
       "      <td>Aht Aht Put That IPhone 11 Down And Find An Ap...</td>\n",
       "      <td>1</td>\n",
       "      <td>twitter</td>\n",
       "      <td>23</td>\n",
       "      <td>2</td>\n",
       "    </tr>\n",
       "    <tr>\n",
       "      <th>143</th>\n",
       "      <td>Aht Aht Put That IPhone 11 Down And Find An Ap...</td>\n",
       "      <td>1</td>\n",
       "      <td>twitter</td>\n",
       "      <td>23</td>\n",
       "      <td>2</td>\n",
       "    </tr>\n",
       "    <tr>\n",
       "      <th>141</th>\n",
       "      <td>Aht Aht Put That IPhone 11 Down And Find An Ap...</td>\n",
       "      <td>1</td>\n",
       "      <td>twitter</td>\n",
       "      <td>23</td>\n",
       "      <td>2</td>\n",
       "    </tr>\n",
       "    <tr>\n",
       "      <th>110</th>\n",
       "      <td>Aht Aht Put That IPhone 11 Down And Find An Ap...</td>\n",
       "      <td>1</td>\n",
       "      <td>twitter</td>\n",
       "      <td>23</td>\n",
       "      <td>2</td>\n",
       "    </tr>\n",
       "    <tr>\n",
       "      <th>73</th>\n",
       "      <td>Aht Aht Put That IPhone 11 Down And Find An Ap...</td>\n",
       "      <td>1</td>\n",
       "      <td>twitter</td>\n",
       "      <td>23</td>\n",
       "      <td>2</td>\n",
       "    </tr>\n",
       "    <tr>\n",
       "      <th>29</th>\n",
       "      <td>Aht Aht Put That IPhone 11 Down And Find An Ap...</td>\n",
       "      <td>1</td>\n",
       "      <td>twitter</td>\n",
       "      <td>23</td>\n",
       "      <td>2</td>\n",
       "    </tr>\n",
       "    <tr>\n",
       "      <th>26</th>\n",
       "      <td>Aht Aht Put That IPhone 11 Down And Find An Ap...</td>\n",
       "      <td>1</td>\n",
       "      <td>twitter</td>\n",
       "      <td>23</td>\n",
       "      <td>2</td>\n",
       "    </tr>\n",
       "    <tr>\n",
       "      <th>9</th>\n",
       "      <td>Aht Aht Put That IPhone 11 Down And Find An Ap...</td>\n",
       "      <td>1</td>\n",
       "      <td>twitter</td>\n",
       "      <td>23</td>\n",
       "      <td>2</td>\n",
       "    </tr>\n",
       "    <tr>\n",
       "      <th>184</th>\n",
       "      <td>Aht Aht Put That IPhone 11 Down And Find An Ap...</td>\n",
       "      <td>1</td>\n",
       "      <td>twitter</td>\n",
       "      <td>23</td>\n",
       "      <td>2</td>\n",
       "    </tr>\n",
       "    <tr>\n",
       "      <th>584</th>\n",
       "      <td>Aht Aht Put That IPhone 11 Down And Find An Ap...</td>\n",
       "      <td>1</td>\n",
       "      <td>twitter</td>\n",
       "      <td>23</td>\n",
       "      <td>2</td>\n",
       "    </tr>\n",
       "  </tbody>\n",
       "</table>\n",
       "</div>"
      ],
      "text/plain": [
       "                                                  Body  Label   Source  count  \\\n",
       "156  Aht Aht Put That IPhone 11 Down And Find An Ap...      0  twitter     23   \n",
       "541  Aht Aht Put That IPhone 11 Down And Find An Ap...      0  twitter     23   \n",
       "43   Aht Aht Put That IPhone 11 Down And Find An Ap...      0  twitter     23   \n",
       "53   Aht Aht Put That IPhone 11 Down And Find An Ap...      0  twitter     23   \n",
       "101  Aht Aht Put That IPhone 11 Down And Find An Ap...      0  twitter     23   \n",
       "574  Aht Aht Put That IPhone 11 Down And Find An Ap...      0  twitter     23   \n",
       "188  Aht Aht Put That IPhone 11 Down And Find An Ap...      0  twitter     23   \n",
       "567  Aht Aht Put That IPhone 11 Down And Find An Ap...      1  twitter     23   \n",
       "539  Aht Aht Put That IPhone 11 Down And Find An Ap...      1  twitter     23   \n",
       "524  Aht Aht Put That IPhone 11 Down And Find An Ap...      1  twitter     23   \n",
       "432  Aht Aht Put That IPhone 11 Down And Find An Ap...      1  twitter     23   \n",
       "390  Aht Aht Put That IPhone 11 Down And Find An Ap...      1  twitter     23   \n",
       "386  Aht Aht Put That IPhone 11 Down And Find An Ap...      1  twitter     23   \n",
       "7    Aht Aht Put That IPhone 11 Down And Find An Ap...      1  twitter     23   \n",
       "143  Aht Aht Put That IPhone 11 Down And Find An Ap...      1  twitter     23   \n",
       "141  Aht Aht Put That IPhone 11 Down And Find An Ap...      1  twitter     23   \n",
       "110  Aht Aht Put That IPhone 11 Down And Find An Ap...      1  twitter     23   \n",
       "73   Aht Aht Put That IPhone 11 Down And Find An Ap...      1  twitter     23   \n",
       "29   Aht Aht Put That IPhone 11 Down And Find An Ap...      1  twitter     23   \n",
       "26   Aht Aht Put That IPhone 11 Down And Find An Ap...      1  twitter     23   \n",
       "9    Aht Aht Put That IPhone 11 Down And Find An Ap...      1  twitter     23   \n",
       "184  Aht Aht Put That IPhone 11 Down And Find An Ap...      1  twitter     23   \n",
       "584  Aht Aht Put That IPhone 11 Down And Find An Ap...      1  twitter     23   \n",
       "\n",
       "     nunique  \n",
       "156        2  \n",
       "541        2  \n",
       "43         2  \n",
       "53         2  \n",
       "101        2  \n",
       "574        2  \n",
       "188        2  \n",
       "567        2  \n",
       "539        2  \n",
       "524        2  \n",
       "432        2  \n",
       "390        2  \n",
       "386        2  \n",
       "7          2  \n",
       "143        2  \n",
       "141        2  \n",
       "110        2  \n",
       "73         2  \n",
       "29         2  \n",
       "26         2  \n",
       "9          2  \n",
       "184        2  \n",
       "584        2  "
      ]
     },
     "execution_count": 87,
     "metadata": {},
     "output_type": "execute_result"
    }
   ],
   "source": [
    "df_train_duplicates[(df_train_duplicates['count'] == 23) & (df_train_duplicates['nunique']>1)].sort_values(by=['Label'])"
   ]
  },
  {
   "cell_type": "code",
   "execution_count": 93,
   "metadata": {},
   "outputs": [
    {
     "data": {
      "text/plain": [
       "False    802\n",
       "True      62\n",
       "Name: nunique, dtype: int64"
      ]
     },
     "execution_count": 93,
     "metadata": {},
     "output_type": "execute_result"
    }
   ],
   "source": [
    "(df_train_duplicates['nunique']>1).value_counts()"
   ]
  },
  {
   "cell_type": "markdown",
   "metadata": {},
   "source": [
    "Only 62 data that have same body but different labels\n",
    "\n",
    "Since we will fine tune on the single user point of view, will just use label_smoothing to surpress the issue\n",
    "\n",
    "If later on this duplicated labels are important, I will figure something out to solve"
   ]
  },
  {
   "cell_type": "code",
   "execution_count": 96,
   "metadata": {},
   "outputs": [
    {
     "data": {
      "text/plain": [
       "(15071, 3)"
      ]
     },
     "execution_count": 96,
     "metadata": {},
     "output_type": "execute_result"
    }
   ],
   "source": [
    "df_train.shape"
   ]
  },
  {
   "cell_type": "code",
   "execution_count": 98,
   "metadata": {},
   "outputs": [
    {
     "data": {
      "text/plain": [
       "0.41138610576604073"
      ]
     },
     "execution_count": 98,
     "metadata": {},
     "output_type": "execute_result"
    }
   ],
   "source": [
    "(62 / 15071) * 100"
   ]
  },
  {
   "cell_type": "markdown",
   "metadata": {},
   "source": [
    "Only 0.4% data in the train set that has duplicated body but different labels. \n",
    "\n",
    "Proposed solution: Using label_smoothing_crossentropy as a work around solution\n",
    "\n",
    "The idea is \n",
    "\n",
    "1. Fine-tune language model (already done)\n",
    "2. Fine-tune classifier head based on large amount of train set\n",
    "3. Fine-tune the classifier for individual users"
   ]
  },
  {
   "cell_type": "markdown",
   "metadata": {},
   "source": [
    "# Train the classifier head with 70% of total datasets"
   ]
  },
  {
   "cell_type": "code",
   "execution_count": 15,
   "metadata": {},
   "outputs": [],
   "source": [
    "data_lm = load_data(path/'models','data_lm.pkl',bs=64)"
   ]
  },
  {
   "cell_type": "code",
   "execution_count": 16,
   "metadata": {},
   "outputs": [
    {
     "data": {
      "text/plain": [
       "34"
      ]
     },
     "execution_count": 16,
     "metadata": {},
     "output_type": "execute_result"
    }
   ],
   "source": [
    "data_lm.vocab.stoi['this']"
   ]
  },
  {
   "cell_type": "code",
   "execution_count": 17,
   "metadata": {},
   "outputs": [],
   "source": [
    "data = (TextList\n",
    "        .from_df(df=df_train,path=path,cols='Body',vocab=data_lm.vocab)\n",
    "        .split_by_rand_pct(0.1,seed=42)\n",
    "        .label_from_df(cols='Label')\n",
    "        .databunch(bs=64,num_workers=os.cpu_count()*4)\n",
    "       )"
   ]
  },
  {
   "cell_type": "code",
   "execution_count": 19,
   "metadata": {},
   "outputs": [
    {
     "data": {
      "text/plain": [
       "34"
      ]
     },
     "execution_count": 19,
     "metadata": {},
     "output_type": "execute_result"
    }
   ],
   "source": [
    "data.vocab.stoi['this']"
   ]
  },
  {
   "cell_type": "code",
   "execution_count": 40,
   "metadata": {},
   "outputs": [
    {
     "data": {
      "text/plain": [
       "0    10425\n",
       "1     3139\n",
       "Name: Label, dtype: int64"
      ]
     },
     "execution_count": 40,
     "metadata": {},
     "output_type": "execute_result"
    }
   ],
   "source": [
    "data.train_ds.inner_df['Label'].value_counts()"
   ]
  },
  {
   "cell_type": "code",
   "execution_count": 41,
   "metadata": {},
   "outputs": [
    {
     "data": {
      "text/plain": [
       "0.7685785903863167"
      ]
     },
     "execution_count": 41,
     "metadata": {},
     "output_type": "execute_result"
    }
   ],
   "source": [
    "10425 / (10425+3139)"
   ]
  },
  {
   "cell_type": "code",
   "execution_count": 18,
   "metadata": {},
   "outputs": [],
   "source": [
    "from sklearn.metrics import f1_score\n",
    "\n",
    "@np_func\n",
    "def f1(inp,targ): return f1_score(targ, np.argmax(inp, axis=-1))"
   ]
  },
  {
   "cell_type": "code",
   "execution_count": 20,
   "metadata": {},
   "outputs": [],
   "source": [
    "learn = text_classifier_learner(data,AWD_LSTM,drop_mult=0.5,\n",
    "                                #loss_func=LabelSmoothingCrossEntropy(),\n",
    "                                metrics=[accuracy,f1], #FBeta(beta=1)\n",
    "                                model_dir = path/'models'\n",
    "                               ).to_fp16()"
   ]
  },
  {
   "cell_type": "code",
   "execution_count": 21,
   "metadata": {},
   "outputs": [
    {
     "name": "stdout",
     "output_type": "stream",
     "text": [
      "1a.pth\tdata_lm.pkl  fine-tuned-fwd.pth  models  tmp.pth\r\n"
     ]
    }
   ],
   "source": [
    "!ls {path}/models"
   ]
  },
  {
   "cell_type": "code",
   "execution_count": 22,
   "metadata": {},
   "outputs": [
    {
     "ename": "RuntimeError",
     "evalue": "Error(s) in loading state_dict for AWD_LSTM:\n\tMissing key(s) in state_dict: \"encoder.weight\", \"encoder_dp.emb.weight\", \"rnns.0.weight_hh_l0_raw\", \"rnns.0.module.weight_ih_l0\", \"rnns.0.module.weight_hh_l0\", \"rnns.0.module.bias_ih_l0\", \"rnns.0.module.bias_hh_l0\", \"rnns.1.weight_hh_l0_raw\", \"rnns.1.module.weight_ih_l0\", \"rnns.1.module.weight_hh_l0\", \"rnns.1.module.bias_ih_l0\", \"rnns.1.module.bias_hh_l0\", \"rnns.2.weight_hh_l0_raw\", \"rnns.2.module.weight_ih_l0\", \"rnns.2.module.weight_hh_l0\", \"rnns.2.module.bias_ih_l0\", \"rnns.2.module.bias_hh_l0\". \n\tUnexpected key(s) in state_dict: \"0.encoder.weight\", \"0.encoder_dp.emb.weight\", \"0.rnns.0.weight_hh_l0_raw\", \"0.rnns.0.module.weight_ih_l0\", \"0.rnns.0.module.weight_hh_l0\", \"0.rnns.0.module.bias_ih_l0\", \"0.rnns.0.module.bias_hh_l0\", \"0.rnns.1.weight_hh_l0_raw\", \"0.rnns.1.module.weight_ih_l0\", \"0.rnns.1.module.weight_hh_l0\", \"0.rnns.1.module.bias_ih_l0\", \"0.rnns.1.module.bias_hh_l0\", \"0.rnns.2.weight_hh_l0_raw\", \"0.rnns.2.module.weight_ih_l0\", \"0.rnns.2.module.weight_hh_l0\", \"0.rnns.2.module.bias_ih_l0\", \"0.rnns.2.module.bias_hh_l0\", \"1.decoder.weight\", \"1.decoder.bias\". ",
     "output_type": "error",
     "traceback": [
      "\u001b[0;31m---------------------------------------------------------------------------\u001b[0m",
      "\u001b[0;31mRuntimeError\u001b[0m                              Traceback (most recent call last)",
      "\u001b[0;32m<ipython-input-22-ea188ff61b2f>\u001b[0m in \u001b[0;36m<module>\u001b[0;34m\u001b[0m\n\u001b[0;32m----> 1\u001b[0;31m \u001b[0mlearn\u001b[0m\u001b[0;34m.\u001b[0m\u001b[0mload_encoder\u001b[0m\u001b[0;34m(\u001b[0m\u001b[0;34m'fine-tuned-fwd'\u001b[0m\u001b[0;34m)\u001b[0m\u001b[0;34m;\u001b[0m\u001b[0;34m\u001b[0m\u001b[0;34m\u001b[0m\u001b[0m\n\u001b[0m",
      "\u001b[0;32m/opt/anaconda3/lib/python3.7/site-packages/fastai/text/learner.py\u001b[0m in \u001b[0;36mload_encoder\u001b[0;34m(self, name, device)\u001b[0m\n\u001b[1;32m     67\u001b[0m         \u001b[0;32mif\u001b[0m \u001b[0mdevice\u001b[0m \u001b[0;32mis\u001b[0m \u001b[0;32mNone\u001b[0m\u001b[0;34m:\u001b[0m \u001b[0mdevice\u001b[0m \u001b[0;34m=\u001b[0m \u001b[0mself\u001b[0m\u001b[0;34m.\u001b[0m\u001b[0mdata\u001b[0m\u001b[0;34m.\u001b[0m\u001b[0mdevice\u001b[0m\u001b[0;34m\u001b[0m\u001b[0;34m\u001b[0m\u001b[0m\n\u001b[1;32m     68\u001b[0m         \u001b[0;32mif\u001b[0m \u001b[0mhasattr\u001b[0m\u001b[0;34m(\u001b[0m\u001b[0mencoder\u001b[0m\u001b[0;34m,\u001b[0m \u001b[0;34m'module'\u001b[0m\u001b[0;34m)\u001b[0m\u001b[0;34m:\u001b[0m \u001b[0mencoder\u001b[0m \u001b[0;34m=\u001b[0m \u001b[0mencoder\u001b[0m\u001b[0;34m.\u001b[0m\u001b[0mmodule\u001b[0m\u001b[0;34m\u001b[0m\u001b[0;34m\u001b[0m\u001b[0m\n\u001b[0;32m---> 69\u001b[0;31m         \u001b[0mencoder\u001b[0m\u001b[0;34m.\u001b[0m\u001b[0mload_state_dict\u001b[0m\u001b[0;34m(\u001b[0m\u001b[0mtorch\u001b[0m\u001b[0;34m.\u001b[0m\u001b[0mload\u001b[0m\u001b[0;34m(\u001b[0m\u001b[0mself\u001b[0m\u001b[0;34m.\u001b[0m\u001b[0mpath\u001b[0m\u001b[0;34m/\u001b[0m\u001b[0mself\u001b[0m\u001b[0;34m.\u001b[0m\u001b[0mmodel_dir\u001b[0m\u001b[0;34m/\u001b[0m\u001b[0;34mf'{name}.pth'\u001b[0m\u001b[0;34m,\u001b[0m \u001b[0mmap_location\u001b[0m\u001b[0;34m=\u001b[0m\u001b[0mdevice\u001b[0m\u001b[0;34m)\u001b[0m\u001b[0;34m)\u001b[0m\u001b[0;34m\u001b[0m\u001b[0;34m\u001b[0m\u001b[0m\n\u001b[0m\u001b[1;32m     70\u001b[0m         \u001b[0mself\u001b[0m\u001b[0;34m.\u001b[0m\u001b[0mfreeze\u001b[0m\u001b[0;34m(\u001b[0m\u001b[0;34m)\u001b[0m\u001b[0;34m\u001b[0m\u001b[0;34m\u001b[0m\u001b[0m\n\u001b[1;32m     71\u001b[0m         \u001b[0;32mreturn\u001b[0m \u001b[0mself\u001b[0m\u001b[0;34m\u001b[0m\u001b[0;34m\u001b[0m\u001b[0m\n",
      "\u001b[0;32m/opt/anaconda3/lib/python3.7/site-packages/torch/nn/modules/module.py\u001b[0m in \u001b[0;36mload_state_dict\u001b[0;34m(self, state_dict, strict)\u001b[0m\n\u001b[1;32m    843\u001b[0m         \u001b[0;32mif\u001b[0m \u001b[0mlen\u001b[0m\u001b[0;34m(\u001b[0m\u001b[0merror_msgs\u001b[0m\u001b[0;34m)\u001b[0m \u001b[0;34m>\u001b[0m \u001b[0;36m0\u001b[0m\u001b[0;34m:\u001b[0m\u001b[0;34m\u001b[0m\u001b[0;34m\u001b[0m\u001b[0m\n\u001b[1;32m    844\u001b[0m             raise RuntimeError('Error(s) in loading state_dict for {}:\\n\\t{}'.format(\n\u001b[0;32m--> 845\u001b[0;31m                                self.__class__.__name__, \"\\n\\t\".join(error_msgs)))\n\u001b[0m\u001b[1;32m    846\u001b[0m         \u001b[0;32mreturn\u001b[0m \u001b[0m_IncompatibleKeys\u001b[0m\u001b[0;34m(\u001b[0m\u001b[0mmissing_keys\u001b[0m\u001b[0;34m,\u001b[0m \u001b[0munexpected_keys\u001b[0m\u001b[0;34m)\u001b[0m\u001b[0;34m\u001b[0m\u001b[0;34m\u001b[0m\u001b[0m\n\u001b[1;32m    847\u001b[0m \u001b[0;34m\u001b[0m\u001b[0m\n",
      "\u001b[0;31mRuntimeError\u001b[0m: Error(s) in loading state_dict for AWD_LSTM:\n\tMissing key(s) in state_dict: \"encoder.weight\", \"encoder_dp.emb.weight\", \"rnns.0.weight_hh_l0_raw\", \"rnns.0.module.weight_ih_l0\", \"rnns.0.module.weight_hh_l0\", \"rnns.0.module.bias_ih_l0\", \"rnns.0.module.bias_hh_l0\", \"rnns.1.weight_hh_l0_raw\", \"rnns.1.module.weight_ih_l0\", \"rnns.1.module.weight_hh_l0\", \"rnns.1.module.bias_ih_l0\", \"rnns.1.module.bias_hh_l0\", \"rnns.2.weight_hh_l0_raw\", \"rnns.2.module.weight_ih_l0\", \"rnns.2.module.weight_hh_l0\", \"rnns.2.module.bias_ih_l0\", \"rnns.2.module.bias_hh_l0\". \n\tUnexpected key(s) in state_dict: \"0.encoder.weight\", \"0.encoder_dp.emb.weight\", \"0.rnns.0.weight_hh_l0_raw\", \"0.rnns.0.module.weight_ih_l0\", \"0.rnns.0.module.weight_hh_l0\", \"0.rnns.0.module.bias_ih_l0\", \"0.rnns.0.module.bias_hh_l0\", \"0.rnns.1.weight_hh_l0_raw\", \"0.rnns.1.module.weight_ih_l0\", \"0.rnns.1.module.weight_hh_l0\", \"0.rnns.1.module.bias_ih_l0\", \"0.rnns.1.module.bias_hh_l0\", \"0.rnns.2.weight_hh_l0_raw\", \"0.rnns.2.module.weight_ih_l0\", \"0.rnns.2.module.weight_hh_l0\", \"0.rnns.2.module.bias_ih_l0\", \"0.rnns.2.module.bias_hh_l0\", \"1.decoder.weight\", \"1.decoder.bias\". "
     ]
    }
   ],
   "source": [
    "learn.load_encoder('fine-tuned-fwd');"
   ]
  },
  {
   "cell_type": "code",
   "execution_count": 20,
   "metadata": {},
   "outputs": [],
   "source": [
    "learn.freeze_to(-1);"
   ]
  },
  {
   "cell_type": "code",
   "execution_count": 21,
   "metadata": {},
   "outputs": [
    {
     "data": {
      "text/html": [],
      "text/plain": [
       "<IPython.core.display.HTML object>"
      ]
     },
     "metadata": {},
     "output_type": "display_data"
    },
    {
     "name": "stdout",
     "output_type": "stream",
     "text": [
      "LR Finder is complete, type {learner_name}.recorder.plot() to see the graph.\n"
     ]
    }
   ],
   "source": [
    "learn.to_fp16()\n",
    "learn.lr_find()"
   ]
  },
  {
   "cell_type": "code",
   "execution_count": 22,
   "metadata": {},
   "outputs": [
    {
     "name": "stdout",
     "output_type": "stream",
     "text": [
      "Min numerical gradient: 1.00E-01\n",
      "Min loss divided by 10: 1.20E-02\n"
     ]
    },
    {
     "data": {
      "image/png": "[encoded data removed]",
      "text/plain": [
       "<Figure size 432x288 with 1 Axes>"
      ]
     },
     "metadata": {
      "needs_background": "light"
     },
     "output_type": "display_data"
    }
   ],
   "source": [
    "learn.recorder.plot(suggestion=True)"
   ]
  },
  {
   "cell_type": "code",
   "execution_count": 23,
   "metadata": {},
   "outputs": [
    {
     "data": {
      "text/html": [
       "<table border=\"1\" class=\"dataframe\">\n",
       "  <thead>\n",
       "    <tr style=\"text-align: left;\">\n",
       "      <th>epoch</th>\n",
       "      <th>train_loss</th>\n",
       "      <th>valid_loss</th>\n",
       "      <th>accuracy</th>\n",
       "      <th>time</th>\n",
       "    </tr>\n",
       "  </thead>\n",
       "  <tbody>\n",
       "    <tr>\n",
       "      <td>0</td>\n",
       "      <td>0.550168</td>\n",
       "      <td>0.542456</td>\n",
       "      <td>0.772064</td>\n",
       "      <td>00:32</td>\n",
       "    </tr>\n",
       "  </tbody>\n",
       "</table>"
      ],
      "text/plain": [
       "<IPython.core.display.HTML object>"
      ]
     },
     "metadata": {},
     "output_type": "display_data"
    }
   ],
   "source": [
    "lr = 1e-2\n",
    "moms = (0.8,0.7)\n",
    "learn.fit_one_cycle(1,lr,moms=moms)"
   ]
  },
  {
   "cell_type": "code",
   "execution_count": 24,
   "metadata": {},
   "outputs": [],
   "source": [
    "learn.save('1a')"
   ]
  },
  {
   "cell_type": "code",
   "execution_count": 25,
   "metadata": {},
   "outputs": [
    {
     "data": {
      "text/html": [],
      "text/plain": [
       "<IPython.core.display.HTML object>"
      ]
     },
     "metadata": {},
     "output_type": "display_data"
    },
    {
     "name": "stdout",
     "output_type": "stream",
     "text": [
      "LR Finder is complete, type {learner_name}.recorder.plot() to see the graph.\n",
      "Min numerical gradient: 1.32E-06\n",
      "Min loss divided by 10: 6.31E-08\n"
     ]
    },
    {
     "data": {
      "image/png": "[encoded data removed]",
      "text/plain": [
       "<Figure size 432x288 with 1 Axes>"
      ]
     },
     "metadata": {
      "needs_background": "light"
     },
     "output_type": "display_data"
    }
   ],
   "source": [
    "learn.freeze_to(-2)\n",
    "learn.lr_find()\n",
    "learn.recorder.plot(suggestion=True)"
   ]
  },
  {
   "cell_type": "code",
   "execution_count": 26,
   "metadata": {},
   "outputs": [
    {
     "data": {
      "text/html": [
       "<table border=\"1\" class=\"dataframe\">\n",
       "  <thead>\n",
       "    <tr style=\"text-align: left;\">\n",
       "      <th>epoch</th>\n",
       "      <th>train_loss</th>\n",
       "      <th>valid_loss</th>\n",
       "      <th>accuracy</th>\n",
       "      <th>time</th>\n",
       "    </tr>\n",
       "  </thead>\n",
       "  <tbody>\n",
       "    <tr>\n",
       "      <td>0</td>\n",
       "      <td>0.554238</td>\n",
       "      <td>0.541220</td>\n",
       "      <td>0.772064</td>\n",
       "      <td>00:48</td>\n",
       "    </tr>\n",
       "  </tbody>\n",
       "</table>"
      ],
      "text/plain": [
       "<IPython.core.display.HTML object>"
      ]
     },
     "metadata": {},
     "output_type": "display_data"
    }
   ],
   "source": [
    "learn.fit_one_cycle(1,slice(1e-5/(2.6**4),1e-5),moms=moms)"
   ]
  },
  {
   "cell_type": "code",
   "execution_count": 27,
   "metadata": {},
   "outputs": [
    {
     "data": {
      "text/html": [],
      "text/plain": [
       "<IPython.core.display.HTML object>"
      ]
     },
     "metadata": {},
     "output_type": "display_data"
    },
    {
     "name": "stdout",
     "output_type": "stream",
     "text": [
      "LR Finder is complete, type {learner_name}.recorder.plot() to see the graph.\n"
     ]
    }
   ],
   "source": [
    "learn.freeze_to(-3)\n",
    "learn.lr_find()"
   ]
  },
  {
   "cell_type": "code",
   "execution_count": 28,
   "metadata": {},
   "outputs": [
    {
     "name": "stdout",
     "output_type": "stream",
     "text": [
      "Min numerical gradient: 2.75E-06\n",
      "Min loss divided by 10: 3.98E-07\n"
     ]
    },
    {
     "data": {
      "image/png": "[encoded data removed]",
      "text/plain": [
       "<Figure size 432x288 with 1 Axes>"
      ]
     },
     "metadata": {
      "needs_background": "light"
     },
     "output_type": "display_data"
    }
   ],
   "source": [
    "learn.recorder.plot(suggestion=True)"
   ]
  },
  {
   "cell_type": "code",
   "execution_count": 29,
   "metadata": {},
   "outputs": [
    {
     "data": {
      "text/html": [
       "<table border=\"1\" class=\"dataframe\">\n",
       "  <thead>\n",
       "    <tr style=\"text-align: left;\">\n",
       "      <th>epoch</th>\n",
       "      <th>train_loss</th>\n",
       "      <th>valid_loss</th>\n",
       "      <th>accuracy</th>\n",
       "      <th>time</th>\n",
       "    </tr>\n",
       "  </thead>\n",
       "  <tbody>\n",
       "    <tr>\n",
       "      <td>0</td>\n",
       "      <td>0.542039</td>\n",
       "      <td>0.541964</td>\n",
       "      <td>0.772064</td>\n",
       "      <td>00:59</td>\n",
       "    </tr>\n",
       "  </tbody>\n",
       "</table>"
      ],
      "text/plain": [
       "<IPython.core.display.HTML object>"
      ]
     },
     "metadata": {},
     "output_type": "display_data"
    }
   ],
   "source": [
    "learn.fit_one_cycle(1,slice(3e-7/(2.6**4),3e-7),moms=moms)"
   ]
  },
  {
   "cell_type": "code",
   "execution_count": 30,
   "metadata": {},
   "outputs": [
    {
     "data": {
      "text/html": [],
      "text/plain": [
       "<IPython.core.display.HTML object>"
      ]
     },
     "metadata": {},
     "output_type": "display_data"
    },
    {
     "name": "stdout",
     "output_type": "stream",
     "text": [
      "LR Finder is complete, type {learner_name}.recorder.plot() to see the graph.\n"
     ]
    }
   ],
   "source": [
    "learn.unfreeze()\n",
    "learn.lr_find()"
   ]
  },
  {
   "cell_type": "code",
   "execution_count": 31,
   "metadata": {},
   "outputs": [
    {
     "name": "stdout",
     "output_type": "stream",
     "text": [
      "Min numerical gradient: 9.12E-07\n",
      "Min loss divided by 10: 8.32E-05\n"
     ]
    },
    {
     "data": {
      "image/png": "[encoded data removed]",
      "text/plain": [
       "<Figure size 432x288 with 1 Axes>"
      ]
     },
     "metadata": {
      "needs_background": "light"
     },
     "output_type": "display_data"
    }
   ],
   "source": [
    "learn.recorder.plot(suggestion=True)"
   ]
  },
  {
   "cell_type": "code",
   "execution_count": 32,
   "metadata": {},
   "outputs": [
    {
     "data": {
      "text/html": [
       "<table border=\"1\" class=\"dataframe\">\n",
       "  <thead>\n",
       "    <tr style=\"text-align: left;\">\n",
       "      <th>epoch</th>\n",
       "      <th>train_loss</th>\n",
       "      <th>valid_loss</th>\n",
       "      <th>accuracy</th>\n",
       "      <th>time</th>\n",
       "    </tr>\n",
       "  </thead>\n",
       "  <tbody>\n",
       "    <tr>\n",
       "      <td>0</td>\n",
       "      <td>0.531352</td>\n",
       "      <td>0.546580</td>\n",
       "      <td>0.772064</td>\n",
       "      <td>01:16</td>\n",
       "    </tr>\n",
       "    <tr>\n",
       "      <td>1</td>\n",
       "      <td>0.533833</td>\n",
       "      <td>0.543263</td>\n",
       "      <td>0.772064</td>\n",
       "      <td>01:06</td>\n",
       "    </tr>\n",
       "    <tr>\n",
       "      <td>2</td>\n",
       "      <td>0.536354</td>\n",
       "      <td>0.553965</td>\n",
       "      <td>0.772064</td>\n",
       "      <td>01:14</td>\n",
       "    </tr>\n",
       "    <tr>\n",
       "      <td>3</td>\n",
       "      <td>0.528774</td>\n",
       "      <td>0.545880</td>\n",
       "      <td>0.772064</td>\n",
       "      <td>01:14</td>\n",
       "    </tr>\n",
       "    <tr>\n",
       "      <td>4</td>\n",
       "      <td>0.542263</td>\n",
       "      <td>0.545366</td>\n",
       "      <td>0.772064</td>\n",
       "      <td>01:09</td>\n",
       "    </tr>\n",
       "  </tbody>\n",
       "</table>"
      ],
      "text/plain": [
       "<IPython.core.display.HTML object>"
      ]
     },
     "metadata": {},
     "output_type": "display_data"
    }
   ],
   "source": [
    "learn.fit_one_cycle(5,slice(3e-5/(2.6**4),3e-5),moms=moms)"
   ]
  },
  {
   "cell_type": "code",
   "execution_count": null,
   "metadata": {},
   "outputs": [],
   "source": []
  },
  {
   "cell_type": "code",
   "execution_count": null,
   "metadata": {},
   "outputs": [],
   "source": []
  }
 ],
 "metadata": {
  "kernelspec": {
   "display_name": "Python 3",
   "language": "python",
   "name": "python3"
  },
  "language_info": {
   "codemirror_mode": {
    "name": "ipython",
    "version": 3
   },
   "file_extension": ".py",
   "mimetype": "text/x-python",
   "name": "python",
   "nbconvert_exporter": "python",
   "pygments_lexer": "ipython3",
   "version": "3.7.3"
  }
 },
 "nbformat": 4,
 "nbformat_minor": 2
}
