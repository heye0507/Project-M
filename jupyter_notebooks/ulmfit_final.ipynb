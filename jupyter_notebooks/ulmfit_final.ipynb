{
 "cells": [
  {
   "cell_type": "code",
   "execution_count": 1,
   "metadata": {},
   "outputs": [],
   "source": [
    "#export\n",
    "import numpy as np\n",
    "import pandas as pd\n",
    "import os\n",
    "\n",
    "from fastai.text import *\n",
    "from fastai import *"
   ]
  },
  {
   "cell_type": "markdown",
   "metadata": {},
   "source": [
    "# Language Model with label smoothing"
   ]
  },
  {
   "cell_type": "code",
   "execution_count": 2,
   "metadata": {},
   "outputs": [],
   "source": [
    "path = Path('/home/jupyter/insight_project/Project-M/data/preprocessed/csv')"
   ]
  },
  {
   "cell_type": "code",
   "execution_count": 3,
   "metadata": {},
   "outputs": [
    {
     "data": {
      "text/plain": [
       "72"
      ]
     },
     "execution_count": 3,
     "metadata": {},
     "output_type": "execute_result"
    }
   ],
   "source": [
    "filenames = path.ls()\n",
    "len(filenames)"
   ]
  },
  {
   "cell_type": "code",
   "execution_count": 57,
   "metadata": {},
   "outputs": [],
   "source": [
    "dfs = []\n",
    "i=0\n",
    "for file in filenames:\n",
    "    if file.name == 'models': continue\n",
    "    df = pd.read_csv(file)\n",
    "    df['user'] = i\n",
    "    i = i+1 \n",
    "    dfs.append(df)\n",
    "\n",
    "df_total = pd.concat(dfs)"
   ]
  },
  {
   "cell_type": "code",
   "execution_count": 59,
   "metadata": {},
   "outputs": [
    {
     "data": {
      "text/html": [
       "<div>\n",
       "<style scoped>\n",
       "    .dataframe tbody tr th:only-of-type {\n",
       "        vertical-align: middle;\n",
       "    }\n",
       "\n",
       "    .dataframe tbody tr th {\n",
       "        vertical-align: top;\n",
       "    }\n",
       "\n",
       "    .dataframe thead th {\n",
       "        text-align: right;\n",
       "    }\n",
       "</style>\n",
       "<table border=\"1\" class=\"dataframe\">\n",
       "  <thead>\n",
       "    <tr style=\"text-align: right;\">\n",
       "      <th></th>\n",
       "      <th>Body</th>\n",
       "      <th>Label</th>\n",
       "      <th>Source</th>\n",
       "      <th>user</th>\n",
       "    </tr>\n",
       "  </thead>\n",
       "  <tbody>\n",
       "    <tr>\n",
       "      <td>78</td>\n",
       "      <td>Surprisingly, it looks like Kalustyan's [doesn...</td>\n",
       "      <td>1</td>\n",
       "      <td>reddit</td>\n",
       "      <td>70</td>\n",
       "    </tr>\n",
       "    <tr>\n",
       "      <td>79</td>\n",
       "      <td>i also like this this type of product , u can ...</td>\n",
       "      <td>1</td>\n",
       "      <td>twitter</td>\n",
       "      <td>70</td>\n",
       "    </tr>\n",
       "    <tr>\n",
       "      <td>80</td>\n",
       "      <td>ZIPPYAR CPG enables brands to stream their vid...</td>\n",
       "      <td>0</td>\n",
       "      <td>twitter</td>\n",
       "      <td>70</td>\n",
       "    </tr>\n",
       "    <tr>\n",
       "      <td>81</td>\n",
       "      <td>Per number two, I think the idea that external...</td>\n",
       "      <td>0</td>\n",
       "      <td>reddit</td>\n",
       "      <td>70</td>\n",
       "    </tr>\n",
       "    <tr>\n",
       "      <td>82</td>\n",
       "      <td>The only vehicle I can afford is an old fuel i...</td>\n",
       "      <td>1</td>\n",
       "      <td>reddit</td>\n",
       "      <td>70</td>\n",
       "    </tr>\n",
       "  </tbody>\n",
       "</table>\n",
       "</div>"
      ],
      "text/plain": [
       "                                                 Body  Label   Source  user\n",
       "78  Surprisingly, it looks like Kalustyan's [doesn...      1   reddit    70\n",
       "79  i also like this this type of product , u can ...      1  twitter    70\n",
       "80  ZIPPYAR CPG enables brands to stream their vid...      0  twitter    70\n",
       "81  Per number two, I think the idea that external...      0   reddit    70\n",
       "82  The only vehicle I can afford is an old fuel i...      1   reddit    70"
      ]
     },
     "execution_count": 59,
     "metadata": {},
     "output_type": "execute_result"
    }
   ],
   "source": [
    "df_total.tail()"
   ]
  },
  {
   "cell_type": "code",
   "execution_count": 56,
   "metadata": {},
   "outputs": [
    {
     "data": {
      "text/plain": [
       "<matplotlib.axes._subplots.AxesSubplot at 0x7feffd750d10>"
      ]
     },
     "execution_count": 56,
     "metadata": {},
     "output_type": "execute_result"
    },
    {
     "data": {
      "image/png": "[encoded data removed]",
      "text/plain": [
       "<Figure size 432x288 with 1 Axes>"
      ]
     },
     "metadata": {
      "needs_background": "light"
     },
     "output_type": "display_data"
    }
   ],
   "source": [
    "dfs[0]['Label'].value_counts().plot(kind='bar')"
   ]
  },
  {
   "cell_type": "code",
   "execution_count": 65,
   "metadata": {},
   "outputs": [
    {
     "data": {
      "image/png": "[encoded data removed]",
      "text/plain": [
       "<Figure size 432x288 with 1 Axes>"
      ]
     },
     "metadata": {
      "needs_background": "light"
     },
     "output_type": "display_data"
    }
   ],
   "source": [
    "ax = df_total.groupby(['Label','user']).size().unstack().plot(kind='bar',stacked=True,\n",
    "                                                         legend=False,title='Total Data Distribution'\n",
    "                                                        )\n",
    "ax.set(xlabel='Relevent', ylabel='Counts')\n",
    "plt.show()"
   ]
  },
  {
   "cell_type": "code",
   "execution_count": 5,
   "metadata": {},
   "outputs": [
    {
     "data": {
      "text/plain": [
       "0    17911\n",
       "1     4976\n",
       "Name: Label, dtype: int64"
      ]
     },
     "execution_count": 5,
     "metadata": {},
     "output_type": "execute_result"
    }
   ],
   "source": [
    "df_total['Label'].value_counts()"
   ]
  },
  {
   "cell_type": "code",
   "execution_count": 15,
   "metadata": {},
   "outputs": [
    {
     "data": {
      "text/plain": [
       "'But I think tick is easier than nita\\n\\nI push tick mostly in duo sd and brawl ball (tick jist need to support teammate and i get 500 tick in lv 3)'"
      ]
     },
     "execution_count": 15,
     "metadata": {},
     "output_type": "execute_result"
    }
   ],
   "source": [
    "df_total.iloc[400]['Body']"
   ]
  },
  {
   "cell_type": "code",
   "execution_count": 6,
   "metadata": {},
   "outputs": [],
   "source": [
    "txt_proc = [\n",
    "    OpenFileProcessor(),\n",
    "    TokenizeProcessor(),\n",
    "    NumericalizeProcessor(min_freq=2)\n",
    "]"
   ]
  },
  {
   "cell_type": "code",
   "execution_count": 7,
   "metadata": {},
   "outputs": [],
   "source": [
    "data_lm = (TextList\n",
    "           .from_df(df_total,path=path,processor=txt_proc)\n",
    "           .split_by_rand_pct(0.1)\n",
    "           .label_for_lm()\n",
    "           .databunch(bs=64,num_workers=os.cpu_count()*4)\n",
    "          )"
   ]
  },
  {
   "cell_type": "markdown",
   "metadata": {},
   "source": [
    "# Pre-processing:\n",
    "* pre_rules:\n",
    "* post_rules:"
   ]
  },
  {
   "cell_type": "code",
   "execution_count": 38,
   "metadata": {},
   "outputs": [],
   "source": [
    "pd.set_option('display.max_colwidth', -1)"
   ]
  },
  {
   "cell_type": "markdown",
   "metadata": {},
   "source": [
    "Original text and after pre-processing / tokenized text"
   ]
  },
  {
   "cell_type": "code",
   "execution_count": 84,
   "metadata": {},
   "outputs": [
    {
     "data": {
      "text/plain": [
       "'Therefore application servers as minimum environment still makes sense in development environment. But Kubernetes and other orchestrators make sense in production env. https://t.co/H6AMOZWfav'"
      ]
     },
     "execution_count": 84,
     "metadata": {},
     "output_type": "execute_result"
    }
   ],
   "source": [
    "data_lm.train_ds.x.inner_df.iloc[140]['Body']"
   ]
  },
  {
   "cell_type": "code",
   "execution_count": 85,
   "metadata": {},
   "outputs": [
    {
     "data": {
      "text/plain": [
       "(Text xxbos xxmaj therefore application servers as minimum environment still makes sense in development environment . xxmaj but xxmaj kubernetes and other xxunk make sense in production env . https : / / t.co / xxunk,\n",
       " EmptyLabel )"
      ]
     },
     "execution_count": 85,
     "metadata": {},
     "output_type": "execute_result"
    }
   ],
   "source": [
    "data_lm.train_ds[140]"
   ]
  },
  {
   "cell_type": "code",
   "execution_count": 87,
   "metadata": {},
   "outputs": [
    {
     "data": {
      "text/plain": [
       "'Best Gyms Near Me With Personal Trainers --   \\n\\nIf you love your body then go to the gym to get the perfect shape. Find the best gym and fitness centers with personal trainers near you with Fitsapp.\\n\\nClick the Link to Download the App:  [https://play.google.com/store/apps/details?id=in.fitsapp.sheliza.fitsapp](https://play.google.com/store/apps/details?id=in.fitsapp.sheliza.fitsapp)'"
      ]
     },
     "execution_count": 87,
     "metadata": {},
     "output_type": "execute_result"
    }
   ],
   "source": [
    "data_lm.train_ds.x.inner_df.iloc[570]['Body']"
   ]
  },
  {
   "cell_type": "code",
   "execution_count": 88,
   "metadata": {},
   "outputs": [
    {
     "data": {
      "text/plain": [
       "(Text xxbos xxmaj best xxmaj gyms xxmaj near xxmaj me xxmaj with xxmaj personal xxmaj trainers -- \n",
       "  \n",
       "   xxmaj if you love your body then go to the gym to get the perfect shape . xxmaj find the best gym and fitness centers with personal trainers near you with xxmaj fitsapp . \n",
       "  \n",
       "   xxmaj click the xxmaj link to xxmaj download the xxmaj app : [ https : / / play.google.com / store / apps / details?id = in.fitsapp.sheliza.fitsapp](https : / / play.google.com / store / apps / details?id = in.fitsapp.sheliza.fitsapp ),\n",
       " EmptyLabel )"
      ]
     },
     "execution_count": 88,
     "metadata": {},
     "output_type": "execute_result"
    }
   ],
   "source": [
    "data_lm.train_ds[570]"
   ]
  },
  {
   "cell_type": "code",
   "execution_count": 93,
   "metadata": {},
   "outputs": [
    {
     "data": {
      "text/plain": [
       "13839"
      ]
     },
     "execution_count": 93,
     "metadata": {},
     "output_type": "execute_result"
    }
   ],
   "source": [
    "data_lm.vocab.stoi['in.fitsapp.sheliza.fitsapp']"
   ]
  },
  {
   "cell_type": "code",
   "execution_count": 94,
   "metadata": {},
   "outputs": [],
   "source": [
    "data_lm.save(path/'models/data_lm_large.pkl')"
   ]
  },
  {
   "cell_type": "code",
   "execution_count": 16,
   "metadata": {},
   "outputs": [],
   "source": [
    "data_lm = load_data(path/'models','data_lm_large.pkl',bs=64)"
   ]
  },
  {
   "cell_type": "code",
   "execution_count": 8,
   "metadata": {},
   "outputs": [],
   "source": [
    "loss_func = FlattenedLoss(LabelSmoothingCrossEntropy)"
   ]
  },
  {
   "cell_type": "code",
   "execution_count": 9,
   "metadata": {},
   "outputs": [],
   "source": [
    "learn = language_model_learner(data_lm,AWD_LSTM,loss_func=loss_func,drop_mult=0.3)"
   ]
  },
  {
   "cell_type": "code",
   "execution_count": 10,
   "metadata": {},
   "outputs": [
    {
     "data": {
      "text/html": [],
      "text/plain": [
       "<IPython.core.display.HTML object>"
      ]
     },
     "metadata": {},
     "output_type": "display_data"
    },
    {
     "name": "stdout",
     "output_type": "stream",
     "text": [
      "LR Finder is complete, type {learner_name}.recorder.plot() to see the graph.\n"
     ]
    }
   ],
   "source": [
    "learn.to_fp16()\n",
    "learn.lr_find()"
   ]
  },
  {
   "cell_type": "code",
   "execution_count": 11,
   "metadata": {},
   "outputs": [
    {
     "name": "stdout",
     "output_type": "stream",
     "text": [
      "Min numerical gradient: 3.98E-02\n",
      "Min loss divided by 10: 1.74E-02\n"
     ]
    },
    {
     "data": {
      "image/png": "[encoded data removed]",
      "text/plain": [
       "<Figure size 432x288 with 1 Axes>"
      ]
     },
     "metadata": {
      "needs_background": "light"
     },
     "output_type": "display_data"
    }
   ],
   "source": [
    "learn.recorder.plot(suggestion=True)"
   ]
  },
  {
   "cell_type": "code",
   "execution_count": 12,
   "metadata": {},
   "outputs": [
    {
     "data": {
      "text/html": [
       "<table border=\"1\" class=\"dataframe\">\n",
       "  <thead>\n",
       "    <tr style=\"text-align: left;\">\n",
       "      <th>epoch</th>\n",
       "      <th>train_loss</th>\n",
       "      <th>valid_loss</th>\n",
       "      <th>accuracy</th>\n",
       "      <th>time</th>\n",
       "    </tr>\n",
       "  </thead>\n",
       "  <tbody>\n",
       "    <tr>\n",
       "      <td>0</td>\n",
       "      <td>5.009421</td>\n",
       "      <td>4.856063</td>\n",
       "      <td>0.325057</td>\n",
       "      <td>02:44</td>\n",
       "    </tr>\n",
       "  </tbody>\n",
       "</table>"
      ],
      "text/plain": [
       "<IPython.core.display.HTML object>"
      ]
     },
     "metadata": {},
     "output_type": "display_data"
    }
   ],
   "source": [
    "learn.fit_one_cycle(1,1e-2,moms=(0.8,0.7))"
   ]
  },
  {
   "cell_type": "code",
   "execution_count": 13,
   "metadata": {},
   "outputs": [
    {
     "data": {
      "text/html": [],
      "text/plain": [
       "<IPython.core.display.HTML object>"
      ]
     },
     "metadata": {},
     "output_type": "display_data"
    },
    {
     "name": "stdout",
     "output_type": "stream",
     "text": [
      "LR Finder is complete, type {learner_name}.recorder.plot() to see the graph.\n",
      "Min numerical gradient: 6.31E-07\n",
      "Min loss divided by 10: 9.12E-04\n"
     ]
    },
    {
     "data": {
      "image/png": "[encoded data removed]",
      "text/plain": [
       "<Figure size 432x288 with 1 Axes>"
      ]
     },
     "metadata": {
      "needs_background": "light"
     },
     "output_type": "display_data"
    }
   ],
   "source": [
    "learn.unfreeze()\n",
    "learn.lr_find()\n",
    "learn.recorder.plot(suggestion=True)"
   ]
  },
  {
   "cell_type": "code",
   "execution_count": 17,
   "metadata": {},
   "outputs": [
    {
     "data": {
      "text/html": [
       "<table border=\"1\" class=\"dataframe\">\n",
       "  <thead>\n",
       "    <tr style=\"text-align: left;\">\n",
       "      <th>epoch</th>\n",
       "      <th>train_loss</th>\n",
       "      <th>valid_loss</th>\n",
       "      <th>accuracy</th>\n",
       "      <th>time</th>\n",
       "    </tr>\n",
       "  </thead>\n",
       "  <tbody>\n",
       "    <tr>\n",
       "      <td>0</td>\n",
       "      <td>5.032220</td>\n",
       "      <td>5.105643</td>\n",
       "      <td>0.335762</td>\n",
       "      <td>02:55</td>\n",
       "    </tr>\n",
       "    <tr>\n",
       "      <td>1</td>\n",
       "      <td>4.647974</td>\n",
       "      <td>4.786225</td>\n",
       "      <td>0.356068</td>\n",
       "      <td>02:54</td>\n",
       "    </tr>\n",
       "    <tr>\n",
       "      <td>2</td>\n",
       "      <td>4.464023</td>\n",
       "      <td>4.635537</td>\n",
       "      <td>0.375961</td>\n",
       "      <td>02:54</td>\n",
       "    </tr>\n",
       "    <tr>\n",
       "      <td>3</td>\n",
       "      <td>4.246868</td>\n",
       "      <td>4.529159</td>\n",
       "      <td>0.391695</td>\n",
       "      <td>02:55</td>\n",
       "    </tr>\n",
       "    <tr>\n",
       "      <td>4</td>\n",
       "      <td>4.073252</td>\n",
       "      <td>4.453542</td>\n",
       "      <td>0.404121</td>\n",
       "      <td>02:56</td>\n",
       "    </tr>\n",
       "    <tr>\n",
       "      <td>5</td>\n",
       "      <td>3.887814</td>\n",
       "      <td>4.418527</td>\n",
       "      <td>0.413021</td>\n",
       "      <td>02:56</td>\n",
       "    </tr>\n",
       "    <tr>\n",
       "      <td>6</td>\n",
       "      <td>3.781201</td>\n",
       "      <td>4.404501</td>\n",
       "      <td>0.419118</td>\n",
       "      <td>02:56</td>\n",
       "    </tr>\n",
       "    <tr>\n",
       "      <td>7</td>\n",
       "      <td>3.684335</td>\n",
       "      <td>4.392826</td>\n",
       "      <td>0.424247</td>\n",
       "      <td>02:57</td>\n",
       "    </tr>\n",
       "    <tr>\n",
       "      <td>8</td>\n",
       "      <td>3.588093</td>\n",
       "      <td>4.397166</td>\n",
       "      <td>0.426759</td>\n",
       "      <td>02:58</td>\n",
       "    </tr>\n",
       "    <tr>\n",
       "      <td>9</td>\n",
       "      <td>3.445781</td>\n",
       "      <td>4.399778</td>\n",
       "      <td>0.426860</td>\n",
       "      <td>02:58</td>\n",
       "    </tr>\n",
       "  </tbody>\n",
       "</table>"
      ],
      "text/plain": [
       "<IPython.core.display.HTML object>"
      ]
     },
     "metadata": {},
     "output_type": "display_data"
    }
   ],
   "source": [
    "learn.fit_one_cycle(10,1e-3,moms=(0.8,0.7))"
   ]
  },
  {
   "cell_type": "code",
   "execution_count": 18,
   "metadata": {},
   "outputs": [],
   "source": [
    "learn.save('fine-tuned-large-fwd')"
   ]
  },
  {
   "cell_type": "code",
   "execution_count": 22,
   "metadata": {},
   "outputs": [],
   "source": [
    "learn.to_fp32().save(path/'models/fine-tuned-fwd',with_opt=False)\n",
    "learn.save_encoder(path/'models/fine-tuned-enc-fwd')"
   ]
  },
  {
   "cell_type": "code",
   "execution_count": 23,
   "metadata": {},
   "outputs": [
    {
     "name": "stdout",
     "output_type": "stream",
     "text": [
      "1a.pth\t\t\t    data_lm.pkl\t\t    models\r\n",
      "awd_lstm_baseline-0917.pth  fine-tuned-enc-fwd.pth  textlist_class_seed42\r\n",
      "data_lm_large.pkl\t    fine-tuned-fwd.pth\t    tmp.pth\r\n"
     ]
    }
   ],
   "source": [
    "!ls {path}/'models'"
   ]
  },
  {
   "cell_type": "markdown",
   "metadata": {},
   "source": [
    "# Backward language model"
   ]
  },
  {
   "cell_type": "code",
   "execution_count": 19,
   "metadata": {},
   "outputs": [],
   "source": [
    "txt_proc = [\n",
    "    OpenFileProcessor(),\n",
    "    TokenizeProcessor(),\n",
    "    NumericalizeProcessor(min_freq=2)\n",
    "]"
   ]
  },
  {
   "cell_type": "code",
   "execution_count": 20,
   "metadata": {},
   "outputs": [],
   "source": [
    "data_lm = (TextList\n",
    "           .from_df(df_total,path=path,processor=txt_proc)\n",
    "           .split_by_rand_pct(0.1)\n",
    "           .label_for_lm()\n",
    "           .databunch(bs=64,num_workers=os.cpu_count()*4,backwards=True)\n",
    "          )"
   ]
  },
  {
   "cell_type": "code",
   "execution_count": 24,
   "metadata": {},
   "outputs": [],
   "source": [
    "data_lm.save(path/'models/data_lm_large_bwd.pkl')"
   ]
  },
  {
   "cell_type": "code",
   "execution_count": 25,
   "metadata": {},
   "outputs": [],
   "source": [
    "data_lm = load_data(path/'models/','data_lm_large_bwd.pkl',bs=64,backwards=True)"
   ]
  },
  {
   "cell_type": "code",
   "execution_count": 26,
   "metadata": {},
   "outputs": [],
   "source": [
    "loss_func = FlattenedLoss(LabelSmoothingCrossEntropy)\n",
    "learn = language_model_learner(data_lm,AWD_LSTM,loss_func=loss_func,drop_mult=0.5).to_fp16()"
   ]
  },
  {
   "cell_type": "code",
   "execution_count": 27,
   "metadata": {},
   "outputs": [
    {
     "data": {
      "text/html": [],
      "text/plain": [
       "<IPython.core.display.HTML object>"
      ]
     },
     "metadata": {},
     "output_type": "display_data"
    },
    {
     "name": "stdout",
     "output_type": "stream",
     "text": [
      "LR Finder is complete, type {learner_name}.recorder.plot() to see the graph.\n"
     ]
    }
   ],
   "source": [
    "learn.lr_find()"
   ]
  },
  {
   "cell_type": "code",
   "execution_count": 28,
   "metadata": {},
   "outputs": [
    {
     "name": "stdout",
     "output_type": "stream",
     "text": [
      "Min numerical gradient: 1.91E-02\n",
      "Min loss divided by 10: 1.74E-02\n"
     ]
    },
    {
     "data": {
      "image/png": "[encoded data removed]",
      "text/plain": [
       "<Figure size 432x288 with 1 Axes>"
      ]
     },
     "metadata": {
      "needs_background": "light"
     },
     "output_type": "display_data"
    }
   ],
   "source": [
    "learn.recorder.plot(suggestion=True)"
   ]
  },
  {
   "cell_type": "code",
   "execution_count": 30,
   "metadata": {},
   "outputs": [],
   "source": [
    "lr = 1e-2"
   ]
  },
  {
   "cell_type": "code",
   "execution_count": 32,
   "metadata": {},
   "outputs": [
    {
     "data": {
      "text/html": [
       "<table border=\"1\" class=\"dataframe\">\n",
       "  <thead>\n",
       "    <tr style=\"text-align: left;\">\n",
       "      <th>epoch</th>\n",
       "      <th>train_loss</th>\n",
       "      <th>valid_loss</th>\n",
       "      <th>accuracy</th>\n",
       "      <th>time</th>\n",
       "    </tr>\n",
       "  </thead>\n",
       "  <tbody>\n",
       "    <tr>\n",
       "      <td>0</td>\n",
       "      <td>5.118210</td>\n",
       "      <td>4.907674</td>\n",
       "      <td>0.343916</td>\n",
       "      <td>02:43</td>\n",
       "    </tr>\n",
       "    <tr>\n",
       "      <td>1</td>\n",
       "      <td>4.803553</td>\n",
       "      <td>4.743691</td>\n",
       "      <td>0.366969</td>\n",
       "      <td>02:44</td>\n",
       "    </tr>\n",
       "  </tbody>\n",
       "</table>"
      ],
      "text/plain": [
       "<IPython.core.display.HTML object>"
      ]
     },
     "metadata": {},
     "output_type": "display_data"
    }
   ],
   "source": [
    "learn.fit_one_cycle(2, lr, moms=(0.8,0.7))"
   ]
  },
  {
   "cell_type": "code",
   "execution_count": 33,
   "metadata": {},
   "outputs": [
    {
     "data": {
      "text/html": [],
      "text/plain": [
       "<IPython.core.display.HTML object>"
      ]
     },
     "metadata": {},
     "output_type": "display_data"
    },
    {
     "name": "stdout",
     "output_type": "stream",
     "text": [
      "LR Finder is complete, type {learner_name}.recorder.plot() to see the graph.\n"
     ]
    }
   ],
   "source": [
    "learn.unfreeze()\n",
    "learn.lr_find()"
   ]
  },
  {
   "cell_type": "code",
   "execution_count": 37,
   "metadata": {},
   "outputs": [
    {
     "data": {
      "text/html": [
       "<table border=\"1\" class=\"dataframe\">\n",
       "  <thead>\n",
       "    <tr style=\"text-align: left;\">\n",
       "      <th>epoch</th>\n",
       "      <th>train_loss</th>\n",
       "      <th>valid_loss</th>\n",
       "      <th>accuracy</th>\n",
       "      <th>time</th>\n",
       "    </tr>\n",
       "  </thead>\n",
       "  <tbody>\n",
       "    <tr>\n",
       "      <td>0</td>\n",
       "      <td>4.484398</td>\n",
       "      <td>4.646111</td>\n",
       "      <td>0.385035</td>\n",
       "      <td>03:02</td>\n",
       "    </tr>\n",
       "    <tr>\n",
       "      <td>1</td>\n",
       "      <td>4.378865</td>\n",
       "      <td>4.549836</td>\n",
       "      <td>0.405811</td>\n",
       "      <td>03:02</td>\n",
       "    </tr>\n",
       "    <tr>\n",
       "      <td>2</td>\n",
       "      <td>4.331396</td>\n",
       "      <td>4.462442</td>\n",
       "      <td>0.423397</td>\n",
       "      <td>03:02</td>\n",
       "    </tr>\n",
       "    <tr>\n",
       "      <td>3</td>\n",
       "      <td>4.208072</td>\n",
       "      <td>4.401680</td>\n",
       "      <td>0.435429</td>\n",
       "      <td>03:02</td>\n",
       "    </tr>\n",
       "    <tr>\n",
       "      <td>4</td>\n",
       "      <td>4.067045</td>\n",
       "      <td>4.355118</td>\n",
       "      <td>0.445166</td>\n",
       "      <td>03:03</td>\n",
       "    </tr>\n",
       "    <tr>\n",
       "      <td>5</td>\n",
       "      <td>3.920295</td>\n",
       "      <td>4.328608</td>\n",
       "      <td>0.452619</td>\n",
       "      <td>03:03</td>\n",
       "    </tr>\n",
       "    <tr>\n",
       "      <td>6</td>\n",
       "      <td>3.804653</td>\n",
       "      <td>4.310792</td>\n",
       "      <td>0.457527</td>\n",
       "      <td>03:03</td>\n",
       "    </tr>\n",
       "    <tr>\n",
       "      <td>7</td>\n",
       "      <td>3.773977</td>\n",
       "      <td>4.302506</td>\n",
       "      <td>0.461235</td>\n",
       "      <td>03:03</td>\n",
       "    </tr>\n",
       "    <tr>\n",
       "      <td>8</td>\n",
       "      <td>3.674109</td>\n",
       "      <td>4.300546</td>\n",
       "      <td>0.462647</td>\n",
       "      <td>03:03</td>\n",
       "    </tr>\n",
       "    <tr>\n",
       "      <td>9</td>\n",
       "      <td>3.543531</td>\n",
       "      <td>4.301922</td>\n",
       "      <td>0.462994</td>\n",
       "      <td>03:03</td>\n",
       "    </tr>\n",
       "  </tbody>\n",
       "</table>"
      ],
      "text/plain": [
       "<IPython.core.display.HTML object>"
      ]
     },
     "metadata": {},
     "output_type": "display_data"
    }
   ],
   "source": [
    "learn.fit_one_cycle(10, lr/10, moms=(0.8,0.7))"
   ]
  },
  {
   "cell_type": "code",
   "execution_count": 38,
   "metadata": {},
   "outputs": [],
   "source": [
    "learn.to_fp32().save(path/'models/fine-tuned-bwd',with_opt=False)\n",
    "learn.save_encoder(path/'models/fine-tuned-enc-bwd')"
   ]
  },
  {
   "cell_type": "code",
   "execution_count": 40,
   "metadata": {},
   "outputs": [
    {
     "name": "stdout",
     "output_type": "stream",
     "text": [
      "1a.pth\t\t\t    data_lm.pkl\t\t    fine-tuned-fwd.pth\r\n",
      "awd_lstm_baseline-0917.pth  fine-tuned-bwd.pth\t    models\r\n",
      "data_lm_large_bwd.pkl\t    fine-tuned-enc-bwd.pth  textlist_class_seed42\r\n",
      "data_lm_large.pkl\t    fine-tuned-enc-fwd.pth  tmp.pth\r\n"
     ]
    }
   ],
   "source": [
    "!ls {path}/models"
   ]
  },
  {
   "cell_type": "markdown",
   "metadata": {},
   "source": [
    "# Classifier - FWD"
   ]
  },
  {
   "cell_type": "code",
   "execution_count": 19,
   "metadata": {},
   "outputs": [
    {
     "data": {
      "text/plain": [
       "71"
      ]
     },
     "execution_count": 19,
     "metadata": {},
     "output_type": "execute_result"
    }
   ],
   "source": [
    "filenames.remove(Path('/home/jupyter/insight_project/Project-M/data/preprocessed/csv/models'))\n",
    "len(filenames)"
   ]
  },
  {
   "cell_type": "code",
   "execution_count": 20,
   "metadata": {},
   "outputs": [],
   "source": [
    "import random\n",
    "\n",
    "random.seed(42)\n",
    "random.shuffle(filenames)\n",
    " \n",
    "def _train_valid_split(total_filenames,train_pct=0.7):\n",
    "    '''split the train and test base on total datasets\n",
    "        return train_list and valid_list with their associated path'''\n",
    "\n",
    "    split_point = round(len(total_filenames)*train_pct)\n",
    "    assert (type(split_point) == int)\n",
    "    return total_filenames[:split_point],total_filenames[split_point:]\n",
    "\n",
    "def _get_df_from_filenames(filenames):\n",
    "    '''pass a list of filenames, return df of total'''\n",
    "    \n",
    "    dfs = []\n",
    "    for file in filenames:\n",
    "        df = pd.read_csv(file)\n",
    "        dfs.append(df)\n",
    "\n",
    "    df_total = pd.concat(dfs)\n",
    "    return df_total"
   ]
  },
  {
   "cell_type": "code",
   "execution_count": 21,
   "metadata": {},
   "outputs": [
    {
     "data": {
      "text/plain": [
       "0    11599\n",
       "1     3472\n",
       "Name: Label, dtype: int64"
      ]
     },
     "execution_count": 21,
     "metadata": {},
     "output_type": "execute_result"
    }
   ],
   "source": [
    "train_list, valid_list = _train_valid_split(filenames)\n",
    "df_train = _get_df_from_filenames(train_list)\n",
    "df_train['Label'].value_counts()"
   ]
  },
  {
   "cell_type": "code",
   "execution_count": 43,
   "metadata": {},
   "outputs": [
    {
     "name": "stdout",
     "output_type": "stream",
     "text": [
      "1a.pth\t\t\t    data_lm.pkl\t\t    fine-tuned-fwd.pth\r\n",
      "awd_lstm_baseline-0917.pth  fine-tuned-bwd.pth\t    models\r\n",
      "data_lm_large_bwd.pkl\t    fine-tuned-enc-bwd.pth  textlist_class_seed42\r\n",
      "data_lm_large.pkl\t    fine-tuned-enc-fwd.pth  tmp.pth\r\n"
     ]
    }
   ],
   "source": [
    "!ls {path}/'models'"
   ]
  },
  {
   "cell_type": "code",
   "execution_count": 150,
   "metadata": {},
   "outputs": [],
   "source": [
    "data_lm = load_data(path/'models','data_lm_large.pkl',bs=64)"
   ]
  },
  {
   "cell_type": "code",
   "execution_count": 17,
   "metadata": {},
   "outputs": [
    {
     "data": {
      "text/plain": [
       "34"
      ]
     },
     "execution_count": 17,
     "metadata": {},
     "output_type": "execute_result"
    }
   ],
   "source": [
    "data_lm.vocab.stoi['this']"
   ]
  },
  {
   "cell_type": "code",
   "execution_count": 22,
   "metadata": {},
   "outputs": [],
   "source": [
    "data = (TextList\n",
    "        .from_df(df=df_train,path=path,cols='Body',vocab=data_lm.vocab)\n",
    "        .split_by_rand_pct(0.1,seed=42)\n",
    "        .label_from_df(cols='Label')\n",
    "        .databunch(bs=64,num_workers=os.cpu_count()*4)\n",
    "       )"
   ]
  },
  {
   "cell_type": "code",
   "execution_count": 47,
   "metadata": {},
   "outputs": [
    {
     "data": {
      "text/plain": [
       "2801"
      ]
     },
     "execution_count": 47,
     "metadata": {},
     "output_type": "execute_result"
    }
   ],
   "source": [
    "data.vocab.stoi['bigquery']"
   ]
  },
  {
   "cell_type": "code",
   "execution_count": 52,
   "metadata": {},
   "outputs": [
    {
     "data": {
      "text/plain": [
       "'From user-defined functions to increased concurrency limits, here’s how @GCPCloud’s new #BigQuery features are helping developers get more out of their data → https://t.co/e4LtucV4ke'"
      ]
     },
     "execution_count": 52,
     "metadata": {},
     "output_type": "execute_result"
    }
   ],
   "source": [
    "data.train_ds.inner_df.iloc[17]['Body']"
   ]
  },
  {
   "cell_type": "code",
   "execution_count": 44,
   "metadata": {},
   "outputs": [
    {
     "data": {
      "text/plain": [
       "Text xxbos xxmaj damn that does sound like a textbook clusterfuck . xxmaj one thing i did in a similar situation is to try and pool data into one that is modern ( xxmaj google bigquery in this case ) and then go from there ."
      ]
     },
     "execution_count": 44,
     "metadata": {},
     "output_type": "execute_result"
    }
   ],
   "source": [
    "data.train_ds[14][0]"
   ]
  },
  {
   "cell_type": "code",
   "execution_count": 53,
   "metadata": {},
   "outputs": [
    {
     "data": {
      "text/plain": [
       "0"
      ]
     },
     "execution_count": 53,
     "metadata": {},
     "output_type": "execute_result"
    }
   ],
   "source": [
    "data.train_ds.inner_df.iloc[17]['Label']"
   ]
  },
  {
   "cell_type": "code",
   "execution_count": null,
   "metadata": {},
   "outputs": [],
   "source": []
  },
  {
   "cell_type": "code",
   "execution_count": 48,
   "metadata": {},
   "outputs": [],
   "source": [
    "from sklearn.metrics import f1_score\n",
    "\n",
    "@np_func\n",
    "def f1(inp,targ): return f1_score(targ, np.argmax(inp, axis=-1))"
   ]
  },
  {
   "cell_type": "code",
   "execution_count": 49,
   "metadata": {},
   "outputs": [],
   "source": [
    "loss_func = FlattenedLoss(LabelSmoothingCrossEntropy)"
   ]
  },
  {
   "cell_type": "code",
   "execution_count": 50,
   "metadata": {},
   "outputs": [],
   "source": [
    "learn = text_classifier_learner(data,AWD_LSTM,drop_mult=0.5,\n",
    "                                loss_func=loss_func,\n",
    "                                metrics=[accuracy,f1], #FBeta(beta=1)\n",
    "                                model_dir = path/'models'\n",
    "                               ).to_fp16()"
   ]
  },
  {
   "cell_type": "code",
   "execution_count": 51,
   "metadata": {},
   "outputs": [],
   "source": [
    "learn.load_encoder('fine-tuned-enc-fwd');"
   ]
  },
  {
   "cell_type": "code",
   "execution_count": 52,
   "metadata": {},
   "outputs": [],
   "source": [
    "learn.freeze_to(-1);"
   ]
  },
  {
   "cell_type": "code",
   "execution_count": 53,
   "metadata": {},
   "outputs": [
    {
     "data": {
      "text/html": [],
      "text/plain": [
       "<IPython.core.display.HTML object>"
      ]
     },
     "metadata": {},
     "output_type": "display_data"
    },
    {
     "name": "stdout",
     "output_type": "stream",
     "text": [
      "LR Finder is complete, type {learner_name}.recorder.plot() to see the graph.\n"
     ]
    }
   ],
   "source": [
    "learn.lr_find()"
   ]
  },
  {
   "cell_type": "code",
   "execution_count": 54,
   "metadata": {},
   "outputs": [
    {
     "name": "stdout",
     "output_type": "stream",
     "text": [
      "Min numerical gradient: 2.09E-01\n",
      "Min loss divided by 10: 4.37E-02\n"
     ]
    },
    {
     "data": {
      "image/png": "[encoded data removed]",
      "text/plain": [
       "<Figure size 432x288 with 1 Axes>"
      ]
     },
     "metadata": {
      "needs_background": "light"
     },
     "output_type": "display_data"
    }
   ],
   "source": [
    "learn.recorder.plot(suggestion=True)"
   ]
  },
  {
   "cell_type": "code",
   "execution_count": 55,
   "metadata": {},
   "outputs": [
    {
     "data": {
      "text/html": [
       "<table border=\"1\" class=\"dataframe\">\n",
       "  <thead>\n",
       "    <tr style=\"text-align: left;\">\n",
       "      <th>epoch</th>\n",
       "      <th>train_loss</th>\n",
       "      <th>valid_loss</th>\n",
       "      <th>accuracy</th>\n",
       "      <th>f1</th>\n",
       "      <th>time</th>\n",
       "    </tr>\n",
       "  </thead>\n",
       "  <tbody>\n",
       "    <tr>\n",
       "      <td>0</td>\n",
       "      <td>0.527126</td>\n",
       "      <td>0.546029</td>\n",
       "      <td>0.783484</td>\n",
       "      <td>0.134762</td>\n",
       "      <td>00:46</td>\n",
       "    </tr>\n",
       "    <tr>\n",
       "      <td>1</td>\n",
       "      <td>0.528995</td>\n",
       "      <td>0.503052</td>\n",
       "      <td>0.804632</td>\n",
       "      <td>0.366207</td>\n",
       "      <td>00:42</td>\n",
       "    </tr>\n",
       "  </tbody>\n",
       "</table>"
      ],
      "text/plain": [
       "<IPython.core.display.HTML object>"
      ]
     },
     "metadata": {},
     "output_type": "display_data"
    },
    {
     "name": "stderr",
     "output_type": "stream",
     "text": [
      "/opt/anaconda3/lib/python3.7/site-packages/sklearn/metrics/classification.py:1437: UndefinedMetricWarning: F-score is ill-defined and being set to 0.0 due to no predicted samples.\n",
      "  'precision', 'predicted', average, warn_for)\n",
      "/opt/anaconda3/lib/python3.7/site-packages/sklearn/metrics/classification.py:1437: UndefinedMetricWarning: F-score is ill-defined and being set to 0.0 due to no predicted samples.\n",
      "  'precision', 'predicted', average, warn_for)\n",
      "/opt/anaconda3/lib/python3.7/site-packages/sklearn/metrics/classification.py:1437: UndefinedMetricWarning: F-score is ill-defined and being set to 0.0 due to no predicted samples.\n",
      "  'precision', 'predicted', average, warn_for)\n",
      "/opt/anaconda3/lib/python3.7/site-packages/sklearn/metrics/classification.py:1437: UndefinedMetricWarning: F-score is ill-defined and being set to 0.0 due to no predicted samples.\n",
      "  'precision', 'predicted', average, warn_for)\n",
      "/opt/anaconda3/lib/python3.7/site-packages/sklearn/metrics/classification.py:1437: UndefinedMetricWarning: F-score is ill-defined and being set to 0.0 due to no predicted samples.\n",
      "  'precision', 'predicted', average, warn_for)\n",
      "/opt/anaconda3/lib/python3.7/site-packages/sklearn/metrics/classification.py:1437: UndefinedMetricWarning: F-score is ill-defined and being set to 0.0 due to no predicted samples.\n",
      "  'precision', 'predicted', average, warn_for)\n",
      "/opt/anaconda3/lib/python3.7/site-packages/sklearn/metrics/classification.py:1437: UndefinedMetricWarning: F-score is ill-defined and being set to 0.0 due to no predicted samples.\n",
      "  'precision', 'predicted', average, warn_for)\n",
      "/opt/anaconda3/lib/python3.7/site-packages/sklearn/metrics/classification.py:1437: UndefinedMetricWarning: F-score is ill-defined and being set to 0.0 due to no predicted samples.\n",
      "  'precision', 'predicted', average, warn_for)\n",
      "/opt/anaconda3/lib/python3.7/site-packages/sklearn/metrics/classification.py:1437: UndefinedMetricWarning: F-score is ill-defined and being set to 0.0 due to no predicted samples.\n",
      "  'precision', 'predicted', average, warn_for)\n",
      "/opt/anaconda3/lib/python3.7/site-packages/sklearn/metrics/classification.py:1437: UndefinedMetricWarning: F-score is ill-defined and being set to 0.0 due to no predicted samples.\n",
      "  'precision', 'predicted', average, warn_for)\n",
      "/opt/anaconda3/lib/python3.7/site-packages/sklearn/metrics/classification.py:1437: UndefinedMetricWarning: F-score is ill-defined and being set to 0.0 due to no predicted samples.\n",
      "  'precision', 'predicted', average, warn_for)\n",
      "/opt/anaconda3/lib/python3.7/site-packages/sklearn/metrics/classification.py:1437: UndefinedMetricWarning: F-score is ill-defined and being set to 0.0 due to no predicted samples.\n",
      "  'precision', 'predicted', average, warn_for)\n",
      "/opt/anaconda3/lib/python3.7/site-packages/sklearn/metrics/classification.py:1437: UndefinedMetricWarning: F-score is ill-defined and being set to 0.0 due to no predicted samples.\n",
      "  'precision', 'predicted', average, warn_for)\n"
     ]
    }
   ],
   "source": [
    "lr = 4e-2 * 64/48\n",
    "moms = (0.8,0.7)\n",
    "learn.fit_one_cycle(2,lr,moms=moms)"
   ]
  },
  {
   "cell_type": "code",
   "execution_count": 56,
   "metadata": {},
   "outputs": [
    {
     "data": {
      "text/html": [
       "<table border=\"1\" class=\"dataframe\">\n",
       "  <thead>\n",
       "    <tr style=\"text-align: left;\">\n",
       "      <th>epoch</th>\n",
       "      <th>train_loss</th>\n",
       "      <th>valid_loss</th>\n",
       "      <th>accuracy</th>\n",
       "      <th>f1</th>\n",
       "      <th>time</th>\n",
       "    </tr>\n",
       "  </thead>\n",
       "  <tbody>\n",
       "    <tr>\n",
       "      <td>0</td>\n",
       "      <td>0.529456</td>\n",
       "      <td>0.576486</td>\n",
       "      <td>0.796072</td>\n",
       "      <td>0.241808</td>\n",
       "      <td>00:45</td>\n",
       "    </tr>\n",
       "    <tr>\n",
       "      <td>1</td>\n",
       "      <td>0.513955</td>\n",
       "      <td>0.513662</td>\n",
       "      <td>0.801108</td>\n",
       "      <td>0.404948</td>\n",
       "      <td>00:47</td>\n",
       "    </tr>\n",
       "  </tbody>\n",
       "</table>"
      ],
      "text/plain": [
       "<IPython.core.display.HTML object>"
      ]
     },
     "metadata": {},
     "output_type": "display_data"
    },
    {
     "name": "stderr",
     "output_type": "stream",
     "text": [
      "/opt/anaconda3/lib/python3.7/site-packages/sklearn/metrics/classification.py:1437: UndefinedMetricWarning: F-score is ill-defined and being set to 0.0 due to no predicted samples.\n",
      "  'precision', 'predicted', average, warn_for)\n",
      "/opt/anaconda3/lib/python3.7/site-packages/sklearn/metrics/classification.py:1437: UndefinedMetricWarning: F-score is ill-defined and being set to 0.0 due to no predicted samples.\n",
      "  'precision', 'predicted', average, warn_for)\n",
      "/opt/anaconda3/lib/python3.7/site-packages/sklearn/metrics/classification.py:1437: UndefinedMetricWarning: F-score is ill-defined and being set to 0.0 due to no predicted samples.\n",
      "  'precision', 'predicted', average, warn_for)\n",
      "/opt/anaconda3/lib/python3.7/site-packages/sklearn/metrics/classification.py:1437: UndefinedMetricWarning: F-score is ill-defined and being set to 0.0 due to no predicted samples.\n",
      "  'precision', 'predicted', average, warn_for)\n",
      "/opt/anaconda3/lib/python3.7/site-packages/sklearn/metrics/classification.py:1437: UndefinedMetricWarning: F-score is ill-defined and being set to 0.0 due to no predicted samples.\n",
      "  'precision', 'predicted', average, warn_for)\n",
      "/opt/anaconda3/lib/python3.7/site-packages/sklearn/metrics/classification.py:1437: UndefinedMetricWarning: F-score is ill-defined and being set to 0.0 due to no predicted samples.\n",
      "  'precision', 'predicted', average, warn_for)\n"
     ]
    }
   ],
   "source": [
    "learn.fit_one_cycle(2,lr,moms=moms)"
   ]
  },
  {
   "cell_type": "code",
   "execution_count": 61,
   "metadata": {},
   "outputs": [],
   "source": [
    "learn.save('1a')"
   ]
  },
  {
   "cell_type": "code",
   "execution_count": 58,
   "metadata": {},
   "outputs": [
    {
     "data": {
      "text/html": [
       "<table border=\"1\" class=\"dataframe\">\n",
       "  <thead>\n",
       "    <tr style=\"text-align: left;\">\n",
       "      <th>epoch</th>\n",
       "      <th>train_loss</th>\n",
       "      <th>valid_loss</th>\n",
       "      <th>accuracy</th>\n",
       "      <th>f1</th>\n",
       "      <th>time</th>\n",
       "    </tr>\n",
       "  </thead>\n",
       "  <tbody>\n",
       "    <tr>\n",
       "      <td>0</td>\n",
       "      <td>0.517295</td>\n",
       "      <td>0.564002</td>\n",
       "      <td>0.809668</td>\n",
       "      <td>0.423004</td>\n",
       "      <td>00:48</td>\n",
       "    </tr>\n",
       "    <tr>\n",
       "      <td>1</td>\n",
       "      <td>0.483015</td>\n",
       "      <td>0.990304</td>\n",
       "      <td>0.825277</td>\n",
       "      <td>0.488641</td>\n",
       "      <td>00:58</td>\n",
       "    </tr>\n",
       "  </tbody>\n",
       "</table>"
      ],
      "text/plain": [
       "<IPython.core.display.HTML object>"
      ]
     },
     "metadata": {},
     "output_type": "display_data"
    },
    {
     "name": "stderr",
     "output_type": "stream",
     "text": [
      "/opt/anaconda3/lib/python3.7/site-packages/sklearn/metrics/classification.py:1437: UndefinedMetricWarning: F-score is ill-defined and being set to 0.0 due to no predicted samples.\n",
      "  'precision', 'predicted', average, warn_for)\n",
      "/opt/anaconda3/lib/python3.7/site-packages/sklearn/metrics/classification.py:1437: UndefinedMetricWarning: F-score is ill-defined and being set to 0.0 due to no predicted samples.\n",
      "  'precision', 'predicted', average, warn_for)\n",
      "/opt/anaconda3/lib/python3.7/site-packages/sklearn/metrics/classification.py:1437: UndefinedMetricWarning: F-score is ill-defined and being set to 0.0 due to no predicted samples.\n",
      "  'precision', 'predicted', average, warn_for)\n"
     ]
    }
   ],
   "source": [
    "learn.freeze_to(-2)\n",
    "learn.fit_one_cycle(2,slice(lr/(2.6**4),lr),moms=moms)"
   ]
  },
  {
   "cell_type": "code",
   "execution_count": 60,
   "metadata": {},
   "outputs": [
    {
     "data": {
      "text/html": [
       "<table border=\"1\" class=\"dataframe\">\n",
       "  <thead>\n",
       "    <tr style=\"text-align: left;\">\n",
       "      <th>epoch</th>\n",
       "      <th>train_loss</th>\n",
       "      <th>valid_loss</th>\n",
       "      <th>accuracy</th>\n",
       "      <th>f1</th>\n",
       "      <th>time</th>\n",
       "    </tr>\n",
       "  </thead>\n",
       "  <tbody>\n",
       "    <tr>\n",
       "      <td>0</td>\n",
       "      <td>0.509142</td>\n",
       "      <td>1.192296</td>\n",
       "      <td>0.815710</td>\n",
       "      <td>0.376608</td>\n",
       "      <td>01:02</td>\n",
       "    </tr>\n",
       "    <tr>\n",
       "      <td>1</td>\n",
       "      <td>0.461672</td>\n",
       "      <td>0.555004</td>\n",
       "      <td>0.847936</td>\n",
       "      <td>0.560861</td>\n",
       "      <td>01:02</td>\n",
       "    </tr>\n",
       "  </tbody>\n",
       "</table>"
      ],
      "text/plain": [
       "<IPython.core.display.HTML object>"
      ]
     },
     "metadata": {},
     "output_type": "display_data"
    },
    {
     "name": "stderr",
     "output_type": "stream",
     "text": [
      "/opt/anaconda3/lib/python3.7/site-packages/sklearn/metrics/classification.py:1437: UndefinedMetricWarning: F-score is ill-defined and being set to 0.0 due to no predicted samples.\n",
      "  'precision', 'predicted', average, warn_for)\n",
      "/opt/anaconda3/lib/python3.7/site-packages/sklearn/metrics/classification.py:1437: UndefinedMetricWarning: F-score is ill-defined and being set to 0.0 due to no predicted samples.\n",
      "  'precision', 'predicted', average, warn_for)\n",
      "/opt/anaconda3/lib/python3.7/site-packages/sklearn/metrics/classification.py:1437: UndefinedMetricWarning: F-score is ill-defined and being set to 0.0 due to no predicted samples.\n",
      "  'precision', 'predicted', average, warn_for)\n",
      "/opt/anaconda3/lib/python3.7/site-packages/sklearn/metrics/classification.py:1437: UndefinedMetricWarning: F-score is ill-defined and being set to 0.0 due to no predicted samples.\n",
      "  'precision', 'predicted', average, warn_for)\n"
     ]
    }
   ],
   "source": [
    "learn.freeze_to(-3)\n",
    "learn.fit_one_cycle(2,slice(lr/2/(2.6**4),lr),moms=moms)"
   ]
  },
  {
   "cell_type": "code",
   "execution_count": 64,
   "metadata": {},
   "outputs": [
    {
     "data": {
      "text/html": [
       "<table border=\"1\" class=\"dataframe\">\n",
       "  <thead>\n",
       "    <tr style=\"text-align: left;\">\n",
       "      <th>epoch</th>\n",
       "      <th>train_loss</th>\n",
       "      <th>valid_loss</th>\n",
       "      <th>accuracy</th>\n",
       "      <th>f1</th>\n",
       "      <th>time</th>\n",
       "    </tr>\n",
       "  </thead>\n",
       "  <tbody>\n",
       "    <tr>\n",
       "      <td>0</td>\n",
       "      <td>0.436994</td>\n",
       "      <td>0.854883</td>\n",
       "      <td>0.844411</td>\n",
       "      <td>0.585876</td>\n",
       "      <td>01:13</td>\n",
       "    </tr>\n",
       "  </tbody>\n",
       "</table>"
      ],
      "text/plain": [
       "<IPython.core.display.HTML object>"
      ]
     },
     "metadata": {},
     "output_type": "display_data"
    },
    {
     "name": "stderr",
     "output_type": "stream",
     "text": [
      "/opt/anaconda3/lib/python3.7/site-packages/sklearn/metrics/classification.py:1437: UndefinedMetricWarning: F-score is ill-defined and being set to 0.0 due to no predicted samples.\n",
      "  'precision', 'predicted', average, warn_for)\n"
     ]
    }
   ],
   "source": [
    "learn.unfreeze()\n",
    "learn.fit_one_cycle(1,slice(lr/10/(2.6**4),lr/10),moms=moms)"
   ]
  },
  {
   "cell_type": "code",
   "execution_count": 65,
   "metadata": {},
   "outputs": [],
   "source": [
    "learn.save('general-clasifier-0.84')"
   ]
  },
  {
   "cell_type": "code",
   "execution_count": 66,
   "metadata": {},
   "outputs": [
    {
     "name": "stdout",
     "output_type": "stream",
     "text": [
      "1a.pth\t\t\t    fine-tuned-bwd.pth\t\tmodels\r\n",
      "awd_lstm_baseline-0917.pth  fine-tuned-enc-bwd.pth\ttextlist_class_seed42\r\n",
      "data_lm_large_bwd.pkl\t    fine-tuned-enc-fwd.pth\ttmp.pth\r\n",
      "data_lm_large.pkl\t    fine-tuned-fwd.pth\r\n",
      "data_lm.pkl\t\t    general-clasifier-0.84.pth\r\n"
     ]
    }
   ],
   "source": [
    "!ls {path}/models"
   ]
  },
  {
   "cell_type": "code",
   "execution_count": 151,
   "metadata": {},
   "outputs": [],
   "source": [
    "def _get_individual_data(filepath):\n",
    "    df = pd.read_csv(filepath)\n",
    "    if df.shape[0]*0.7 < 64: \n",
    "        bs= int(df.shape[0]*0.7)\n",
    "    else: bs=64\n",
    "    data = (TextList\n",
    "            .from_df(df=df,path=path,cols='Body',vocab=data_lm.vocab)\n",
    "            .split_by_rand_pct(0.3,seed=42)\n",
    "            .label_from_df(cols='Label')\n",
    "            .databunch(bs=bs,num_workers=os.cpu_count()*4)\n",
    "           )\n",
    "    return data\n",
    "\n",
    "def _get_individual_learner(data):\n",
    "    learn = text_classifier_learner(data,AWD_LSTM,drop_mult=0.5,\n",
    "                                loss_func=FlattenedLoss(LabelSmoothingCrossEntropy),\n",
    "                                metrics=[accuracy], #FBeta(beta=1)\n",
    "                                model_dir = path/'models'\n",
    "                               )\n",
    "    if torch.cuda.is_available():\n",
    "        learn.to_fp16()\n",
    "    learn.load('general-clasifier-0.84')\n",
    "    learn.freeze_to(-1)\n",
    "    return learn\n",
    "\n",
    "def run_valid(data_path):\n",
    "    _data_valid = _get_individual_data(data_path)\n",
    "    _learn_valid = _get_individual_learner(_data_valid)\n",
    "    _learn_valid.fit_one_cycle(1,1e-1,moms=(0.8,0.7))\n",
    "    return _learn_valid.recorder.metrics[0][0].item()"
   ]
  },
  {
   "cell_type": "code",
   "execution_count": 152,
   "metadata": {},
   "outputs": [
    {
     "data": {
      "text/html": [
       "<table border=\"1\" class=\"dataframe\">\n",
       "  <thead>\n",
       "    <tr style=\"text-align: left;\">\n",
       "      <th>epoch</th>\n",
       "      <th>train_loss</th>\n",
       "      <th>valid_loss</th>\n",
       "      <th>accuracy</th>\n",
       "      <th>time</th>\n",
       "    </tr>\n",
       "  </thead>\n",
       "  <tbody>\n",
       "    <tr>\n",
       "      <td>0</td>\n",
       "      <td>0.373402</td>\n",
       "      <td>0.293208</td>\n",
       "      <td>0.959799</td>\n",
       "      <td>00:05</td>\n",
       "    </tr>\n",
       "  </tbody>\n",
       "</table>"
      ],
      "text/plain": [
       "<IPython.core.display.HTML object>"
      ]
     },
     "metadata": {},
     "output_type": "display_data"
    },
    {
     "name": "stdout",
     "output_type": "stream",
     "text": [
      "CPU times: user 1min 13s, sys: 1min 12s, total: 2min 26s\n",
      "Wall time: 2min 26s\n"
     ]
    }
   ],
   "source": [
    "%%time\n",
    "valid_acc = []\n",
    "for file in valid_list:\n",
    "    valid_acc.append(run_valid(file))"
   ]
  },
  {
   "cell_type": "code",
   "execution_count": 70,
   "metadata": {},
   "outputs": [
    {
     "data": {
      "text/plain": [
       "[0.6666666865348816,\n",
       " 0.9583333134651184,\n",
       " 0.7407407164573669,\n",
       " 0.6153846383094788,\n",
       " 0.8148148059844971,\n",
       " 0.59375,\n",
       " 0.6315789222717285,\n",
       " 0.9487179517745972,\n",
       " 0.7999999523162842,\n",
       " 0.5,\n",
       " 1.0,\n",
       " 0.7948718070983887,\n",
       " 0.5714285969734192,\n",
       " 0.5769230723381042,\n",
       " 0.9545454382896423,\n",
       " 0.8160919547080994,\n",
       " 0.8571428656578064,\n",
       " 0.6428571939468384,\n",
       " 0.9206349849700928,\n",
       " 0.9459459185600281,\n",
       " 0.9597989916801453]"
      ]
     },
     "execution_count": 70,
     "metadata": {},
     "output_type": "execute_result"
    }
   ],
   "source": [
    "valid_acc"
   ]
  },
  {
   "cell_type": "code",
   "execution_count": 71,
   "metadata": {},
   "outputs": [
    {
     "data": {
      "text/plain": [
       "0.7766775148255485"
      ]
     },
     "execution_count": 71,
     "metadata": {},
     "output_type": "execute_result"
    }
   ],
   "source": [
    "sum(valid_acc) / 21"
   ]
  },
  {
   "cell_type": "markdown",
   "metadata": {},
   "source": [
    "# Compare with Basilica baseline"
   ]
  },
  {
   "cell_type": "code",
   "execution_count": 76,
   "metadata": {},
   "outputs": [
    {
     "data": {
      "text/plain": [
       "'2a0a1cf7-29c1-4459-ab85-b57ed06386a7'"
      ]
     },
     "execution_count": 76,
     "metadata": {},
     "output_type": "execute_result"
    }
   ],
   "source": [
    "valid_list[0].name.split('.')[0]"
   ]
  },
  {
   "cell_type": "code",
   "execution_count": 74,
   "metadata": {},
   "outputs": [
    {
     "data": {
      "text/plain": [
       "PosixPath('/home/jupyter/insight_project/Project-M/data/preprocessed/csv/2a0a1cf7-29c1-4459-ab85-b57ed06386a7.csv')"
      ]
     },
     "execution_count": 74,
     "metadata": {},
     "output_type": "execute_result"
    }
   ],
   "source": [
    "valid_list[0]"
   ]
  },
  {
   "cell_type": "code",
   "execution_count": 79,
   "metadata": {},
   "outputs": [],
   "source": [
    "test_path = Path('/home/jupyter/insight_project/Project-M/data/raw/' \n",
    "                 + valid_list[0].name.split('.')[0]\n",
    "                 + '.json'\n",
    "                )"
   ]
  },
  {
   "cell_type": "code",
   "execution_count": 80,
   "metadata": {},
   "outputs": [
    {
     "data": {
      "text/plain": [
       "PosixPath('/home/jupyter/insight_project/Project-M/data/raw/2a0a1cf7-29c1-4459-ab85-b57ed06386a7.json')"
      ]
     },
     "execution_count": 80,
     "metadata": {},
     "output_type": "execute_result"
    }
   ],
   "source": [
    "test_path"
   ]
  },
  {
   "cell_type": "code",
   "execution_count": 84,
   "metadata": {},
   "outputs": [],
   "source": [
    "def get_json_valid(valid_lists):\n",
    "    json_path = []\n",
    "    for path in valid_lists:\n",
    "        json_path.append(Path('/home/jupyter/insight_project/Project-M/data/raw/'\n",
    "                              + path.name.split('.')[0]\n",
    "                              + '.json')\n",
    "                        )\n",
    "    return json_path"
   ]
  },
  {
   "cell_type": "code",
   "execution_count": 85,
   "metadata": {},
   "outputs": [],
   "source": [
    "json_list = get_json_valid(valid_list)"
   ]
  },
  {
   "cell_type": "code",
   "execution_count": 88,
   "metadata": {},
   "outputs": [],
   "source": [
    "import json\n",
    "import sklearn.decomposition\n",
    "import sklearn.linear_model\n",
    "import sklearn.preprocessing"
   ]
  },
  {
   "cell_type": "code",
   "execution_count": 89,
   "metadata": {},
   "outputs": [],
   "source": [
    "def data_point_features(data_point):\n",
    "    return data_point['embedding'] + source_features(data_point['source'])\n",
    "\n",
    "def source_features(source):\n",
    "    return [int(source == 'hn'), int(source == 'reddit'), int(source == 'twitter'),\n",
    "            int(source not in ['hn', 'reddit', 'twitter'])]"
   ]
  },
  {
   "cell_type": "code",
   "execution_count": 93,
   "metadata": {},
   "outputs": [],
   "source": [
    "test_score_basilica = []\n",
    "def quick_run(obj):   \n",
    "    random.seed(120)\n",
    "    random.shuffle(obj['data_points'])\n",
    "    features = []\n",
    "    labels = []\n",
    "    for data_point in obj['data_points']:\n",
    "        features.append(data_point_features(data_point))\n",
    "        labels.append(data_point['label'])\n",
    "    train_sz = int(len(features)*0.7)\n",
    "    print('  Splitting into train (%s) and test (%s)....' % (\n",
    "        train_sz, len(features) - train_sz))\n",
    "    train_features = features[:train_sz]\n",
    "    train_labels = labels[:train_sz]\n",
    "    test_features = features[train_sz:]\n",
    "    test_labels = labels[train_sz:]\n",
    "    # if 0 in train_labels and 1 in train_labels:\n",
    "    #     break\n",
    "    print('  Preprocessing features...')\n",
    "    fixed_train_features = (np.array(train_features))\n",
    "    fixed_test_features = (np.array(test_features))\n",
    "        # We scale the features to have mean 0 and unit standard\n",
    "        # deviation.  We always want mean 0 to stop us from wasting the\n",
    "        # first PCA component.  Scaling the standard deviations is more\n",
    "        # questionable, it might be worth experimenting with removing\n",
    "        # that.\n",
    "    scaler = sklearn.preprocessing.StandardScaler(with_std=True)\n",
    "    fixed_train_features = scaler.fit_transform(fixed_train_features)\n",
    "    fixed_test_features = scaler.transform(fixed_test_features)\n",
    "        # If we have a small number of data points, PCA down to half the\n",
    "        # number of data points.  The exact PCA size here could probably\n",
    "        # be tweaked, and I'm not sure whether or not whitening is\n",
    "        # correct.\n",
    "    pca_size = min(len(train_features)/2, len(train_features[0]))\n",
    "    pca = sklearn.decomposition.PCA(n_components=int(pca_size), whiten=True)\n",
    "    fixed_train_features = pca.fit_transform(fixed_train_features)\n",
    "    fixed_test_features = pca.transform(fixed_test_features)\n",
    "\n",
    "    print('  Training model...')\n",
    "        # We train a bog-standard logistic regression, and it works fairly\n",
    "        # well.\n",
    "    classifier = sklearn.linear_model.LogisticRegression()\n",
    "    classifier.fit(fixed_train_features, np.array(train_labels))\n",
    "    train_score = classifier.score(fixed_train_features, np.array(train_labels))\n",
    "    test_score = classifier.score(fixed_test_features, np.array(test_labels))\n",
    "\n",
    "    print('  Train score: %s.' % train_score)\n",
    "    print('  Test score: %s.' % test_score)\n",
    "    test_score_basilica.append(test_score)"
   ]
  },
  {
   "cell_type": "code",
   "execution_count": 94,
   "metadata": {},
   "outputs": [
    {
     "name": "stdout",
     "output_type": "stream",
     "text": [
      "  Splitting into train (58) and test (25)....\n",
      "  Preprocessing features...\n",
      "  Training model...\n",
      "  Train score: 0.8620689655172413.\n",
      "  Test score: 0.72.\n",
      "  Splitting into train (56) and test (25)....\n",
      "  Preprocessing features...\n",
      "  Training model...\n",
      "  Train score: 1.0.\n",
      "  Test score: 0.96.\n",
      "  Splitting into train (65) and test (28)....\n",
      "  Preprocessing features...\n",
      "  Training model...\n",
      "  Train score: 0.9846153846153847.\n",
      "  Test score: 0.9285714285714286.\n",
      "  Splitting into train (91) and test (39)....\n",
      "  Preprocessing features...\n",
      "  Training model...\n",
      "  Train score: 1.0.\n",
      "  Test score: 0.7948717948717948.\n",
      "  Splitting into train (63) and test (28)....\n",
      "  Preprocessing features...\n",
      "  Training model...\n",
      "  Train score: 0.9682539682539683.\n",
      "  Test score: 0.7857142857142857.\n",
      "  Splitting into train (75) and test (33)....\n",
      "  Preprocessing features...\n",
      "  Training model...\n",
      "  Train score: 0.88.\n",
      "  Test score: 0.7272727272727273.\n",
      "  Splitting into train (44) and test (20)....\n",
      "  Preprocessing features...\n",
      "  Training model...\n",
      "  Train score: 0.9772727272727273.\n",
      "  Test score: 0.55.\n",
      "  Splitting into train (92) and test (40)....\n",
      "  Preprocessing features...\n",
      "  Training model...\n",
      "  Train score: 1.0.\n",
      "  Test score: 0.9.\n",
      "  Splitting into train (59) and test (26)....\n",
      "  Preprocessing features...\n",
      "  Training model...\n",
      "  Train score: 1.0.\n",
      "  Test score: 0.7307692307692307.\n"
     ]
    },
    {
     "name": "stderr",
     "output_type": "stream",
     "text": [
      "/opt/anaconda3/lib/python3.7/site-packages/sklearn/linear_model/logistic.py:432: FutureWarning: Default solver will be changed to 'lbfgs' in 0.22. Specify a solver to silence this warning.\n",
      "  FutureWarning)\n",
      "/opt/anaconda3/lib/python3.7/site-packages/sklearn/linear_model/logistic.py:432: FutureWarning: Default solver will be changed to 'lbfgs' in 0.22. Specify a solver to silence this warning.\n",
      "  FutureWarning)\n",
      "/opt/anaconda3/lib/python3.7/site-packages/sklearn/linear_model/logistic.py:432: FutureWarning: Default solver will be changed to 'lbfgs' in 0.22. Specify a solver to silence this warning.\n",
      "  FutureWarning)\n",
      "/opt/anaconda3/lib/python3.7/site-packages/sklearn/linear_model/logistic.py:432: FutureWarning: Default solver will be changed to 'lbfgs' in 0.22. Specify a solver to silence this warning.\n",
      "  FutureWarning)\n",
      "/opt/anaconda3/lib/python3.7/site-packages/sklearn/linear_model/logistic.py:432: FutureWarning: Default solver will be changed to 'lbfgs' in 0.22. Specify a solver to silence this warning.\n",
      "  FutureWarning)\n",
      "/opt/anaconda3/lib/python3.7/site-packages/sklearn/linear_model/logistic.py:432: FutureWarning: Default solver will be changed to 'lbfgs' in 0.22. Specify a solver to silence this warning.\n",
      "  FutureWarning)\n",
      "/opt/anaconda3/lib/python3.7/site-packages/sklearn/linear_model/logistic.py:432: FutureWarning: Default solver will be changed to 'lbfgs' in 0.22. Specify a solver to silence this warning.\n",
      "  FutureWarning)\n",
      "/opt/anaconda3/lib/python3.7/site-packages/sklearn/linear_model/logistic.py:432: FutureWarning: Default solver will be changed to 'lbfgs' in 0.22. Specify a solver to silence this warning.\n",
      "  FutureWarning)\n",
      "/opt/anaconda3/lib/python3.7/site-packages/sklearn/linear_model/logistic.py:432: FutureWarning: Default solver will be changed to 'lbfgs' in 0.22. Specify a solver to silence this warning.\n",
      "  FutureWarning)\n"
     ]
    },
    {
     "name": "stdout",
     "output_type": "stream",
     "text": [
      "  Splitting into train (141) and test (61)....\n",
      "  Preprocessing features...\n",
      "  Training model...\n",
      "  Train score: 0.8936170212765957.\n",
      "  Test score: 0.5737704918032787.\n",
      "  Splitting into train (38) and test (17)....\n",
      "  Preprocessing features...\n",
      "  Training model...\n",
      "  Train score: 1.0.\n",
      "  Test score: 1.0.\n",
      "  Splitting into train (91) and test (39)....\n",
      "  Preprocessing features...\n",
      "  Training model...\n",
      "  Train score: 0.8901098901098901.\n",
      "  Test score: 0.8974358974358975.\n",
      "  Splitting into train (49) and test (22)....\n",
      "  Preprocessing features...\n",
      "  Training model...\n",
      "  Train score: 0.9591836734693877.\n",
      "  Test score: 0.45454545454545453.\n"
     ]
    },
    {
     "name": "stderr",
     "output_type": "stream",
     "text": [
      "/opt/anaconda3/lib/python3.7/site-packages/sklearn/linear_model/logistic.py:432: FutureWarning: Default solver will be changed to 'lbfgs' in 0.22. Specify a solver to silence this warning.\n",
      "  FutureWarning)\n",
      "/opt/anaconda3/lib/python3.7/site-packages/sklearn/linear_model/logistic.py:432: FutureWarning: Default solver will be changed to 'lbfgs' in 0.22. Specify a solver to silence this warning.\n",
      "  FutureWarning)\n",
      "/opt/anaconda3/lib/python3.7/site-packages/sklearn/linear_model/logistic.py:432: FutureWarning: Default solver will be changed to 'lbfgs' in 0.22. Specify a solver to silence this warning.\n",
      "  FutureWarning)\n",
      "/opt/anaconda3/lib/python3.7/site-packages/sklearn/linear_model/logistic.py:432: FutureWarning: Default solver will be changed to 'lbfgs' in 0.22. Specify a solver to silence this warning.\n",
      "  FutureWarning)\n"
     ]
    },
    {
     "name": "stdout",
     "output_type": "stream",
     "text": [
      "  Splitting into train (61) and test (27)....\n",
      "  Preprocessing features...\n",
      "  Training model...\n",
      "  Train score: 0.9344262295081968.\n",
      "  Test score: 0.5555555555555556.\n",
      "  Splitting into train (102) and test (45)....\n",
      "  Preprocessing features...\n",
      "  Training model...\n",
      "  Train score: 1.0.\n",
      "  Test score: 0.9555555555555556.\n"
     ]
    },
    {
     "name": "stderr",
     "output_type": "stream",
     "text": [
      "/opt/anaconda3/lib/python3.7/site-packages/sklearn/linear_model/logistic.py:432: FutureWarning: Default solver will be changed to 'lbfgs' in 0.22. Specify a solver to silence this warning.\n",
      "  FutureWarning)\n",
      "/opt/anaconda3/lib/python3.7/site-packages/sklearn/linear_model/logistic.py:432: FutureWarning: Default solver will be changed to 'lbfgs' in 0.22. Specify a solver to silence this warning.\n",
      "  FutureWarning)\n"
     ]
    },
    {
     "name": "stdout",
     "output_type": "stream",
     "text": [
      "  Splitting into train (203) and test (88)....\n",
      "  Preprocessing features...\n",
      "  Training model...\n",
      "  Train score: 1.0.\n",
      "  Test score: 0.7727272727272727.\n",
      "  Splitting into train (51) and test (22)....\n",
      "  Preprocessing features...\n",
      "  Training model...\n",
      "  Train score: 1.0.\n",
      "  Test score: 0.8181818181818182.\n"
     ]
    },
    {
     "name": "stderr",
     "output_type": "stream",
     "text": [
      "/opt/anaconda3/lib/python3.7/site-packages/sklearn/linear_model/logistic.py:432: FutureWarning: Default solver will be changed to 'lbfgs' in 0.22. Specify a solver to silence this warning.\n",
      "  FutureWarning)\n",
      "/opt/anaconda3/lib/python3.7/site-packages/sklearn/linear_model/logistic.py:432: FutureWarning: Default solver will be changed to 'lbfgs' in 0.22. Specify a solver to silence this warning.\n",
      "  FutureWarning)\n"
     ]
    },
    {
     "name": "stdout",
     "output_type": "stream",
     "text": [
      "  Splitting into train (65) and test (29)....\n",
      "  Preprocessing features...\n",
      "  Training model...\n",
      "  Train score: 0.9384615384615385.\n",
      "  Test score: 0.6896551724137931.\n",
      "  Splitting into train (147) and test (64)....\n",
      "  Preprocessing features...\n",
      "  Training model...\n",
      "  Train score: 0.9659863945578231.\n",
      "  Test score: 0.90625.\n"
     ]
    },
    {
     "name": "stderr",
     "output_type": "stream",
     "text": [
      "/opt/anaconda3/lib/python3.7/site-packages/sklearn/linear_model/logistic.py:432: FutureWarning: Default solver will be changed to 'lbfgs' in 0.22. Specify a solver to silence this warning.\n",
      "  FutureWarning)\n",
      "/opt/anaconda3/lib/python3.7/site-packages/sklearn/linear_model/logistic.py:432: FutureWarning: Default solver will be changed to 'lbfgs' in 0.22. Specify a solver to silence this warning.\n",
      "  FutureWarning)\n"
     ]
    },
    {
     "name": "stdout",
     "output_type": "stream",
     "text": [
      "  Splitting into train (87) and test (38)....\n",
      "  Preprocessing features...\n",
      "  Training model...\n",
      "  Train score: 0.9770114942528736.\n",
      "  Test score: 0.9736842105263158.\n"
     ]
    },
    {
     "name": "stderr",
     "output_type": "stream",
     "text": [
      "/opt/anaconda3/lib/python3.7/site-packages/sklearn/linear_model/logistic.py:432: FutureWarning: Default solver will be changed to 'lbfgs' in 0.22. Specify a solver to silence this warning.\n",
      "  FutureWarning)\n"
     ]
    },
    {
     "name": "stdout",
     "output_type": "stream",
     "text": [
      "  Splitting into train (466) and test (200)....\n",
      "  Preprocessing features...\n",
      "  Training model...\n",
      "  Train score: 0.9978540772532188.\n",
      "  Test score: 0.915.\n",
      "CPU times: user 2.42 s, sys: 60 ms, total: 2.48 s\n",
      "Wall time: 1.83 s\n"
     ]
    },
    {
     "name": "stderr",
     "output_type": "stream",
     "text": [
      "/opt/anaconda3/lib/python3.7/site-packages/sklearn/linear_model/logistic.py:432: FutureWarning: Default solver will be changed to 'lbfgs' in 0.22. Specify a solver to silence this warning.\n",
      "  FutureWarning)\n"
     ]
    },
    {
     "data": {
      "text/plain": [
       "[0.72,\n",
       " 0.96,\n",
       " 0.9285714285714286,\n",
       " 0.7948717948717948,\n",
       " 0.7857142857142857,\n",
       " 0.7272727272727273,\n",
       " 0.55,\n",
       " 0.9,\n",
       " 0.7307692307692307,\n",
       " 0.5737704918032787,\n",
       " 1.0,\n",
       " 0.8974358974358975,\n",
       " 0.45454545454545453,\n",
       " 0.5555555555555556,\n",
       " 0.9555555555555556,\n",
       " 0.7727272727272727,\n",
       " 0.8181818181818182,\n",
       " 0.6896551724137931,\n",
       " 0.90625,\n",
       " 0.9736842105263158,\n",
       " 0.915]"
      ]
     },
     "execution_count": 94,
     "metadata": {},
     "output_type": "execute_result"
    }
   ],
   "source": [
    "%%time\n",
    "for json_path in json_list:\n",
    "    with open(json_path) as f:\n",
    "        obj = json.load(f)\n",
    "        quick_run(obj)\n",
    "test_score_basilica"
   ]
  },
  {
   "cell_type": "code",
   "execution_count": 95,
   "metadata": {},
   "outputs": [
    {
     "data": {
      "text/plain": [
       "0.7909314712354482"
      ]
     },
     "execution_count": 95,
     "metadata": {},
     "output_type": "execute_result"
    }
   ],
   "source": [
    "sum(test_score_basilica) / 21"
   ]
  },
  {
   "cell_type": "markdown",
   "metadata": {},
   "source": [
    "# Try backward"
   ]
  },
  {
   "cell_type": "code",
   "execution_count": 96,
   "metadata": {},
   "outputs": [
    {
     "name": "stdout",
     "output_type": "stream",
     "text": [
      "1a.pth\t\t\t    fine-tuned-bwd.pth\t\tmodels\r\n",
      "awd_lstm_baseline-0917.pth  fine-tuned-enc-bwd.pth\ttextlist_class_seed42\r\n",
      "data_lm_large_bwd.pkl\t    fine-tuned-enc-fwd.pth\ttmp.pth\r\n",
      "data_lm_large.pkl\t    fine-tuned-fwd.pth\r\n",
      "data_lm.pkl\t\t    general-clasifier-0.84.pth\r\n"
     ]
    }
   ],
   "source": [
    "!ls {path}/models"
   ]
  },
  {
   "cell_type": "code",
   "execution_count": 133,
   "metadata": {},
   "outputs": [],
   "source": [
    "data_lm_bwd = load_data(path/'models','data_lm_large_bwd.pkl',bs=64,backwards=True)"
   ]
  },
  {
   "cell_type": "code",
   "execution_count": 134,
   "metadata": {},
   "outputs": [
    {
     "data": {
      "text/plain": [
       "34"
      ]
     },
     "execution_count": 134,
     "metadata": {},
     "output_type": "execute_result"
    }
   ],
   "source": [
    "data_lm_bwd.vocab.stoi['this']"
   ]
  },
  {
   "cell_type": "code",
   "execution_count": 135,
   "metadata": {},
   "outputs": [],
   "source": [
    "data_clas_bwd = (TextList\n",
    "                 .from_df(df_train, path=path, vocab=data_lm_bwd.vocab, cols='Body')\n",
    "                 .split_by_rand_pct(0.1, seed=42)\n",
    "                 .label_from_df(cols='Label')\n",
    "                 .databunch(bs=64, num_workers=os.cpu_count()*4, backwards=True))"
   ]
  },
  {
   "cell_type": "code",
   "execution_count": 136,
   "metadata": {},
   "outputs": [
    {
     "data": {
      "text/plain": [
       "34"
      ]
     },
     "execution_count": 136,
     "metadata": {},
     "output_type": "execute_result"
    }
   ],
   "source": [
    "data_clas_bwd.vocab.stoi['this']"
   ]
  },
  {
   "cell_type": "code",
   "execution_count": 137,
   "metadata": {},
   "outputs": [],
   "source": [
    "learn_c_bwd = text_classifier_learner(data_clas_bwd, AWD_LSTM, drop_mult=0.5,\n",
    "                                      loss_func=loss_func, metrics=[accuracy]).to_fp16()\n",
    "learn_c_bwd.load_encoder('fine-tuned-enc-bwd');"
   ]
  },
  {
   "cell_type": "code",
   "execution_count": 138,
   "metadata": {},
   "outputs": [],
   "source": [
    "learn_c_bwd.freeze_to(-1);"
   ]
  },
  {
   "cell_type": "code",
   "execution_count": 139,
   "metadata": {},
   "outputs": [
    {
     "data": {
      "text/html": [],
      "text/plain": [
       "<IPython.core.display.HTML object>"
      ]
     },
     "metadata": {},
     "output_type": "display_data"
    },
    {
     "name": "stdout",
     "output_type": "stream",
     "text": [
      "LR Finder is complete, type {learner_name}.recorder.plot() to see the graph.\n",
      "Min numerical gradient: 6.92E-02\n",
      "Min loss divided by 10: 2.51E-02\n"
     ]
    },
    {
     "data": {
      "image/png": "[encoded data removed]",
      "text/plain": [
       "<Figure size 432x288 with 1 Axes>"
      ]
     },
     "metadata": {
      "needs_background": "light"
     },
     "output_type": "display_data"
    }
   ],
   "source": [
    "learn_c_bwd.lr_find()\n",
    "learn_c_bwd.recorder.plot(suggestion=True)"
   ]
  },
  {
   "cell_type": "code",
   "execution_count": 131,
   "metadata": {},
   "outputs": [],
   "source": [
    "lr=2e-2\n",
    "lr *= 64/48\n",
    "moms = (0.8,0.7)"
   ]
  },
  {
   "cell_type": "code",
   "execution_count": 140,
   "metadata": {},
   "outputs": [
    {
     "data": {
      "text/html": [
       "<table border=\"1\" class=\"dataframe\">\n",
       "  <thead>\n",
       "    <tr style=\"text-align: left;\">\n",
       "      <th>epoch</th>\n",
       "      <th>train_loss</th>\n",
       "      <th>valid_loss</th>\n",
       "      <th>accuracy</th>\n",
       "      <th>time</th>\n",
       "    </tr>\n",
       "  </thead>\n",
       "  <tbody>\n",
       "    <tr>\n",
       "      <td>0</td>\n",
       "      <td>0.534069</td>\n",
       "      <td>0.513730</td>\n",
       "      <td>0.791541</td>\n",
       "      <td>00:48</td>\n",
       "    </tr>\n",
       "    <tr>\n",
       "      <td>1</td>\n",
       "      <td>0.530423</td>\n",
       "      <td>0.512163</td>\n",
       "      <td>0.790534</td>\n",
       "      <td>00:43</td>\n",
       "    </tr>\n",
       "  </tbody>\n",
       "</table>"
      ],
      "text/plain": [
       "<IPython.core.display.HTML object>"
      ]
     },
     "metadata": {},
     "output_type": "display_data"
    }
   ],
   "source": [
    "learn_c_bwd.fit_one_cycle(2,lr,moms=moms)"
   ]
  },
  {
   "cell_type": "code",
   "execution_count": 141,
   "metadata": {},
   "outputs": [
    {
     "data": {
      "text/html": [
       "<table border=\"1\" class=\"dataframe\">\n",
       "  <thead>\n",
       "    <tr style=\"text-align: left;\">\n",
       "      <th>epoch</th>\n",
       "      <th>train_loss</th>\n",
       "      <th>valid_loss</th>\n",
       "      <th>accuracy</th>\n",
       "      <th>time</th>\n",
       "    </tr>\n",
       "  </thead>\n",
       "  <tbody>\n",
       "    <tr>\n",
       "      <td>0</td>\n",
       "      <td>0.509672</td>\n",
       "      <td>0.489401</td>\n",
       "      <td>0.811178</td>\n",
       "      <td>00:52</td>\n",
       "    </tr>\n",
       "    <tr>\n",
       "      <td>1</td>\n",
       "      <td>0.485791</td>\n",
       "      <td>0.482675</td>\n",
       "      <td>0.820242</td>\n",
       "      <td>00:55</td>\n",
       "    </tr>\n",
       "  </tbody>\n",
       "</table>"
      ],
      "text/plain": [
       "<IPython.core.display.HTML object>"
      ]
     },
     "metadata": {},
     "output_type": "display_data"
    }
   ],
   "source": [
    "learn_c_bwd.freeze_to(-2)\n",
    "learn_c_bwd.fit_one_cycle(2, slice(lr/(2.6**4),lr), moms=(0.8,0.7))"
   ]
  },
  {
   "cell_type": "code",
   "execution_count": 142,
   "metadata": {},
   "outputs": [
    {
     "data": {
      "text/html": [
       "<table border=\"1\" class=\"dataframe\">\n",
       "  <thead>\n",
       "    <tr style=\"text-align: left;\">\n",
       "      <th>epoch</th>\n",
       "      <th>train_loss</th>\n",
       "      <th>valid_loss</th>\n",
       "      <th>accuracy</th>\n",
       "      <th>time</th>\n",
       "    </tr>\n",
       "  </thead>\n",
       "  <tbody>\n",
       "    <tr>\n",
       "      <td>0</td>\n",
       "      <td>0.479049</td>\n",
       "      <td>0.466325</td>\n",
       "      <td>0.822256</td>\n",
       "      <td>01:01</td>\n",
       "    </tr>\n",
       "    <tr>\n",
       "      <td>1</td>\n",
       "      <td>0.440144</td>\n",
       "      <td>0.460868</td>\n",
       "      <td>0.842397</td>\n",
       "      <td>01:14</td>\n",
       "    </tr>\n",
       "  </tbody>\n",
       "</table>"
      ],
      "text/plain": [
       "<IPython.core.display.HTML object>"
      ]
     },
     "metadata": {},
     "output_type": "display_data"
    }
   ],
   "source": [
    "learn_c_bwd.freeze_to(-3)\n",
    "learn_c_bwd.fit_one_cycle(2, slice(lr/2/(2.6**4),lr/2), moms=(0.8,0.7))"
   ]
  },
  {
   "cell_type": "code",
   "execution_count": 143,
   "metadata": {},
   "outputs": [],
   "source": [
    "learn_c_bwd.save('1a')"
   ]
  },
  {
   "cell_type": "code",
   "execution_count": 146,
   "metadata": {},
   "outputs": [
    {
     "data": {
      "text/html": [
       "<table border=\"1\" class=\"dataframe\">\n",
       "  <thead>\n",
       "    <tr style=\"text-align: left;\">\n",
       "      <th>epoch</th>\n",
       "      <th>train_loss</th>\n",
       "      <th>valid_loss</th>\n",
       "      <th>accuracy</th>\n",
       "      <th>time</th>\n",
       "    </tr>\n",
       "  </thead>\n",
       "  <tbody>\n",
       "    <tr>\n",
       "      <td>0</td>\n",
       "      <td>0.396842</td>\n",
       "      <td>0.471857</td>\n",
       "      <td>0.838872</td>\n",
       "      <td>01:16</td>\n",
       "    </tr>\n",
       "    <tr>\n",
       "      <td>1</td>\n",
       "      <td>0.367492</td>\n",
       "      <td>0.476664</td>\n",
       "      <td>0.826284</td>\n",
       "      <td>01:12</td>\n",
       "    </tr>\n",
       "  </tbody>\n",
       "</table>"
      ],
      "text/plain": [
       "<IPython.core.display.HTML object>"
      ]
     },
     "metadata": {},
     "output_type": "display_data"
    }
   ],
   "source": [
    "learn_c_bwd.unfreeze()\n",
    "learn_c_bwd.fit_one_cycle(2, slice(lr/10/(2.6**4),lr/10), moms=(0.8,0.7))"
   ]
  },
  {
   "cell_type": "code",
   "execution_count": 147,
   "metadata": {},
   "outputs": [],
   "source": [
    "learn_c_bwd.load('general-clasifier-bwd-0.83');"
   ]
  },
  {
   "cell_type": "code",
   "execution_count": 266,
   "metadata": {},
   "outputs": [],
   "source": [
    "def _get_individual_data(filepath):\n",
    "    df = pd.read_csv(filepath)\n",
    "    if df.shape[0]*0.7 < 64: \n",
    "        bs= int(df.shape[0]*0.7)\n",
    "    else: bs=64\n",
    "    data = (TextList\n",
    "            .from_df(df=df,path=path,cols='Body',vocab=data_lm_bwd.vocab)\n",
    "            .split_by_rand_pct(0.3,seed=42)\n",
    "            .label_from_df(cols='Label')\n",
    "            .databunch(bs=bs,num_workers=os.cpu_count()*4,backwards=True)\n",
    "           )\n",
    "    return data\n",
    "\n",
    "def _get_individual_learner(data):\n",
    "    learn = text_classifier_learner(data,AWD_LSTM,drop_mult=0.5,\n",
    "                                loss_func=FlattenedLoss(LabelSmoothingCrossEntropy),\n",
    "                                metrics=[accuracy], #FBeta(beta=1)\n",
    "                                model_dir = path/'models'\n",
    "                               )\n",
    "    if torch.cuda.is_available():\n",
    "        learn.to_fp16()\n",
    "    learn.load('general-clasifier-bwd-0.83')\n",
    "    learn.unfreeze()\n",
    "    #learn.freeze_to(-1)\n",
    "    return learn\n",
    "\n",
    "def run_valid(data_path):\n",
    "    _data_valid = _get_individual_data(data_path)\n",
    "    _learn_valid = _get_individual_learner(_data_valid)\n",
    "    _learn_valid.fit_one_cycle(1,2e-2,moms=(0.8,0.7))\n",
    "    return _learn_valid.recorder.metrics[0][0].item()"
   ]
  },
  {
   "cell_type": "code",
   "execution_count": 267,
   "metadata": {},
   "outputs": [
    {
     "data": {
      "text/html": [
       "<table border=\"1\" class=\"dataframe\">\n",
       "  <thead>\n",
       "    <tr style=\"text-align: left;\">\n",
       "      <th>epoch</th>\n",
       "      <th>train_loss</th>\n",
       "      <th>valid_loss</th>\n",
       "      <th>accuracy</th>\n",
       "      <th>time</th>\n",
       "    </tr>\n",
       "  </thead>\n",
       "  <tbody>\n",
       "    <tr>\n",
       "      <td>0</td>\n",
       "      <td>0.386144</td>\n",
       "      <td>0.330070</td>\n",
       "      <td>0.959799</td>\n",
       "      <td>00:06</td>\n",
       "    </tr>\n",
       "  </tbody>\n",
       "</table>"
      ],
      "text/plain": [
       "<IPython.core.display.HTML object>"
      ]
     },
     "metadata": {},
     "output_type": "display_data"
    },
    {
     "name": "stdout",
     "output_type": "stream",
     "text": [
      "CPU times: user 1min 30s, sys: 1min 22s, total: 2min 53s\n",
      "Wall time: 2min 56s\n"
     ]
    }
   ],
   "source": [
    "%%time\n",
    "bwd_valid_acc = []\n",
    "for file in valid_list:\n",
    "    bwd_valid_acc.append(run_valid(file))"
   ]
  },
  {
   "cell_type": "code",
   "execution_count": 157,
   "metadata": {},
   "outputs": [
    {
     "data": {
      "text/plain": [
       "[0.6666666865348816,\n",
       " 0.9583333134651184,\n",
       " 0.7777777910232544,\n",
       " 0.6153846383094788,\n",
       " 0.7407407164573669,\n",
       " 0.5625,\n",
       " 0.6842105388641357,\n",
       " 0.9743589758872986,\n",
       " 0.8399999737739563,\n",
       " 0.550000011920929,\n",
       " 1.0,\n",
       " 0.7948718070983887,\n",
       " 0.6190476417541504,\n",
       " 0.46153849363327026,\n",
       " 0.9545454382896423,\n",
       " 0.8160919547080994,\n",
       " 0.8095238208770752,\n",
       " 0.6071428656578064,\n",
       " 0.9365079998970032,\n",
       " 0.9189189076423645,\n",
       " 0.9396985173225403]"
      ]
     },
     "execution_count": 157,
     "metadata": {},
     "output_type": "execute_result"
    }
   ],
   "source": [
    "bwd_valid_acc"
   ]
  },
  {
   "cell_type": "code",
   "execution_count": 158,
   "metadata": {},
   "outputs": [
    {
     "data": {
      "text/plain": [
       "0.7727552425293696"
      ]
     },
     "execution_count": 158,
     "metadata": {},
     "output_type": "execute_result"
    }
   ],
   "source": [
    "sum(bwd_valid_acc) / 21"
   ]
  },
  {
   "cell_type": "code",
   "execution_count": 268,
   "metadata": {},
   "outputs": [
    {
     "data": {
      "text/plain": [
       "[0.6666666865348816,\n",
       " 0.9583333134651184,\n",
       " 0.7777777910232544,\n",
       " 0.6153846383094788,\n",
       " 0.7407407164573669,\n",
       " 0.5625,\n",
       " 0.6315789222717285,\n",
       " 0.9487179517745972,\n",
       " 0.8399999737739563,\n",
       " 0.6500000357627869,\n",
       " 1.0,\n",
       " 0.7692307829856873,\n",
       " 0.6190476417541504,\n",
       " 0.46153849363327026,\n",
       " 0.9545454382896423,\n",
       " 0.8045976758003235,\n",
       " 0.8095238208770752,\n",
       " 0.6071428656578064,\n",
       " 0.6984127163887024,\n",
       " 0.9189189076423645,\n",
       " 0.9597989916801453]"
      ]
     },
     "execution_count": 268,
     "metadata": {},
     "output_type": "execute_result"
    }
   ],
   "source": [
    "bwd_valid_acc"
   ]
  },
  {
   "cell_type": "code",
   "execution_count": 269,
   "metadata": {},
   "outputs": [
    {
     "data": {
      "text/plain": [
       "0.7616408268610636"
      ]
     },
     "execution_count": 269,
     "metadata": {},
     "output_type": "execute_result"
    }
   ],
   "source": [
    "sum(bwd_valid_acc) / 21"
   ]
  },
  {
   "cell_type": "code",
   "execution_count": 161,
   "metadata": {},
   "outputs": [
    {
     "data": {
      "text/plain": [
       "PosixPath('/home/jupyter/insight_project/Project-M/data/preprocessed/csv/2a0a1cf7-29c1-4459-ab85-b57ed06386a7.csv')"
      ]
     },
     "execution_count": 161,
     "metadata": {},
     "output_type": "execute_result"
    }
   ],
   "source": [
    "valid_list[0]"
   ]
  },
  {
   "cell_type": "code",
   "execution_count": 249,
   "metadata": {},
   "outputs": [],
   "source": [
    "data_valid_1 = _get_individual_data(valid_list[5])"
   ]
  },
  {
   "cell_type": "code",
   "execution_count": 250,
   "metadata": {},
   "outputs": [],
   "source": [
    "learn_valid_1 = _get_individual_learner(data_valid_1)"
   ]
  },
  {
   "cell_type": "code",
   "execution_count": 252,
   "metadata": {},
   "outputs": [
    {
     "data": {
      "text/html": [
       "<table border=\"1\" class=\"dataframe\">\n",
       "  <thead>\n",
       "    <tr style=\"text-align: left;\">\n",
       "      <th>epoch</th>\n",
       "      <th>train_loss</th>\n",
       "      <th>valid_loss</th>\n",
       "      <th>accuracy</th>\n",
       "      <th>time</th>\n",
       "    </tr>\n",
       "  </thead>\n",
       "  <tbody>\n",
       "    <tr>\n",
       "      <td>0</td>\n",
       "      <td>0.661392</td>\n",
       "      <td>0.865231</td>\n",
       "      <td>0.593750</td>\n",
       "      <td>00:04</td>\n",
       "    </tr>\n",
       "    <tr>\n",
       "      <td>1</td>\n",
       "      <td>0.568596</td>\n",
       "      <td>1.441249</td>\n",
       "      <td>0.625000</td>\n",
       "      <td>00:04</td>\n",
       "    </tr>\n",
       "    <tr>\n",
       "      <td>2</td>\n",
       "      <td>0.470196</td>\n",
       "      <td>0.843599</td>\n",
       "      <td>0.687500</td>\n",
       "      <td>00:04</td>\n",
       "    </tr>\n",
       "  </tbody>\n",
       "</table>"
      ],
      "text/plain": [
       "<IPython.core.display.HTML object>"
      ]
     },
     "metadata": {},
     "output_type": "display_data"
    }
   ],
   "source": [
    "learn_valid_1.unfreeze()\n",
    "learn_valid_1.fit_one_cycle(3,2e-2,moms=(0.8,0.7))"
   ]
  },
  {
   "cell_type": "code",
   "execution_count": 253,
   "metadata": {},
   "outputs": [],
   "source": [
    "preds,y = learn_valid_1.get_preds()"
   ]
  },
  {
   "cell_type": "code",
   "execution_count": 254,
   "metadata": {},
   "outputs": [
    {
     "data": {
      "text/plain": [
       "(torch.Size([32, 2]), torch.Size([32]))"
      ]
     },
     "execution_count": 254,
     "metadata": {},
     "output_type": "execute_result"
    }
   ],
   "source": [
    "preds.shape,y.shape"
   ]
  },
  {
   "cell_type": "code",
   "execution_count": 255,
   "metadata": {},
   "outputs": [
    {
     "data": {
      "text/plain": [
       "tensor(0.6875)"
      ]
     },
     "execution_count": 255,
     "metadata": {},
     "output_type": "execute_result"
    }
   ],
   "source": [
    "accuracy(preds,y)"
   ]
  },
  {
   "cell_type": "code",
   "execution_count": 256,
   "metadata": {},
   "outputs": [
    {
     "data": {
      "text/plain": [
       "tensor([0, 0, 0, 0, 0, 0, 0, 1, 1, 1, 0, 1, 0, 0, 0, 1, 1, 0, 0, 0, 0, 0, 0, 0,\n",
       "        0, 1, 0, 0, 0, 0, 1, 0])"
      ]
     },
     "execution_count": 256,
     "metadata": {},
     "output_type": "execute_result"
    }
   ],
   "source": [
    "preds.argmax(dim=1)"
   ]
  },
  {
   "cell_type": "code",
   "execution_count": 257,
   "metadata": {},
   "outputs": [
    {
     "data": {
      "text/plain": [
       "tensor([0, 0, 0, 0, 0, 1, 0, 1, 1, 0, 0, 1, 0, 0, 0, 1, 1, 0, 0, 0, 0, 1, 1, 1,\n",
       "        0, 0, 1, 0, 1, 1, 1, 1])"
      ]
     },
     "execution_count": 257,
     "metadata": {},
     "output_type": "execute_result"
    }
   ],
   "source": [
    "y"
   ]
  },
  {
   "cell_type": "code",
   "execution_count": null,
   "metadata": {},
   "outputs": [],
   "source": []
  }
 ],
 "metadata": {
  "kernelspec": {
   "display_name": "Python 3",
   "language": "python",
   "name": "python3"
  },
  "language_info": {
   "codemirror_mode": {
    "name": "ipython",
    "version": 3
   },
   "file_extension": ".py",
   "mimetype": "text/x-python",
   "name": "python",
   "nbconvert_exporter": "python",
   "pygments_lexer": "ipython3",
   "version": "3.7.4"
  }
 },
 "nbformat": 4,
 "nbformat_minor": 2
}
