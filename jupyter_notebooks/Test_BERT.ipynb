{
 "cells": [
  {
   "cell_type": "code",
   "execution_count": 1,
   "metadata": {},
   "outputs": [],
   "source": [
    "%load_ext autoreload\n",
    "%autoreload 2\n",
    "%matplotlib inline"
   ]
  },
  {
   "cell_type": "code",
   "execution_count": 2,
   "metadata": {},
   "outputs": [],
   "source": [
    "#Export\n",
    "from uti.interface import *\n",
    "from pytorch_pretrained_bert import BertTokenizer"
   ]
  },
  {
   "cell_type": "code",
   "execution_count": 3,
   "metadata": {},
   "outputs": [],
   "source": [
    "#Export\n",
    "class FastaiBertTokenizer(BaseTokenizer):\n",
    "    '''wrapper for fastai tokenizer'''\n",
    "    def __init__(self, tokenizer, max_seq=128, **kwargs):\n",
    "        self._pretrained_tokenizer = tokenizer\n",
    "        self.max_seq_length = max_seq\n",
    "        \n",
    "    def __call__(self,*args,**kwargs):\n",
    "        return self\n",
    "    \n",
    "    def tokenizer(self,t):\n",
    "        return [\"[CLS]\"] + self._pretrained_tokenizer.tokenize(t)[:self.max_seq_length - 2] + ['[SEP]']\n",
    "    \n",
    "class BERT_Interface(Interface):\n",
    "    def __init__(self,model_tokenizer, path, eval_mode=True, max_seq=128):\n",
    "        bert_tok = BertTokenizer.from_pretrained(\n",
    "            model_tokenizer,\n",
    "        )\n",
    "        fastai_tokenizer = Tokenizer(tok_func=FastaiBertTokenizer(bert_tok,max_seq=128),\n",
    "                                     pre_rules=[fix_html],\n",
    "                                     post_rules=[]\n",
    "                                    )\n",
    "        self.fastai_bert_vocab = Vocab(list(bert_tok.vocab.keys()))\n",
    "        self.processor = [OpenFileProcessor(),\n",
    "                          TokenizeProcessor(tokenizer=fastai_tokenizer,include_bos=False,include_eos=False),\n",
    "                          NumericalizeProcessor(vocab=self.fastai_bert_vocab)\n",
    "                         ]\n",
    "        super().__init__(path,eval_mode=eval_mode)\n",
    "        \n",
    "    def _get_individual_data(self,filepath):\n",
    "        df = pd.read_csv(filepath)\n",
    "        if df.shape[0]*0.7 < self.bs:\n",
    "            bs = int(df.shape[0]*0.7)\n",
    "        else: bs=self.bs\n",
    "        data = (TextList\n",
    "                .from_df(df=df, path=self.csv_path,cols='Body',\n",
    "                         vocab=self.fastai_bert_vocab, processor=self.processor)\n",
    "                .split_by_rand_pct(0.3,seed=42)\n",
    "                .label_from_df(cols='Label')\n",
    "                .databunch(bs=bs,num_workers=2)\n",
    "               )\n",
    "        return data\n",
    "    \n",
    "    def pre_processing(self,skip_convert_json=False,test=False,**kwargs):\n",
    "        #if not self._check_data_format(): exit(0) #we can't handle non Basilica data\n",
    "        if not skip_convert_json: self._convert_json_to_csv(test)\n",
    "        if self.eval_mode:\n",
    "            for file in self.csv_path.ls():\n",
    "                file_extension = Path(file).name.split('.')\n",
    "                if len(file_extension) < 2 or file_extension[1] != 'csv': continue\n",
    "                self.data_list.append(self._get_individual_data(file))\n",
    "                self.dataset_name.append(file_extension[0])\n",
    "        else:\n",
    "            print('Warnning: Does not support fine tune BERT language model')\n",
    "            raise NotImplementedError"
   ]
  },
  {
   "cell_type": "code",
   "execution_count": 4,
   "metadata": {},
   "outputs": [
    {
     "data": {
      "text/plain": [
       "[PosixPath('/home/jupyter/insight_project/Project-M/data/preprocessed/ed91c398-31c6-437f-a9d1-462e3ccfb6fa.json'),\n",
       " PosixPath('/home/jupyter/insight_project/Project-M/data/preprocessed/example.txt'),\n",
       " PosixPath('/home/jupyter/insight_project/Project-M/data/preprocessed/ff063ea9-62b8-4f29-9faa-04a09cb5fba2.json'),\n",
       " PosixPath('/home/jupyter/insight_project/Project-M/data/preprocessed/.ipynb_checkpoints'),\n",
       " PosixPath('/home/jupyter/insight_project/Project-M/data/preprocessed/delete_test'),\n",
       " PosixPath('/home/jupyter/insight_project/Project-M/data/preprocessed/fabab216-0767-4aa5-85fa-bb8852eb30d3.json'),\n",
       " PosixPath('/home/jupyter/insight_project/Project-M/data/preprocessed/csv'),\n",
       " PosixPath('/home/jupyter/insight_project/Project-M/data/preprocessed/f6d2081a-0f79-4abf-9021-c4d254859890.json')]"
      ]
     },
     "execution_count": 4,
     "metadata": {},
     "output_type": "execute_result"
    }
   ],
   "source": [
    "path = Path('/home/jupyter/insight_project/Project-M/data/preprocessed/')\n",
    "path.ls()"
   ]
  },
  {
   "cell_type": "code",
   "execution_count": 5,
   "metadata": {},
   "outputs": [],
   "source": [
    "test = BERT_Interface(\"bert-base-uncased\",path.ls())"
   ]
  },
  {
   "cell_type": "code",
   "execution_count": 6,
   "metadata": {},
   "outputs": [
    {
     "data": {
      "text/plain": [
       "[PosixPath('/home/jupyter/insight_project/Project-M/data/preprocessed/ed91c398-31c6-437f-a9d1-462e3ccfb6fa.json'),\n",
       " PosixPath('/home/jupyter/insight_project/Project-M/data/preprocessed/ff063ea9-62b8-4f29-9faa-04a09cb5fba2.json'),\n",
       " PosixPath('/home/jupyter/insight_project/Project-M/data/preprocessed/fabab216-0767-4aa5-85fa-bb8852eb30d3.json'),\n",
       " PosixPath('/home/jupyter/insight_project/Project-M/data/preprocessed/f6d2081a-0f79-4abf-9021-c4d254859890.json')]"
      ]
     },
     "execution_count": 6,
     "metadata": {},
     "output_type": "execute_result"
    }
   ],
   "source": [
    "test.path"
   ]
  },
  {
   "cell_type": "code",
   "execution_count": 7,
   "metadata": {},
   "outputs": [],
   "source": [
    "test.pre_processing(test=True)"
   ]
  },
  {
   "cell_type": "code",
   "execution_count": 8,
   "metadata": {},
   "outputs": [
    {
     "data": {
      "text/plain": [
       "PosixPath('/home/jupyter/insight_project/Project-M/data/preprocessed/delete_test')"
      ]
     },
     "execution_count": 8,
     "metadata": {},
     "output_type": "execute_result"
    }
   ],
   "source": [
    "test.csv_path"
   ]
  },
  {
   "cell_type": "code",
   "execution_count": null,
   "metadata": {},
   "outputs": [],
   "source": []
  },
  {
   "cell_type": "code",
   "execution_count": null,
   "metadata": {},
   "outputs": [],
   "source": []
  },
  {
   "cell_type": "code",
   "execution_count": null,
   "metadata": {},
   "outputs": [],
   "source": []
  },
  {
   "cell_type": "code",
   "execution_count": null,
   "metadata": {},
   "outputs": [],
   "source": []
  },
  {
   "cell_type": "code",
   "execution_count": null,
   "metadata": {},
   "outputs": [],
   "source": []
  },
  {
   "cell_type": "code",
   "execution_count": null,
   "metadata": {},
   "outputs": [],
   "source": []
  },
  {
   "cell_type": "code",
   "execution_count": null,
   "metadata": {},
   "outputs": [],
   "source": []
  },
  {
   "cell_type": "code",
   "execution_count": 9,
   "metadata": {},
   "outputs": [
    {
     "name": "stdout",
     "output_type": "stream",
     "text": [
      "Converted Test_BERT.ipynb to uti/bert_interface.py\n"
     ]
    }
   ],
   "source": [
    "from notebook2script import *\n",
    "notebook2script('Test_BERT.ipynb', 'bert_interface')"
   ]
  },
  {
   "cell_type": "code",
   "execution_count": null,
   "metadata": {},
   "outputs": [],
   "source": []
  }
 ],
 "metadata": {
  "kernelspec": {
   "display_name": "Python 3",
   "language": "python",
   "name": "python3"
  },
  "language_info": {
   "codemirror_mode": {
    "name": "ipython",
    "version": 3
   },
   "file_extension": ".py",
   "mimetype": "text/x-python",
   "name": "python",
   "nbconvert_exporter": "python",
   "pygments_lexer": "ipython3",
   "version": "3.7.4"
  }
 },
 "nbformat": 4,
 "nbformat_minor": 2
}
