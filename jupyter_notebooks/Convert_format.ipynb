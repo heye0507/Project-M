{
 "cells": [
  {
   "cell_type": "code",
   "execution_count": 46,
   "metadata": {},
   "outputs": [],
   "source": [
    "import numpy as np\n",
    "import sklearn\n",
    "import pandas as pd\n",
    "import json\n",
    "import os\n",
    "\n",
    "from fastai.text import *\n",
    "from fastai import *"
   ]
  },
  {
   "cell_type": "code",
   "execution_count": 9,
   "metadata": {},
   "outputs": [
    {
     "name": "stdout",
     "output_type": "stream",
     "text": [
      "08dfcc82-274c-41b6-a013-e80d70f3c57e.json\r\n",
      "0d981498-97b9-4c2c-9ef8-b320feed0347.json\r\n",
      "132d3064-6b74-477c-baf3-ac2a1017d8fe.json\r\n",
      "146e0475-5cbf-4e6b-baf9-f1d76db99e8a.json\r\n",
      "15c7e4c1-90c5-4ec5-af75-f70579790656.json\r\n",
      "163354b9-3bc0-42a9-b58e-c5c3c611641c.json\r\n",
      "2413aac9-caa5-4aa9-94f6-77b591958bb4.json\r\n",
      "24e4523c-6f50-4538-83ef-3766c10717e0.json\r\n",
      "2810fd25-7c39-4f45-a7e4-b95bc75baf72.json\r\n",
      "2a0a1cf7-29c1-4459-ab85-b57ed06386a7.json\r\n",
      "2b3b804b-dd12-4f0e-9fc0-8687b627534c.json\r\n",
      "35af56f5-ded2-47dd-9924-74ef684341b0.json\r\n",
      "38b736ee-3cd1-4138-ae75-b6467b18ad20.json\r\n",
      "4bb3619e-4fc3-457a-ade0-45f0eea586fe.json\r\n",
      "513b82a9-d62a-4a98-a613-26abd544a51f.json\r\n",
      "517bfe13-064f-4f95-b724-11cd98aa35ff.json\r\n",
      "52e7b79f-5906-4546-9409-e2881c9a560a.json\r\n",
      "557b5a6e-9723-492b-98d9-7dd46ad7932e.json\r\n",
      "5638e570-f777-4e46-9a9e-459a2a540802.json\r\n",
      "56ce6ed6-3ed7-4e89-a93f-809c57b55dc8.json\r\n",
      "574856c7-6aa3-4b7b-98c2-c78ca6fe1782.json\r\n",
      "57a45e8c-48b9-4cf1-9483-0d80ab65cd22.json\r\n",
      "5b7c7f00-84f8-461d-bfb5-55a5ef8e34f1.json\r\n",
      "5dc3f6f1-3ad4-4c42-9697-b0971cd1218e.json\r\n",
      "5efe0741-7ea8-4f5c-be7b-a6f20d8e489d.json\r\n",
      "62a3e517-c730-41fa-9bb2-99151b354c03.json\r\n",
      "62f608d5-af5e-448d-9ee7-03c38056c449.json\r\n",
      "672d2e4a-594f-4e3a-a64a-c8fcb3113d74.json\r\n",
      "68080779-ea49-46a8-ab67-e936e2660b27.json\r\n",
      "6df83ab2-cd39-43bd-ad06-5c30806b0e06.json\r\n",
      "6f89af73-5538-443d-9e46-0ec24a952520.json\r\n",
      "72f177e3-bbc2-45b2-8dce-46df70c6f66f.json\r\n",
      "73b0096a-b9e0-419e-8e9a-a0f597e4b223.json\r\n",
      "79c08994-3dd3-4f16-8200-510e63f30219.json\r\n",
      "841123a9-67ad-43aa-822b-64d7d82a6692.json\r\n",
      "8632b762-88b2-4b5d-8f58-bbec45574a95.json\r\n",
      "876943a7-d7c8-43dd-ac4f-ab61a525fb7c.json\r\n",
      "87cb68e9-e1f5-473e-9195-3b419bd371c6.json\r\n",
      "88b92105-fff6-4a53-abdf-c6c59bb8409a.json\r\n",
      "8a606863-c5c1-4e71-acf5-257625dd28d4.json\r\n",
      "906e7dcf-9a2a-445c-9772-e415cff84bc5.json\r\n",
      "9105429e-1148-424b-bbee-ba4d8155d648.json\r\n",
      "94f805a1-3b21-49b5-aae6-c5328fd251cf.json\r\n",
      "979d66cd-cf47-4b8d-a84a-3cf22dea23b5.json\r\n",
      "9ac12eaf-92e1-46fa-8ff5-0432fc4f1e4f.json\r\n",
      "9eb65ba8-c45f-471c-a3ff-182a061d3457.json\r\n",
      "a18f56f5-7fb3-4b49-98dc-9702a2aebd0d.json\r\n",
      "a837049a-ce51-4cbe-a044-f473509a18c2.json\r\n",
      "ab337571-67cc-42ec-97c5-901fb5a5e449.json\r\n",
      "ac5ab74a-4682-449c-9702-7327651dcfdf.json\r\n",
      "ac977b20-e439-4dc2-8708-8c6e90db8b2e.json\r\n",
      "ad5cec95-1d54-453a-81f6-6fb06b11b4ad.json\r\n",
      "b2cee617-b985-4ce4-9f85-a75b5134b4d8.json\r\n",
      "b6ff8ecd-eaf4-4fd6-a92b-73e8bbe50368.json\r\n",
      "b748eb17-acf5-471d-b6b9-0afa1ae012a2.json\r\n",
      "b80f60f9-484e-4ff4-bb96-a5193c1595eb.json\r\n",
      "bbfc49fc-e1bd-44ba-823a-8a5261555cf6.json\r\n",
      "bfeb3c2e-bde9-4375-ae68-5765caa88a37.json\r\n",
      "c773955c-4dd5-47ba-a7a7-09359142e62d.json\r\n",
      "c8af1454-db01-49d8-87a6-e9075a1989a7.json\r\n",
      "c979a7fa-2420-40a3-a29d-f77f777a6665.json\r\n",
      "d1e64b34-54ae-466c-a187-27933492ccc1.json\r\n",
      "d3babd7d-013e-4742-bb2a-cfbe018c1355.json\r\n",
      "d60fa67b-c7fc-4cc0-a0e8-7b7c90c9ff6a.json\r\n",
      "d8acf7fa-6571-4155-8e7e-97e631fcec66.json\r\n",
      "e07e6bf4-3134-427c-8154-43475f80dd4c.json\r\n",
      "e7c32d1f-9a75-4c82-97a7-09e3b039244a.json\r\n",
      "ed91c398-31c6-437f-a9d1-462e3ccfb6fa.json\r\n",
      "f6d2081a-0f79-4abf-9021-c4d254859890.json\r\n",
      "fabab216-0767-4aa5-85fa-bb8852eb30d3.json\r\n",
      "ff063ea9-62b8-4f29-9faa-04a09cb5fba2.json\r\n"
     ]
    }
   ],
   "source": [
    "!ls data/"
   ]
  },
  {
   "cell_type": "code",
   "execution_count": 15,
   "metadata": {},
   "outputs": [],
   "source": [
    "one_file = Path('/home/jupyter/insight_project/basilica-insight-project/data/08dfcc82-274c-41b6-a013-e80d70f3c57e.json')"
   ]
  },
  {
   "cell_type": "code",
   "execution_count": 16,
   "metadata": {},
   "outputs": [],
   "source": [
    "with open(one_file) as f:\n",
    "    data = json.load(f)"
   ]
  },
  {
   "cell_type": "code",
   "execution_count": 24,
   "metadata": {},
   "outputs": [
    {
     "data": {
      "text/plain": [
       "\"I don't really think R53 counts as AWS lock-in. If you move to another cloud platform you can move DNS/registrar pretty easily.\""
      ]
     },
     "execution_count": 24,
     "metadata": {},
     "output_type": "execute_result"
    }
   ],
   "source": [
    "data['data_points'][0]['body']"
   ]
  },
  {
   "cell_type": "code",
   "execution_count": 25,
   "metadata": {},
   "outputs": [
    {
     "data": {
      "text/plain": [
       "1"
      ]
     },
     "execution_count": 25,
     "metadata": {},
     "output_type": "execute_result"
    }
   ],
   "source": [
    "data['data_points'][0]['label']"
   ]
  },
  {
   "cell_type": "code",
   "execution_count": 26,
   "metadata": {},
   "outputs": [
    {
     "data": {
      "text/plain": [
       "'reddit'"
      ]
     },
     "execution_count": 26,
     "metadata": {},
     "output_type": "execute_result"
    }
   ],
   "source": [
    "data['data_points'][0]['source']"
   ]
  },
  {
   "cell_type": "code",
   "execution_count": 27,
   "metadata": {},
   "outputs": [
    {
     "name": "stdout",
     "output_type": "stream",
     "text": [
      "I don't really think R53 counts as AWS lock-in. If you move to another cloud platform you can move DNS/registrar pretty easily.\n",
      "1\n",
      "reddit\n"
     ]
    }
   ],
   "source": [
    "for one_data in data['data_points']:\n",
    "    print(one_data['body'])\n",
    "    print(one_data['label'])\n",
    "    print(one_data['source'])\n",
    "    break"
   ]
  },
  {
   "cell_type": "code",
   "execution_count": 69,
   "metadata": {},
   "outputs": [],
   "source": [
    "#Export\n",
    "def convert_json_to_csv(path):\n",
    "    #use path to grab json format Basilica data\n",
    "    #return csv file\n",
    "    #body,label,source\n",
    "    body, label, source = [], [], []\n",
    "    with open(path) as file:\n",
    "        data = json.load(file)\n",
    "    for item in data['data_points']:\n",
    "        body.append(item['body'])\n",
    "        label.append(item['label'])\n",
    "        source.append(item['source'])\n",
    "    df = pd.DataFrame(list(zip(body, label, source)),\n",
    "                     columns = ['Body', 'Label', 'Source'])\n",
    "    \n",
    "    if not os.path.exists(path.parent/'csv'):\n",
    "        os.makedirs(path.parent/'csv')\n",
    "    dest = path.parent/'csv'\n",
    "    filename = Path(path.name).stem + '.csv'\n",
    "    df.to_csv(dest/filename,index=False)\n",
    "    print(f'convert {filename} to csv')"
   ]
  },
  {
   "cell_type": "code",
   "execution_count": 75,
   "metadata": {},
   "outputs": [
    {
     "name": "stdout",
     "output_type": "stream",
     "text": [
      "convert 841123a9-67ad-43aa-822b-64d7d82a6692.csv to csv\n",
      "convert d1e64b34-54ae-466c-a187-27933492ccc1.csv to csv\n",
      "convert 72f177e3-bbc2-45b2-8dce-46df70c6f66f.csv to csv\n",
      "convert 35af56f5-ded2-47dd-9924-74ef684341b0.csv to csv\n",
      "convert ed91c398-31c6-437f-a9d1-462e3ccfb6fa.csv to csv\n",
      "convert b6ff8ecd-eaf4-4fd6-a92b-73e8bbe50368.csv to csv\n",
      "convert 73b0096a-b9e0-419e-8e9a-a0f597e4b223.csv to csv\n",
      "convert 24e4523c-6f50-4538-83ef-3766c10717e0.csv to csv\n",
      "convert d60fa67b-c7fc-4cc0-a0e8-7b7c90c9ff6a.csv to csv\n",
      "convert bbfc49fc-e1bd-44ba-823a-8a5261555cf6.csv to csv\n",
      "convert 88b92105-fff6-4a53-abdf-c6c59bb8409a.csv to csv\n",
      "convert 62a3e517-c730-41fa-9bb2-99151b354c03.csv to csv\n",
      "convert 38b736ee-3cd1-4138-ae75-b6467b18ad20.csv to csv\n",
      "convert 9ac12eaf-92e1-46fa-8ff5-0432fc4f1e4f.csv to csv\n",
      "convert b2cee617-b985-4ce4-9f85-a75b5134b4d8.csv to csv\n",
      "convert a837049a-ce51-4cbe-a044-f473509a18c2.csv to csv\n",
      "convert 68080779-ea49-46a8-ab67-e936e2660b27.csv to csv\n",
      "convert ac977b20-e439-4dc2-8708-8c6e90db8b2e.csv to csv\n",
      "convert 146e0475-5cbf-4e6b-baf9-f1d76db99e8a.csv to csv\n",
      "convert 513b82a9-d62a-4a98-a613-26abd544a51f.csv to csv\n",
      "convert 8a606863-c5c1-4e71-acf5-257625dd28d4.csv to csv\n",
      "convert c773955c-4dd5-47ba-a7a7-09359142e62d.csv to csv\n",
      "convert 87cb68e9-e1f5-473e-9195-3b419bd371c6.csv to csv\n",
      "convert 979d66cd-cf47-4b8d-a84a-3cf22dea23b5.csv to csv\n",
      "convert 517bfe13-064f-4f95-b724-11cd98aa35ff.csv to csv\n",
      "convert 876943a7-d7c8-43dd-ac4f-ab61a525fb7c.csv to csv\n",
      "convert 163354b9-3bc0-42a9-b58e-c5c3c611641c.csv to csv\n",
      "convert 62f608d5-af5e-448d-9ee7-03c38056c449.csv to csv\n",
      "convert 557b5a6e-9723-492b-98d9-7dd46ad7932e.csv to csv\n",
      "convert 94f805a1-3b21-49b5-aae6-c5328fd251cf.csv to csv\n",
      "convert ad5cec95-1d54-453a-81f6-6fb06b11b4ad.csv to csv\n",
      "convert 6f89af73-5538-443d-9e46-0ec24a952520.csv to csv\n",
      "convert 2810fd25-7c39-4f45-a7e4-b95bc75baf72.csv to csv\n",
      "convert 574856c7-6aa3-4b7b-98c2-c78ca6fe1782.csv to csv\n",
      "convert 9eb65ba8-c45f-471c-a3ff-182a061d3457.csv to csv\n",
      "convert 672d2e4a-594f-4e3a-a64a-c8fcb3113d74.csv to csv\n",
      "convert 2b3b804b-dd12-4f0e-9fc0-8687b627534c.csv to csv\n",
      "convert 52e7b79f-5906-4546-9409-e2881c9a560a.csv to csv\n",
      "convert 2413aac9-caa5-4aa9-94f6-77b591958bb4.csv to csv\n",
      "convert ac5ab74a-4682-449c-9702-7327651dcfdf.csv to csv\n",
      "convert b748eb17-acf5-471d-b6b9-0afa1ae012a2.csv to csv\n",
      "convert ff063ea9-62b8-4f29-9faa-04a09cb5fba2.csv to csv\n",
      "convert d8acf7fa-6571-4155-8e7e-97e631fcec66.csv to csv\n",
      "convert 8632b762-88b2-4b5d-8f58-bbec45574a95.csv to csv\n",
      "convert 9105429e-1148-424b-bbee-ba4d8155d648.csv to csv\n",
      "convert a18f56f5-7fb3-4b49-98dc-9702a2aebd0d.csv to csv\n",
      "convert bfeb3c2e-bde9-4375-ae68-5765caa88a37.csv to csv\n",
      "convert 4bb3619e-4fc3-457a-ade0-45f0eea586fe.csv to csv\n",
      "convert 5dc3f6f1-3ad4-4c42-9697-b0971cd1218e.csv to csv\n",
      "convert 6df83ab2-cd39-43bd-ad06-5c30806b0e06.csv to csv\n",
      "convert 56ce6ed6-3ed7-4e89-a93f-809c57b55dc8.csv to csv\n",
      "convert d3babd7d-013e-4742-bb2a-cfbe018c1355.csv to csv\n",
      "convert c979a7fa-2420-40a3-a29d-f77f777a6665.csv to csv\n",
      "convert 5b7c7f00-84f8-461d-bfb5-55a5ef8e34f1.csv to csv\n",
      "convert 15c7e4c1-90c5-4ec5-af75-f70579790656.csv to csv\n",
      "convert 2a0a1cf7-29c1-4459-ab85-b57ed06386a7.csv to csv\n",
      "convert 906e7dcf-9a2a-445c-9772-e415cff84bc5.csv to csv\n",
      "convert e7c32d1f-9a75-4c82-97a7-09e3b039244a.csv to csv\n",
      "convert b80f60f9-484e-4ff4-bb96-a5193c1595eb.csv to csv\n",
      "convert 79c08994-3dd3-4f16-8200-510e63f30219.csv to csv\n",
      "convert 0d981498-97b9-4c2c-9ef8-b320feed0347.csv to csv\n",
      "convert 5638e570-f777-4e46-9a9e-459a2a540802.csv to csv\n",
      "convert 08dfcc82-274c-41b6-a013-e80d70f3c57e.csv to csv\n",
      "convert fabab216-0767-4aa5-85fa-bb8852eb30d3.csv to csv\n",
      "convert 5efe0741-7ea8-4f5c-be7b-a6f20d8e489d.csv to csv\n",
      "convert 132d3064-6b74-477c-baf3-ac2a1017d8fe.csv to csv\n",
      "convert c8af1454-db01-49d8-87a6-e9075a1989a7.csv to csv\n",
      "convert 57a45e8c-48b9-4cf1-9483-0d80ab65cd22.csv to csv\n",
      "convert e07e6bf4-3134-427c-8154-43475f80dd4c.csv to csv\n",
      "convert ab337571-67cc-42ec-97c5-901fb5a5e449.csv to csv\n",
      "convert f6d2081a-0f79-4abf-9021-c4d254859890.csv to csv\n"
     ]
    }
   ],
   "source": [
    "for file in file_path:\n",
    "    convert_json_to_csv(file)"
   ]
  },
  {
   "cell_type": "code",
   "execution_count": 29,
   "metadata": {},
   "outputs": [],
   "source": [
    "df = convert_json_to_csv(one_file)"
   ]
  },
  {
   "cell_type": "code",
   "execution_count": 30,
   "metadata": {},
   "outputs": [
    {
     "data": {
      "text/html": [
       "<div>\n",
       "<style scoped>\n",
       "    .dataframe tbody tr th:only-of-type {\n",
       "        vertical-align: middle;\n",
       "    }\n",
       "\n",
       "    .dataframe tbody tr th {\n",
       "        vertical-align: top;\n",
       "    }\n",
       "\n",
       "    .dataframe thead th {\n",
       "        text-align: right;\n",
       "    }\n",
       "</style>\n",
       "<table border=\"1\" class=\"dataframe\">\n",
       "  <thead>\n",
       "    <tr style=\"text-align: right;\">\n",
       "      <th></th>\n",
       "      <th>Body</th>\n",
       "      <th>Label</th>\n",
       "      <th>Source</th>\n",
       "    </tr>\n",
       "  </thead>\n",
       "  <tbody>\n",
       "    <tr>\n",
       "      <th>0</th>\n",
       "      <td>I don't really think R53 counts as AWS lock-in...</td>\n",
       "      <td>1</td>\n",
       "      <td>reddit</td>\n",
       "    </tr>\n",
       "    <tr>\n",
       "      <th>1</th>\n",
       "      <td>Move aside Netlify, I am switching to @zeithq ...</td>\n",
       "      <td>1</td>\n",
       "      <td>twitter</td>\n",
       "    </tr>\n",
       "    <tr>\n",
       "      <th>2</th>\n",
       "      <td>... and here is a simple #awscdk (infrastructu...</td>\n",
       "      <td>1</td>\n",
       "      <td>twitter</td>\n",
       "    </tr>\n",
       "    <tr>\n",
       "      <th>3</th>\n",
       "      <td>Advance your skillset with this e-book from Pa...</td>\n",
       "      <td>0</td>\n",
       "      <td>twitter</td>\n",
       "    </tr>\n",
       "    <tr>\n",
       "      <th>4</th>\n",
       "      <td>08-21 13:43 - 'Which is your favorite Linux De...</td>\n",
       "      <td>1</td>\n",
       "      <td>reddit</td>\n",
       "    </tr>\n",
       "  </tbody>\n",
       "</table>\n",
       "</div>"
      ],
      "text/plain": [
       "                                                Body  Label   Source\n",
       "0  I don't really think R53 counts as AWS lock-in...      1   reddit\n",
       "1  Move aside Netlify, I am switching to @zeithq ...      1  twitter\n",
       "2  ... and here is a simple #awscdk (infrastructu...      1  twitter\n",
       "3  Advance your skillset with this e-book from Pa...      0  twitter\n",
       "4  08-21 13:43 - 'Which is your favorite Linux De...      1   reddit"
      ]
     },
     "execution_count": 30,
     "metadata": {},
     "output_type": "execute_result"
    }
   ],
   "source": [
    "df.head()"
   ]
  },
  {
   "cell_type": "code",
   "execution_count": 32,
   "metadata": {},
   "outputs": [
    {
     "data": {
      "text/plain": [
       "<matplotlib.axes._subplots.AxesSubplot at 0x7efed758db70>"
      ]
     },
     "execution_count": 32,
     "metadata": {},
     "output_type": "execute_result"
    },
    {
     "data": {
      "image/png": "[encoded data removed]",
      "text/plain": [
       "<Figure size 432x288 with 1 Axes>"
      ]
     },
     "metadata": {
      "needs_background": "light"
     },
     "output_type": "display_data"
    }
   ],
   "source": [
    "df['Label'].value_counts().plot(kind='bar')"
   ]
  },
  {
   "cell_type": "code",
   "execution_count": 33,
   "metadata": {},
   "outputs": [
    {
     "data": {
      "text/plain": [
       "1    147\n",
       "0     41\n",
       "Name: Label, dtype: int64"
      ]
     },
     "execution_count": 33,
     "metadata": {},
     "output_type": "execute_result"
    }
   ],
   "source": [
    "df['Label'].value_counts()"
   ]
  },
  {
   "cell_type": "code",
   "execution_count": 34,
   "metadata": {},
   "outputs": [
    {
     "data": {
      "text/plain": [
       "188"
      ]
     },
     "execution_count": 34,
     "metadata": {},
     "output_type": "execute_result"
    }
   ],
   "source": [
    "147+41"
   ]
  },
  {
   "cell_type": "code",
   "execution_count": 36,
   "metadata": {},
   "outputs": [],
   "source": [
    "path = Path('/home/jupyter/insight_project/basilica-insight-project/data')\n",
    "file_path = path.ls()"
   ]
  },
  {
   "cell_type": "code",
   "execution_count": 38,
   "metadata": {},
   "outputs": [],
   "source": [
    "df = convert_json_to_csv(file_path[0])"
   ]
  },
  {
   "cell_type": "code",
   "execution_count": 39,
   "metadata": {},
   "outputs": [
    {
     "data": {
      "text/html": [
       "<div>\n",
       "<style scoped>\n",
       "    .dataframe tbody tr th:only-of-type {\n",
       "        vertical-align: middle;\n",
       "    }\n",
       "\n",
       "    .dataframe tbody tr th {\n",
       "        vertical-align: top;\n",
       "    }\n",
       "\n",
       "    .dataframe thead th {\n",
       "        text-align: right;\n",
       "    }\n",
       "</style>\n",
       "<table border=\"1\" class=\"dataframe\">\n",
       "  <thead>\n",
       "    <tr style=\"text-align: right;\">\n",
       "      <th></th>\n",
       "      <th>Body</th>\n",
       "      <th>Label</th>\n",
       "      <th>Source</th>\n",
       "    </tr>\n",
       "  </thead>\n",
       "  <tbody>\n",
       "    <tr>\n",
       "      <th>0</th>\n",
       "      <td>@desperosolace @yu_malaya I agree! It's ridicu...</td>\n",
       "      <td>1</td>\n",
       "      <td>twitter</td>\n",
       "    </tr>\n",
       "    <tr>\n",
       "      <th>1</th>\n",
       "      <td>@yu_malaya it's total BS!!! i hate this so muc...</td>\n",
       "      <td>1</td>\n",
       "      <td>twitter</td>\n",
       "    </tr>\n",
       "    <tr>\n",
       "      <th>2</th>\n",
       "      <td>@owedbetter_ I wanted to withdraw my applicati...</td>\n",
       "      <td>1</td>\n",
       "      <td>twitter</td>\n",
       "    </tr>\n",
       "    <tr>\n",
       "      <th>3</th>\n",
       "      <td>Good question. My situation was a bit differen...</td>\n",
       "      <td>0</td>\n",
       "      <td>reddit</td>\n",
       "    </tr>\n",
       "    <tr>\n",
       "      <th>4</th>\n",
       "      <td>\"Like me, you can also achieve your IELTS band...</td>\n",
       "      <td>0</td>\n",
       "      <td>twitter</td>\n",
       "    </tr>\n",
       "  </tbody>\n",
       "</table>\n",
       "</div>"
      ],
      "text/plain": [
       "                                                Body  Label   Source\n",
       "0  @desperosolace @yu_malaya I agree! It's ridicu...      1  twitter\n",
       "1  @yu_malaya it's total BS!!! i hate this so muc...      1  twitter\n",
       "2  @owedbetter_ I wanted to withdraw my applicati...      1  twitter\n",
       "3  Good question. My situation was a bit differen...      0   reddit\n",
       "4  \"Like me, you can also achieve your IELTS band...      0  twitter"
      ]
     },
     "execution_count": 39,
     "metadata": {},
     "output_type": "execute_result"
    }
   ],
   "source": [
    "df.head()"
   ]
  },
  {
   "cell_type": "code",
   "execution_count": 68,
   "metadata": {},
   "outputs": [
    {
     "data": {
      "text/plain": [
       "'841123a9-67ad-43aa-822b-64d7d82a6692.csv'"
      ]
     },
     "execution_count": 68,
     "metadata": {},
     "output_type": "execute_result"
    }
   ],
   "source": [
    "Path(file_path[0].name).stem + '.csv'"
   ]
  },
  {
   "cell_type": "code",
   "execution_count": 51,
   "metadata": {},
   "outputs": [],
   "source": [
    "if not os.path.exists(file_path[0].parent/'csv'):\n",
    "    print('yes')"
   ]
  },
  {
   "cell_type": "code",
   "execution_count": 50,
   "metadata": {},
   "outputs": [],
   "source": [
    "!ls {file_path[0].parent/'csv'}"
   ]
  },
  {
   "cell_type": "code",
   "execution_count": 70,
   "metadata": {},
   "outputs": [
    {
     "name": "stdout",
     "output_type": "stream",
     "text": [
      "convert 841123a9-67ad-43aa-822b-64d7d82a6692.csv to csv\n"
     ]
    }
   ],
   "source": [
    "convert_json_to_csv(file_path[0])"
   ]
  },
  {
   "cell_type": "code",
   "execution_count": 76,
   "metadata": {},
   "outputs": [
    {
     "name": "stdout",
     "output_type": "stream",
     "text": [
      "08dfcc82-274c-41b6-a013-e80d70f3c57e.csv\r\n",
      "0d981498-97b9-4c2c-9ef8-b320feed0347.csv\r\n",
      "132d3064-6b74-477c-baf3-ac2a1017d8fe.csv\r\n",
      "146e0475-5cbf-4e6b-baf9-f1d76db99e8a.csv\r\n",
      "15c7e4c1-90c5-4ec5-af75-f70579790656.csv\r\n",
      "163354b9-3bc0-42a9-b58e-c5c3c611641c.csv\r\n",
      "2413aac9-caa5-4aa9-94f6-77b591958bb4.csv\r\n",
      "24e4523c-6f50-4538-83ef-3766c10717e0.csv\r\n",
      "2810fd25-7c39-4f45-a7e4-b95bc75baf72.csv\r\n",
      "2a0a1cf7-29c1-4459-ab85-b57ed06386a7.csv\r\n",
      "2b3b804b-dd12-4f0e-9fc0-8687b627534c.csv\r\n",
      "35af56f5-ded2-47dd-9924-74ef684341b0.csv\r\n",
      "38b736ee-3cd1-4138-ae75-b6467b18ad20.csv\r\n",
      "4bb3619e-4fc3-457a-ade0-45f0eea586fe.csv\r\n",
      "513b82a9-d62a-4a98-a613-26abd544a51f.csv\r\n",
      "517bfe13-064f-4f95-b724-11cd98aa35ff.csv\r\n",
      "52e7b79f-5906-4546-9409-e2881c9a560a.csv\r\n",
      "557b5a6e-9723-492b-98d9-7dd46ad7932e.csv\r\n",
      "5638e570-f777-4e46-9a9e-459a2a540802.csv\r\n",
      "56ce6ed6-3ed7-4e89-a93f-809c57b55dc8.csv\r\n",
      "574856c7-6aa3-4b7b-98c2-c78ca6fe1782.csv\r\n",
      "57a45e8c-48b9-4cf1-9483-0d80ab65cd22.csv\r\n",
      "5b7c7f00-84f8-461d-bfb5-55a5ef8e34f1.csv\r\n",
      "5dc3f6f1-3ad4-4c42-9697-b0971cd1218e.csv\r\n",
      "5efe0741-7ea8-4f5c-be7b-a6f20d8e489d.csv\r\n",
      "62a3e517-c730-41fa-9bb2-99151b354c03.csv\r\n",
      "62f608d5-af5e-448d-9ee7-03c38056c449.csv\r\n",
      "672d2e4a-594f-4e3a-a64a-c8fcb3113d74.csv\r\n",
      "68080779-ea49-46a8-ab67-e936e2660b27.csv\r\n",
      "6df83ab2-cd39-43bd-ad06-5c30806b0e06.csv\r\n",
      "6f89af73-5538-443d-9e46-0ec24a952520.csv\r\n",
      "72f177e3-bbc2-45b2-8dce-46df70c6f66f.csv\r\n",
      "73b0096a-b9e0-419e-8e9a-a0f597e4b223.csv\r\n",
      "79c08994-3dd3-4f16-8200-510e63f30219.csv\r\n",
      "841123a9-67ad-43aa-822b-64d7d82a6692.csv\r\n",
      "8632b762-88b2-4b5d-8f58-bbec45574a95.csv\r\n",
      "876943a7-d7c8-43dd-ac4f-ab61a525fb7c.csv\r\n",
      "87cb68e9-e1f5-473e-9195-3b419bd371c6.csv\r\n",
      "88b92105-fff6-4a53-abdf-c6c59bb8409a.csv\r\n",
      "8a606863-c5c1-4e71-acf5-257625dd28d4.csv\r\n",
      "906e7dcf-9a2a-445c-9772-e415cff84bc5.csv\r\n",
      "9105429e-1148-424b-bbee-ba4d8155d648.csv\r\n",
      "94f805a1-3b21-49b5-aae6-c5328fd251cf.csv\r\n",
      "979d66cd-cf47-4b8d-a84a-3cf22dea23b5.csv\r\n",
      "9ac12eaf-92e1-46fa-8ff5-0432fc4f1e4f.csv\r\n",
      "9eb65ba8-c45f-471c-a3ff-182a061d3457.csv\r\n",
      "a18f56f5-7fb3-4b49-98dc-9702a2aebd0d.csv\r\n",
      "a837049a-ce51-4cbe-a044-f473509a18c2.csv\r\n",
      "ab337571-67cc-42ec-97c5-901fb5a5e449.csv\r\n",
      "ac5ab74a-4682-449c-9702-7327651dcfdf.csv\r\n",
      "ac977b20-e439-4dc2-8708-8c6e90db8b2e.csv\r\n",
      "ad5cec95-1d54-453a-81f6-6fb06b11b4ad.csv\r\n",
      "b2cee617-b985-4ce4-9f85-a75b5134b4d8.csv\r\n",
      "b6ff8ecd-eaf4-4fd6-a92b-73e8bbe50368.csv\r\n",
      "b748eb17-acf5-471d-b6b9-0afa1ae012a2.csv\r\n",
      "b80f60f9-484e-4ff4-bb96-a5193c1595eb.csv\r\n",
      "bbfc49fc-e1bd-44ba-823a-8a5261555cf6.csv\r\n",
      "bfeb3c2e-bde9-4375-ae68-5765caa88a37.csv\r\n",
      "c773955c-4dd5-47ba-a7a7-09359142e62d.csv\r\n",
      "c8af1454-db01-49d8-87a6-e9075a1989a7.csv\r\n",
      "c979a7fa-2420-40a3-a29d-f77f777a6665.csv\r\n",
      "d1e64b34-54ae-466c-a187-27933492ccc1.csv\r\n",
      "d3babd7d-013e-4742-bb2a-cfbe018c1355.csv\r\n",
      "d60fa67b-c7fc-4cc0-a0e8-7b7c90c9ff6a.csv\r\n",
      "d8acf7fa-6571-4155-8e7e-97e631fcec66.csv\r\n",
      "e07e6bf4-3134-427c-8154-43475f80dd4c.csv\r\n",
      "e7c32d1f-9a75-4c82-97a7-09e3b039244a.csv\r\n",
      "ed91c398-31c6-437f-a9d1-462e3ccfb6fa.csv\r\n",
      "f6d2081a-0f79-4abf-9021-c4d254859890.csv\r\n",
      "fabab216-0767-4aa5-85fa-bb8852eb30d3.csv\r\n",
      "ff063ea9-62b8-4f29-9faa-04a09cb5fba2.csv\r\n"
     ]
    }
   ],
   "source": [
    "!ls {path/'csv'}"
   ]
  },
  {
   "cell_type": "code",
   "execution_count": 72,
   "metadata": {},
   "outputs": [
    {
     "data": {
      "text/html": [
       "<div>\n",
       "<style scoped>\n",
       "    .dataframe tbody tr th:only-of-type {\n",
       "        vertical-align: middle;\n",
       "    }\n",
       "\n",
       "    .dataframe tbody tr th {\n",
       "        vertical-align: top;\n",
       "    }\n",
       "\n",
       "    .dataframe thead th {\n",
       "        text-align: right;\n",
       "    }\n",
       "</style>\n",
       "<table border=\"1\" class=\"dataframe\">\n",
       "  <thead>\n",
       "    <tr style=\"text-align: right;\">\n",
       "      <th></th>\n",
       "      <th>Body</th>\n",
       "      <th>Label</th>\n",
       "      <th>Source</th>\n",
       "    </tr>\n",
       "  </thead>\n",
       "  <tbody>\n",
       "    <tr>\n",
       "      <th>0</th>\n",
       "      <td>@desperosolace @yu_malaya I agree! It's ridicu...</td>\n",
       "      <td>1</td>\n",
       "      <td>twitter</td>\n",
       "    </tr>\n",
       "    <tr>\n",
       "      <th>1</th>\n",
       "      <td>@yu_malaya it's total BS!!! i hate this so muc...</td>\n",
       "      <td>1</td>\n",
       "      <td>twitter</td>\n",
       "    </tr>\n",
       "    <tr>\n",
       "      <th>2</th>\n",
       "      <td>@owedbetter_ I wanted to withdraw my applicati...</td>\n",
       "      <td>1</td>\n",
       "      <td>twitter</td>\n",
       "    </tr>\n",
       "    <tr>\n",
       "      <th>3</th>\n",
       "      <td>Good question. My situation was a bit differen...</td>\n",
       "      <td>0</td>\n",
       "      <td>reddit</td>\n",
       "    </tr>\n",
       "    <tr>\n",
       "      <th>4</th>\n",
       "      <td>\"Like me, you can also achieve your IELTS band...</td>\n",
       "      <td>0</td>\n",
       "      <td>twitter</td>\n",
       "    </tr>\n",
       "  </tbody>\n",
       "</table>\n",
       "</div>"
      ],
      "text/plain": [
       "                                                Body  Label   Source\n",
       "0  @desperosolace @yu_malaya I agree! It's ridicu...      1  twitter\n",
       "1  @yu_malaya it's total BS!!! i hate this so muc...      1  twitter\n",
       "2  @owedbetter_ I wanted to withdraw my applicati...      1  twitter\n",
       "3  Good question. My situation was a bit differen...      0   reddit\n",
       "4  \"Like me, you can also achieve your IELTS band...      0  twitter"
      ]
     },
     "execution_count": 72,
     "metadata": {},
     "output_type": "execute_result"
    }
   ],
   "source": [
    "df_new = pd.read_csv(path/'csv/841123a9-67ad-43aa-822b-64d7d82a6692.csv')\n",
    "df_new.head()"
   ]
  },
  {
   "cell_type": "markdown",
   "metadata": {},
   "source": [
    "# Fin\n",
    "1. Truned all json files to csv, dropped their embedding\n",
    "2. json_to_csv will convert Basilica json format file to csv file\n",
    "3. csv format Body Label Source"
   ]
  },
  {
   "cell_type": "code",
   "execution_count": null,
   "metadata": {},
   "outputs": [],
   "source": []
  }
 ],
 "metadata": {
  "kernelspec": {
   "display_name": "Python 3",
   "language": "python",
   "name": "python3"
  },
  "language_info": {
   "codemirror_mode": {
    "name": "ipython",
    "version": 3
   },
   "file_extension": ".py",
   "mimetype": "text/x-python",
   "name": "python",
   "nbconvert_exporter": "python",
   "pygments_lexer": "ipython3",
   "version": "3.7.4"
  }
 },
 "nbformat": 4,
 "nbformat_minor": 2
}
